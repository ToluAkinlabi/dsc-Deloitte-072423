{
 "cells": [
  {
   "cell_type": "markdown",
   "metadata": {},
   "source": [
    "# Data Manipulation and Plotting with `pandas`"
   ]
  },
  {
   "cell_type": "code",
   "execution_count": 4,
   "metadata": {},
   "outputs": [],
   "source": [
    "import pandas as pd\n",
    "import numpy as np\n",
    "import matplotlib.pyplot as plt\n",
    "import seaborn as sns"
   ]
  },
  {
   "cell_type": "markdown",
   "metadata": {},
   "source": [
    "![pandas](https://upload.wikimedia.org/wikipedia/commons/thumb/e/ed/Pandas_logo.svg/2880px-Pandas_logo.svg.png)"
   ]
  },
  {
   "cell_type": "markdown",
   "metadata": {},
   "source": [
    "## Learning Goals\n",
    "\n",
    "- Load .csv files into `pandas` DataFrames\n",
    "- Describe and manipulate data in Series and DataFrames\n",
    "- Visualize data using DataFrame methods and `matplotlib`"
   ]
  },
  {
   "cell_type": "markdown",
   "metadata": {},
   "source": [
    "## What is Pandas?\n",
    "\n",
    "Pandas, as [the Anaconda docs](https://docs.anaconda.com/anaconda/packages/py3.7_osx-64/) tell us, offers us \"High-performance, easy-to-use data structures and data analysis tools.\" It's something like \"Excel for Python\", but it's quite a bit more powerful."
   ]
  },
  {
   "cell_type": "markdown",
   "metadata": {},
   "source": [
    "Let's read in the heart dataset.\n",
    "\n",
    "Pandas has many methods for reading different types of files. Note that here we have a .csv file.\n",
    "\n",
    "Read about this dataset [here](https://www.kaggle.com/ronitf/heart-disease-uci)."
   ]
  },
  {
   "cell_type": "code",
<<<<<<< HEAD
   "execution_count": 5,
=======
   "execution_count": 16,
>>>>>>> upstream/main
   "metadata": {},
   "outputs": [],
   "source": [
    "import pandas as pd\n",
    "\n",
    "heart_df = pd.read_csv('./heart.csv')"
   ]
  },
  {
   "cell_type": "markdown",
   "metadata": {},
   "source": [
    "The output of the `.read_csv()` function is a pandas *DataFrame*, which has a familiar tabaular structure of rows and columns."
   ]
  },
  {
   "cell_type": "code",
<<<<<<< HEAD
   "execution_count": 6,
=======
   "execution_count": 3,
>>>>>>> upstream/main
   "metadata": {},
   "outputs": [
    {
     "data": {
      "text/plain": [
       "pandas.core.frame.DataFrame"
      ]
     },
<<<<<<< HEAD
     "execution_count": 6,
=======
     "execution_count": 3,
>>>>>>> upstream/main
     "metadata": {},
     "output_type": "execute_result"
    }
   ],
   "source": [
    "type(heart_df)"
   ]
  },
  {
   "cell_type": "code",
<<<<<<< HEAD
   "execution_count": 8,
=======
   "execution_count": 13,
>>>>>>> upstream/main
   "metadata": {},
   "outputs": [
    {
     "data": {
      "text/html": [
       "<div>\n",
       "<style scoped>\n",
       "    .dataframe tbody tr th:only-of-type {\n",
       "        vertical-align: middle;\n",
       "    }\n",
       "\n",
       "    .dataframe tbody tr th {\n",
       "        vertical-align: top;\n",
       "    }\n",
       "\n",
       "    .dataframe thead th {\n",
       "        text-align: right;\n",
       "    }\n",
       "</style>\n",
       "<table border=\"1\" class=\"dataframe\">\n",
       "  <thead>\n",
       "    <tr style=\"text-align: right;\">\n",
       "      <th></th>\n",
       "      <th>age</th>\n",
       "      <th>sex</th>\n",
       "      <th>cp</th>\n",
       "      <th>trestbps</th>\n",
       "      <th>chol</th>\n",
       "      <th>fbs</th>\n",
       "      <th>restecg</th>\n",
       "      <th>thalach</th>\n",
       "      <th>exang</th>\n",
       "      <th>oldpeak</th>\n",
       "      <th>slope</th>\n",
       "      <th>ca</th>\n",
       "      <th>thal</th>\n",
       "      <th>target</th>\n",
       "    </tr>\n",
       "  </thead>\n",
       "  <tbody>\n",
       "    <tr>\n",
       "      <th>0</th>\n",
       "      <td>63</td>\n",
       "      <td>1</td>\n",
       "      <td>3</td>\n",
       "      <td>145</td>\n",
       "      <td>233</td>\n",
       "      <td>1</td>\n",
       "      <td>0</td>\n",
       "      <td>150</td>\n",
       "      <td>0</td>\n",
       "      <td>2.3</td>\n",
       "      <td>0</td>\n",
       "      <td>0</td>\n",
       "      <td>1</td>\n",
       "      <td>1</td>\n",
       "    </tr>\n",
       "    <tr>\n",
       "      <th>1</th>\n",
       "      <td>37</td>\n",
       "      <td>1</td>\n",
       "      <td>2</td>\n",
       "      <td>130</td>\n",
       "      <td>250</td>\n",
       "      <td>0</td>\n",
       "      <td>1</td>\n",
       "      <td>187</td>\n",
       "      <td>0</td>\n",
       "      <td>3.5</td>\n",
       "      <td>0</td>\n",
       "      <td>0</td>\n",
       "      <td>2</td>\n",
       "      <td>1</td>\n",
       "    </tr>\n",
       "    <tr>\n",
       "      <th>2</th>\n",
       "      <td>41</td>\n",
       "      <td>0</td>\n",
       "      <td>1</td>\n",
       "      <td>130</td>\n",
       "      <td>204</td>\n",
       "      <td>0</td>\n",
       "      <td>0</td>\n",
       "      <td>172</td>\n",
       "      <td>0</td>\n",
       "      <td>1.4</td>\n",
       "      <td>2</td>\n",
       "      <td>0</td>\n",
       "      <td>2</td>\n",
       "      <td>1</td>\n",
       "    </tr>\n",
       "    <tr>\n",
       "      <th>3</th>\n",
       "      <td>56</td>\n",
       "      <td>1</td>\n",
       "      <td>1</td>\n",
       "      <td>120</td>\n",
       "      <td>236</td>\n",
       "      <td>0</td>\n",
       "      <td>1</td>\n",
       "      <td>178</td>\n",
       "      <td>0</td>\n",
       "      <td>0.8</td>\n",
       "      <td>2</td>\n",
       "      <td>0</td>\n",
       "      <td>2</td>\n",
       "      <td>1</td>\n",
       "    </tr>\n",
       "    <tr>\n",
       "      <th>4</th>\n",
       "      <td>57</td>\n",
       "      <td>0</td>\n",
       "      <td>0</td>\n",
       "      <td>120</td>\n",
       "      <td>354</td>\n",
       "      <td>0</td>\n",
       "      <td>1</td>\n",
       "      <td>163</td>\n",
       "      <td>1</td>\n",
       "      <td>0.6</td>\n",
       "      <td>2</td>\n",
       "      <td>0</td>\n",
       "      <td>2</td>\n",
       "      <td>1</td>\n",
       "    </tr>\n",
       "    <tr>\n",
       "      <th>...</th>\n",
       "      <td>...</td>\n",
       "      <td>...</td>\n",
       "      <td>...</td>\n",
       "      <td>...</td>\n",
       "      <td>...</td>\n",
       "      <td>...</td>\n",
       "      <td>...</td>\n",
       "      <td>...</td>\n",
       "      <td>...</td>\n",
       "      <td>...</td>\n",
       "      <td>...</td>\n",
       "      <td>...</td>\n",
       "      <td>...</td>\n",
       "      <td>...</td>\n",
       "    </tr>\n",
       "    <tr>\n",
       "      <th>298</th>\n",
       "      <td>57</td>\n",
       "      <td>0</td>\n",
       "      <td>0</td>\n",
       "      <td>140</td>\n",
       "      <td>241</td>\n",
       "      <td>0</td>\n",
       "      <td>1</td>\n",
       "      <td>123</td>\n",
       "      <td>1</td>\n",
       "      <td>0.2</td>\n",
       "      <td>1</td>\n",
       "      <td>0</td>\n",
       "      <td>3</td>\n",
       "      <td>0</td>\n",
       "    </tr>\n",
       "    <tr>\n",
       "      <th>299</th>\n",
       "      <td>45</td>\n",
       "      <td>1</td>\n",
       "      <td>3</td>\n",
       "      <td>110</td>\n",
       "      <td>264</td>\n",
       "      <td>0</td>\n",
       "      <td>1</td>\n",
       "      <td>132</td>\n",
       "      <td>0</td>\n",
       "      <td>1.2</td>\n",
       "      <td>1</td>\n",
       "      <td>0</td>\n",
       "      <td>3</td>\n",
       "      <td>0</td>\n",
       "    </tr>\n",
       "    <tr>\n",
       "      <th>300</th>\n",
       "      <td>68</td>\n",
       "      <td>1</td>\n",
       "      <td>0</td>\n",
       "      <td>144</td>\n",
       "      <td>193</td>\n",
       "      <td>1</td>\n",
       "      <td>1</td>\n",
       "      <td>141</td>\n",
       "      <td>0</td>\n",
       "      <td>3.4</td>\n",
       "      <td>1</td>\n",
       "      <td>2</td>\n",
       "      <td>3</td>\n",
       "      <td>0</td>\n",
       "    </tr>\n",
       "    <tr>\n",
       "      <th>301</th>\n",
       "      <td>57</td>\n",
       "      <td>1</td>\n",
       "      <td>0</td>\n",
       "      <td>130</td>\n",
       "      <td>131</td>\n",
       "      <td>0</td>\n",
       "      <td>1</td>\n",
       "      <td>115</td>\n",
       "      <td>1</td>\n",
       "      <td>1.2</td>\n",
       "      <td>1</td>\n",
       "      <td>1</td>\n",
       "      <td>3</td>\n",
       "      <td>0</td>\n",
       "    </tr>\n",
       "    <tr>\n",
       "      <th>302</th>\n",
       "      <td>57</td>\n",
       "      <td>0</td>\n",
       "      <td>1</td>\n",
       "      <td>130</td>\n",
       "      <td>236</td>\n",
       "      <td>0</td>\n",
       "      <td>0</td>\n",
       "      <td>174</td>\n",
       "      <td>0</td>\n",
       "      <td>0.0</td>\n",
       "      <td>1</td>\n",
       "      <td>1</td>\n",
       "      <td>2</td>\n",
       "      <td>0</td>\n",
       "    </tr>\n",
       "  </tbody>\n",
       "</table>\n",
       "<p>303 rows × 14 columns</p>\n",
       "</div>"
      ],
      "text/plain": [
       "     age  sex  cp  trestbps  chol  fbs  restecg  thalach  exang  oldpeak  \\\n",
       "0     63    1   3       145   233    1        0      150      0      2.3   \n",
       "1     37    1   2       130   250    0        1      187      0      3.5   \n",
       "2     41    0   1       130   204    0        0      172      0      1.4   \n",
       "3     56    1   1       120   236    0        1      178      0      0.8   \n",
       "4     57    0   0       120   354    0        1      163      1      0.6   \n",
       "..   ...  ...  ..       ...   ...  ...      ...      ...    ...      ...   \n",
       "298   57    0   0       140   241    0        1      123      1      0.2   \n",
       "299   45    1   3       110   264    0        1      132      0      1.2   \n",
       "300   68    1   0       144   193    1        1      141      0      3.4   \n",
       "301   57    1   0       130   131    0        1      115      1      1.2   \n",
       "302   57    0   1       130   236    0        0      174      0      0.0   \n",
       "\n",
       "     slope  ca  thal  target  \n",
       "0        0   0     1       1  \n",
       "1        0   0     2       1  \n",
       "2        2   0     2       1  \n",
       "3        2   0     2       1  \n",
       "4        2   0     2       1  \n",
       "..     ...  ..   ...     ...  \n",
       "298      1   0     3       0  \n",
       "299      1   0     3       0  \n",
       "300      1   2     3       0  \n",
       "301      1   1     3       0  \n",
       "302      1   1     2       0  \n",
       "\n",
       "[303 rows x 14 columns]"
      ]
     },
<<<<<<< HEAD
     "execution_count": 8,
=======
     "execution_count": 13,
>>>>>>> upstream/main
     "metadata": {},
     "output_type": "execute_result"
    }
   ],
   "source": [
    "heart_df"
   ]
  },
  {
   "cell_type": "markdown",
   "metadata": {},
   "source": [
    "## DataFrames and Series\n",
    "\n",
    "Two main types of pandas objects are the DataFrame and the Series, the latter being in effect a single column of the former:"
   ]
  },
  {
   "cell_type": "code",
<<<<<<< HEAD
   "execution_count": 7,
=======
   "execution_count": 10,
   "metadata": {},
   "outputs": [
    {
     "data": {
      "text/html": [
       "<div>\n",
       "<style scoped>\n",
       "    .dataframe tbody tr th:only-of-type {\n",
       "        vertical-align: middle;\n",
       "    }\n",
       "\n",
       "    .dataframe tbody tr th {\n",
       "        vertical-align: top;\n",
       "    }\n",
       "\n",
       "    .dataframe thead th {\n",
       "        text-align: right;\n",
       "    }\n",
       "</style>\n",
       "<table border=\"1\" class=\"dataframe\">\n",
       "  <thead>\n",
       "    <tr style=\"text-align: right;\">\n",
       "      <th></th>\n",
       "      <th>age</th>\n",
       "      <th>sex</th>\n",
       "      <th>cp</th>\n",
       "      <th>trestbps</th>\n",
       "      <th>chol</th>\n",
       "      <th>fbs</th>\n",
       "      <th>restecg</th>\n",
       "      <th>thalach</th>\n",
       "      <th>exang</th>\n",
       "      <th>oldpeak</th>\n",
       "      <th>slope</th>\n",
       "      <th>ca</th>\n",
       "      <th>thal</th>\n",
       "      <th>target</th>\n",
       "      <th>new col</th>\n",
       "    </tr>\n",
       "  </thead>\n",
       "  <tbody>\n",
       "    <tr>\n",
       "      <th>0</th>\n",
       "      <td>63</td>\n",
       "      <td>1</td>\n",
       "      <td>3</td>\n",
       "      <td>145</td>\n",
       "      <td>233</td>\n",
       "      <td>1</td>\n",
       "      <td>0</td>\n",
       "      <td>150</td>\n",
       "      <td>0</td>\n",
       "      <td>2.3</td>\n",
       "      <td>0</td>\n",
       "      <td>0</td>\n",
       "      <td>1</td>\n",
       "      <td>1</td>\n",
       "      <td>0</td>\n",
       "    </tr>\n",
       "    <tr>\n",
       "      <th>1</th>\n",
       "      <td>37</td>\n",
       "      <td>1</td>\n",
       "      <td>2</td>\n",
       "      <td>130</td>\n",
       "      <td>250</td>\n",
       "      <td>0</td>\n",
       "      <td>1</td>\n",
       "      <td>187</td>\n",
       "      <td>0</td>\n",
       "      <td>3.5</td>\n",
       "      <td>0</td>\n",
       "      <td>0</td>\n",
       "      <td>2</td>\n",
       "      <td>1</td>\n",
       "      <td>1</td>\n",
       "    </tr>\n",
       "    <tr>\n",
       "      <th>2</th>\n",
       "      <td>41</td>\n",
       "      <td>0</td>\n",
       "      <td>1</td>\n",
       "      <td>130</td>\n",
       "      <td>204</td>\n",
       "      <td>0</td>\n",
       "      <td>0</td>\n",
       "      <td>172</td>\n",
       "      <td>0</td>\n",
       "      <td>1.4</td>\n",
       "      <td>2</td>\n",
       "      <td>0</td>\n",
       "      <td>2</td>\n",
       "      <td>1</td>\n",
       "      <td>2</td>\n",
       "    </tr>\n",
       "    <tr>\n",
       "      <th>3</th>\n",
       "      <td>56</td>\n",
       "      <td>1</td>\n",
       "      <td>1</td>\n",
       "      <td>120</td>\n",
       "      <td>236</td>\n",
       "      <td>0</td>\n",
       "      <td>1</td>\n",
       "      <td>178</td>\n",
       "      <td>0</td>\n",
       "      <td>0.8</td>\n",
       "      <td>2</td>\n",
       "      <td>0</td>\n",
       "      <td>2</td>\n",
       "      <td>1</td>\n",
       "      <td>3</td>\n",
       "    </tr>\n",
       "    <tr>\n",
       "      <th>4</th>\n",
       "      <td>57</td>\n",
       "      <td>0</td>\n",
       "      <td>0</td>\n",
       "      <td>120</td>\n",
       "      <td>354</td>\n",
       "      <td>0</td>\n",
       "      <td>1</td>\n",
       "      <td>163</td>\n",
       "      <td>1</td>\n",
       "      <td>0.6</td>\n",
       "      <td>2</td>\n",
       "      <td>0</td>\n",
       "      <td>2</td>\n",
       "      <td>1</td>\n",
       "      <td>4</td>\n",
       "    </tr>\n",
       "    <tr>\n",
       "      <th>...</th>\n",
       "      <td>...</td>\n",
       "      <td>...</td>\n",
       "      <td>...</td>\n",
       "      <td>...</td>\n",
       "      <td>...</td>\n",
       "      <td>...</td>\n",
       "      <td>...</td>\n",
       "      <td>...</td>\n",
       "      <td>...</td>\n",
       "      <td>...</td>\n",
       "      <td>...</td>\n",
       "      <td>...</td>\n",
       "      <td>...</td>\n",
       "      <td>...</td>\n",
       "      <td>...</td>\n",
       "    </tr>\n",
       "    <tr>\n",
       "      <th>298</th>\n",
       "      <td>57</td>\n",
       "      <td>0</td>\n",
       "      <td>0</td>\n",
       "      <td>140</td>\n",
       "      <td>241</td>\n",
       "      <td>0</td>\n",
       "      <td>1</td>\n",
       "      <td>123</td>\n",
       "      <td>1</td>\n",
       "      <td>0.2</td>\n",
       "      <td>1</td>\n",
       "      <td>0</td>\n",
       "      <td>3</td>\n",
       "      <td>0</td>\n",
       "      <td>298</td>\n",
       "    </tr>\n",
       "    <tr>\n",
       "      <th>299</th>\n",
       "      <td>45</td>\n",
       "      <td>1</td>\n",
       "      <td>3</td>\n",
       "      <td>110</td>\n",
       "      <td>264</td>\n",
       "      <td>0</td>\n",
       "      <td>1</td>\n",
       "      <td>132</td>\n",
       "      <td>0</td>\n",
       "      <td>1.2</td>\n",
       "      <td>1</td>\n",
       "      <td>0</td>\n",
       "      <td>3</td>\n",
       "      <td>0</td>\n",
       "      <td>299</td>\n",
       "    </tr>\n",
       "    <tr>\n",
       "      <th>300</th>\n",
       "      <td>68</td>\n",
       "      <td>1</td>\n",
       "      <td>0</td>\n",
       "      <td>144</td>\n",
       "      <td>193</td>\n",
       "      <td>1</td>\n",
       "      <td>1</td>\n",
       "      <td>141</td>\n",
       "      <td>0</td>\n",
       "      <td>3.4</td>\n",
       "      <td>1</td>\n",
       "      <td>2</td>\n",
       "      <td>3</td>\n",
       "      <td>0</td>\n",
       "      <td>300</td>\n",
       "    </tr>\n",
       "    <tr>\n",
       "      <th>301</th>\n",
       "      <td>57</td>\n",
       "      <td>1</td>\n",
       "      <td>0</td>\n",
       "      <td>130</td>\n",
       "      <td>131</td>\n",
       "      <td>0</td>\n",
       "      <td>1</td>\n",
       "      <td>115</td>\n",
       "      <td>1</td>\n",
       "      <td>1.2</td>\n",
       "      <td>1</td>\n",
       "      <td>1</td>\n",
       "      <td>3</td>\n",
       "      <td>0</td>\n",
       "      <td>301</td>\n",
       "    </tr>\n",
       "    <tr>\n",
       "      <th>302</th>\n",
       "      <td>57</td>\n",
       "      <td>0</td>\n",
       "      <td>1</td>\n",
       "      <td>130</td>\n",
       "      <td>236</td>\n",
       "      <td>0</td>\n",
       "      <td>0</td>\n",
       "      <td>174</td>\n",
       "      <td>0</td>\n",
       "      <td>0.0</td>\n",
       "      <td>1</td>\n",
       "      <td>1</td>\n",
       "      <td>2</td>\n",
       "      <td>0</td>\n",
       "      <td>302</td>\n",
       "    </tr>\n",
       "  </tbody>\n",
       "</table>\n",
       "<p>303 rows × 15 columns</p>\n",
       "</div>"
      ],
      "text/plain": [
       "     age  sex  cp  trestbps  chol  fbs  restecg  thalach  exang  oldpeak  \\\n",
       "0     63    1   3       145   233    1        0      150      0      2.3   \n",
       "1     37    1   2       130   250    0        1      187      0      3.5   \n",
       "2     41    0   1       130   204    0        0      172      0      1.4   \n",
       "3     56    1   1       120   236    0        1      178      0      0.8   \n",
       "4     57    0   0       120   354    0        1      163      1      0.6   \n",
       "..   ...  ...  ..       ...   ...  ...      ...      ...    ...      ...   \n",
       "298   57    0   0       140   241    0        1      123      1      0.2   \n",
       "299   45    1   3       110   264    0        1      132      0      1.2   \n",
       "300   68    1   0       144   193    1        1      141      0      3.4   \n",
       "301   57    1   0       130   131    0        1      115      1      1.2   \n",
       "302   57    0   1       130   236    0        0      174      0      0.0   \n",
       "\n",
       "     slope  ca  thal  target  new col  \n",
       "0        0   0     1       1        0  \n",
       "1        0   0     2       1        1  \n",
       "2        2   0     2       1        2  \n",
       "3        2   0     2       1        3  \n",
       "4        2   0     2       1        4  \n",
       "..     ...  ..   ...     ...      ...  \n",
       "298      1   0     3       0      298  \n",
       "299      1   0     3       0      299  \n",
       "300      1   2     3       0      300  \n",
       "301      1   1     3       0      301  \n",
       "302      1   1     2       0      302  \n",
       "\n",
       "[303 rows x 15 columns]"
      ]
     },
     "execution_count": 10,
     "metadata": {},
     "output_type": "execute_result"
    }
   ],
   "source": [
    "heart_df"
   ]
  },
  {
   "cell_type": "code",
   "execution_count": 8,
   "metadata": {},
   "outputs": [],
   "source": [
    "# add a random column to demo issue with column dot notation. \n",
    "import numpy as np\n",
    "heart_df['new col'] = np.arange(303)"
   ]
  },
  {
   "cell_type": "code",
   "execution_count": null,
>>>>>>> upstream/main
   "metadata": {},
   "outputs": [
    {
     "data": {
      "text/plain": [
       "pandas.core.series.Series"
      ]
     },
     "execution_count": 7,
     "metadata": {},
     "output_type": "execute_result"
    }
   ],
   "source": [
    "heart_df.new col "
   ]
  },
  {
   "cell_type": "code",
   "execution_count": null,
   "metadata": {},
   "outputs": [],
   "source": []
  },
  {
   "cell_type": "code",
   "execution_count": 5,
   "metadata": {},
   "outputs": [
    {
     "data": {
      "text/plain": [
       "pandas.core.series.Series"
      ]
     },
     "execution_count": 5,
     "metadata": {},
     "output_type": "execute_result"
    }
   ],
   "source": [
    "age_series = heart_df['age']\n",
    "type(age_series)"
   ]
  },
  {
   "cell_type": "code",
   "execution_count": 6,
   "metadata": {},
   "outputs": [],
   "source": [
    "age_series = heart_df.age"
   ]
  },
  {
   "cell_type": "markdown",
   "metadata": {},
   "source": [
    "Notice how we can isolate a column of our DataFrame simply by using square brackets together with the name of the column."
   ]
  },
  {
   "cell_type": "markdown",
   "metadata": {},
   "source": [
    "Both Series and DataFrames have an *index* as well:"
   ]
  },
  {
   "cell_type": "code",
<<<<<<< HEAD
   "execution_count": 9,
=======
   "execution_count": 17,
>>>>>>> upstream/main
   "metadata": {},
   "outputs": [
    {
     "data": {
      "text/plain": [
       "RangeIndex(start=0, stop=303, step=1)"
      ]
     },
<<<<<<< HEAD
     "execution_count": 9,
=======
     "execution_count": 17,
>>>>>>> upstream/main
     "metadata": {},
     "output_type": "execute_result"
    }
   ],
   "source": [
    "heart_df.index"
   ]
  },
  {
   "cell_type": "code",
<<<<<<< HEAD
   "execution_count": 10,
=======
   "execution_count": 18,
>>>>>>> upstream/main
   "metadata": {},
   "outputs": [
    {
     "data": {
      "text/plain": [
       "RangeIndex(start=0, stop=303, step=1)"
      ]
     },
<<<<<<< HEAD
     "execution_count": 10,
=======
     "execution_count": 18,
>>>>>>> upstream/main
     "metadata": {},
     "output_type": "execute_result"
    }
   ],
   "source": [
    "age_series.index"
   ]
  },
  {
   "cell_type": "markdown",
   "metadata": {},
   "source": [
    "Pandas is built on top of NumPy, and we can always access the NumPy array underlying a DataFrame using `.values`."
   ]
  },
  {
   "cell_type": "code",
<<<<<<< HEAD
   "execution_count": 11,
=======
   "execution_count": 19,
>>>>>>> upstream/main
   "metadata": {},
   "outputs": [
    {
     "data": {
      "text/plain": [
       "array([[63.,  1.,  3., ...,  0.,  1.,  1.],\n",
       "       [37.,  1.,  2., ...,  0.,  2.,  1.],\n",
       "       [41.,  0.,  1., ...,  0.,  2.,  1.],\n",
       "       ...,\n",
       "       [68.,  1.,  0., ...,  2.,  3.,  0.],\n",
       "       [57.,  1.,  0., ...,  1.,  3.,  0.],\n",
       "       [57.,  0.,  1., ...,  1.,  2.,  0.]])"
      ]
     },
<<<<<<< HEAD
     "execution_count": 11,
=======
     "execution_count": 19,
>>>>>>> upstream/main
     "metadata": {},
     "output_type": "execute_result"
    }
   ],
   "source": [
    "heart_df.values"
   ]
  },
  {
   "cell_type": "markdown",
   "metadata": {},
   "source": [
    "## Basic DataFrame Attributes and Methods"
   ]
  },
  {
   "cell_type": "markdown",
   "metadata": {},
   "source": [
    "### `.head()`"
   ]
  },
  {
   "cell_type": "code",
<<<<<<< HEAD
   "execution_count": 12,
=======
   "execution_count": 20,
>>>>>>> upstream/main
   "metadata": {},
   "outputs": [
    {
     "data": {
      "text/html": [
       "<div>\n",
       "<style scoped>\n",
       "    .dataframe tbody tr th:only-of-type {\n",
       "        vertical-align: middle;\n",
       "    }\n",
       "\n",
       "    .dataframe tbody tr th {\n",
       "        vertical-align: top;\n",
       "    }\n",
       "\n",
       "    .dataframe thead th {\n",
       "        text-align: right;\n",
       "    }\n",
       "</style>\n",
       "<table border=\"1\" class=\"dataframe\">\n",
       "  <thead>\n",
       "    <tr style=\"text-align: right;\">\n",
       "      <th></th>\n",
       "      <th>age</th>\n",
       "      <th>sex</th>\n",
       "      <th>cp</th>\n",
       "      <th>trestbps</th>\n",
       "      <th>chol</th>\n",
       "      <th>fbs</th>\n",
       "      <th>restecg</th>\n",
       "      <th>thalach</th>\n",
       "      <th>exang</th>\n",
       "      <th>oldpeak</th>\n",
       "      <th>slope</th>\n",
       "      <th>ca</th>\n",
       "      <th>thal</th>\n",
       "      <th>target</th>\n",
       "    </tr>\n",
       "  </thead>\n",
       "  <tbody>\n",
       "    <tr>\n",
       "      <th>0</th>\n",
       "      <td>63</td>\n",
       "      <td>1</td>\n",
       "      <td>3</td>\n",
       "      <td>145</td>\n",
       "      <td>233</td>\n",
       "      <td>1</td>\n",
       "      <td>0</td>\n",
       "      <td>150</td>\n",
       "      <td>0</td>\n",
       "      <td>2.3</td>\n",
       "      <td>0</td>\n",
       "      <td>0</td>\n",
       "      <td>1</td>\n",
       "      <td>1</td>\n",
       "    </tr>\n",
       "    <tr>\n",
       "      <th>1</th>\n",
       "      <td>37</td>\n",
       "      <td>1</td>\n",
       "      <td>2</td>\n",
       "      <td>130</td>\n",
       "      <td>250</td>\n",
       "      <td>0</td>\n",
       "      <td>1</td>\n",
       "      <td>187</td>\n",
       "      <td>0</td>\n",
       "      <td>3.5</td>\n",
       "      <td>0</td>\n",
       "      <td>0</td>\n",
       "      <td>2</td>\n",
       "      <td>1</td>\n",
       "    </tr>\n",
       "    <tr>\n",
       "      <th>2</th>\n",
       "      <td>41</td>\n",
       "      <td>0</td>\n",
       "      <td>1</td>\n",
       "      <td>130</td>\n",
       "      <td>204</td>\n",
       "      <td>0</td>\n",
       "      <td>0</td>\n",
       "      <td>172</td>\n",
       "      <td>0</td>\n",
       "      <td>1.4</td>\n",
       "      <td>2</td>\n",
       "      <td>0</td>\n",
       "      <td>2</td>\n",
       "      <td>1</td>\n",
       "    </tr>\n",
       "    <tr>\n",
       "      <th>3</th>\n",
       "      <td>56</td>\n",
       "      <td>1</td>\n",
       "      <td>1</td>\n",
       "      <td>120</td>\n",
       "      <td>236</td>\n",
       "      <td>0</td>\n",
       "      <td>1</td>\n",
       "      <td>178</td>\n",
       "      <td>0</td>\n",
       "      <td>0.8</td>\n",
       "      <td>2</td>\n",
       "      <td>0</td>\n",
       "      <td>2</td>\n",
       "      <td>1</td>\n",
       "    </tr>\n",
       "    <tr>\n",
       "      <th>4</th>\n",
       "      <td>57</td>\n",
       "      <td>0</td>\n",
       "      <td>0</td>\n",
       "      <td>120</td>\n",
       "      <td>354</td>\n",
       "      <td>0</td>\n",
       "      <td>1</td>\n",
       "      <td>163</td>\n",
       "      <td>1</td>\n",
       "      <td>0.6</td>\n",
       "      <td>2</td>\n",
       "      <td>0</td>\n",
       "      <td>2</td>\n",
       "      <td>1</td>\n",
       "    </tr>\n",
       "  </tbody>\n",
       "</table>\n",
       "</div>"
      ],
      "text/plain": [
       "   age  sex  cp  trestbps  chol  fbs  restecg  thalach  exang  oldpeak  slope  \\\n",
       "0   63    1   3       145   233    1        0      150      0      2.3      0   \n",
       "1   37    1   2       130   250    0        1      187      0      3.5      0   \n",
       "2   41    0   1       130   204    0        0      172      0      1.4      2   \n",
       "3   56    1   1       120   236    0        1      178      0      0.8      2   \n",
       "4   57    0   0       120   354    0        1      163      1      0.6      2   \n",
       "\n",
       "   ca  thal  target  \n",
       "0   0     1       1  \n",
       "1   0     2       1  \n",
       "2   0     2       1  \n",
       "3   0     2       1  \n",
       "4   0     2       1  "
      ]
     },
<<<<<<< HEAD
     "execution_count": 12,
=======
     "execution_count": 20,
>>>>>>> upstream/main
     "metadata": {},
     "output_type": "execute_result"
    }
   ],
   "source": [
    "heart_df.head()"
   ]
  },
  {
   "cell_type": "markdown",
   "metadata": {},
   "source": [
    "### `.tail()`"
   ]
  },
  {
   "cell_type": "code",
<<<<<<< HEAD
   "execution_count": 13,
=======
   "execution_count": 21,
>>>>>>> upstream/main
   "metadata": {},
   "outputs": [
    {
     "data": {
      "text/html": [
       "<div>\n",
       "<style scoped>\n",
       "    .dataframe tbody tr th:only-of-type {\n",
       "        vertical-align: middle;\n",
       "    }\n",
       "\n",
       "    .dataframe tbody tr th {\n",
       "        vertical-align: top;\n",
       "    }\n",
       "\n",
       "    .dataframe thead th {\n",
       "        text-align: right;\n",
       "    }\n",
       "</style>\n",
       "<table border=\"1\" class=\"dataframe\">\n",
       "  <thead>\n",
       "    <tr style=\"text-align: right;\">\n",
       "      <th></th>\n",
       "      <th>age</th>\n",
       "      <th>sex</th>\n",
       "      <th>cp</th>\n",
       "      <th>trestbps</th>\n",
       "      <th>chol</th>\n",
       "      <th>fbs</th>\n",
       "      <th>restecg</th>\n",
       "      <th>thalach</th>\n",
       "      <th>exang</th>\n",
       "      <th>oldpeak</th>\n",
       "      <th>slope</th>\n",
       "      <th>ca</th>\n",
       "      <th>thal</th>\n",
       "      <th>target</th>\n",
       "    </tr>\n",
       "  </thead>\n",
       "  <tbody>\n",
       "    <tr>\n",
       "      <th>298</th>\n",
       "      <td>57</td>\n",
       "      <td>0</td>\n",
       "      <td>0</td>\n",
       "      <td>140</td>\n",
       "      <td>241</td>\n",
       "      <td>0</td>\n",
       "      <td>1</td>\n",
       "      <td>123</td>\n",
       "      <td>1</td>\n",
       "      <td>0.2</td>\n",
       "      <td>1</td>\n",
       "      <td>0</td>\n",
       "      <td>3</td>\n",
       "      <td>0</td>\n",
       "    </tr>\n",
       "    <tr>\n",
       "      <th>299</th>\n",
       "      <td>45</td>\n",
       "      <td>1</td>\n",
       "      <td>3</td>\n",
       "      <td>110</td>\n",
       "      <td>264</td>\n",
       "      <td>0</td>\n",
       "      <td>1</td>\n",
       "      <td>132</td>\n",
       "      <td>0</td>\n",
       "      <td>1.2</td>\n",
       "      <td>1</td>\n",
       "      <td>0</td>\n",
       "      <td>3</td>\n",
       "      <td>0</td>\n",
       "    </tr>\n",
       "    <tr>\n",
       "      <th>300</th>\n",
       "      <td>68</td>\n",
       "      <td>1</td>\n",
       "      <td>0</td>\n",
       "      <td>144</td>\n",
       "      <td>193</td>\n",
       "      <td>1</td>\n",
       "      <td>1</td>\n",
       "      <td>141</td>\n",
       "      <td>0</td>\n",
       "      <td>3.4</td>\n",
       "      <td>1</td>\n",
       "      <td>2</td>\n",
       "      <td>3</td>\n",
       "      <td>0</td>\n",
       "    </tr>\n",
       "    <tr>\n",
       "      <th>301</th>\n",
       "      <td>57</td>\n",
       "      <td>1</td>\n",
       "      <td>0</td>\n",
       "      <td>130</td>\n",
       "      <td>131</td>\n",
       "      <td>0</td>\n",
       "      <td>1</td>\n",
       "      <td>115</td>\n",
       "      <td>1</td>\n",
       "      <td>1.2</td>\n",
       "      <td>1</td>\n",
       "      <td>1</td>\n",
       "      <td>3</td>\n",
       "      <td>0</td>\n",
       "    </tr>\n",
       "    <tr>\n",
       "      <th>302</th>\n",
       "      <td>57</td>\n",
       "      <td>0</td>\n",
       "      <td>1</td>\n",
       "      <td>130</td>\n",
       "      <td>236</td>\n",
       "      <td>0</td>\n",
       "      <td>0</td>\n",
       "      <td>174</td>\n",
       "      <td>0</td>\n",
       "      <td>0.0</td>\n",
       "      <td>1</td>\n",
       "      <td>1</td>\n",
       "      <td>2</td>\n",
       "      <td>0</td>\n",
       "    </tr>\n",
       "  </tbody>\n",
       "</table>\n",
       "</div>"
      ],
      "text/plain": [
       "     age  sex  cp  trestbps  chol  fbs  restecg  thalach  exang  oldpeak  \\\n",
       "298   57    0   0       140   241    0        1      123      1      0.2   \n",
       "299   45    1   3       110   264    0        1      132      0      1.2   \n",
       "300   68    1   0       144   193    1        1      141      0      3.4   \n",
       "301   57    1   0       130   131    0        1      115      1      1.2   \n",
       "302   57    0   1       130   236    0        0      174      0      0.0   \n",
       "\n",
       "     slope  ca  thal  target  \n",
       "298      1   0     3       0  \n",
       "299      1   0     3       0  \n",
       "300      1   2     3       0  \n",
       "301      1   1     3       0  \n",
       "302      1   1     2       0  "
      ]
     },
<<<<<<< HEAD
     "execution_count": 13,
=======
     "execution_count": 21,
>>>>>>> upstream/main
     "metadata": {},
     "output_type": "execute_result"
    }
   ],
   "source": [
    "heart_df.tail()"
   ]
  },
  {
   "cell_type": "markdown",
   "metadata": {},
   "source": [
    "### `.info()`"
   ]
  },
  {
   "cell_type": "code",
<<<<<<< HEAD
   "execution_count": 15,
=======
   "execution_count": 22,
>>>>>>> upstream/main
   "metadata": {},
   "outputs": [
    {
     "name": "stdout",
     "output_type": "stream",
     "text": [
      "<class 'pandas.core.frame.DataFrame'>\n",
      "RangeIndex: 303 entries, 0 to 302\n",
      "Data columns (total 14 columns):\n",
      " #   Column    Non-Null Count  Dtype  \n",
      "---  ------    --------------  -----  \n",
      " 0   age       303 non-null    int64  \n",
      " 1   sex       303 non-null    int64  \n",
      " 2   cp        303 non-null    int64  \n",
      " 3   trestbps  303 non-null    int64  \n",
      " 4   chol      303 non-null    int64  \n",
      " 5   fbs       303 non-null    int64  \n",
      " 6   restecg   303 non-null    int64  \n",
      " 7   thalach   303 non-null    int64  \n",
      " 8   exang     303 non-null    int64  \n",
      " 9   oldpeak   303 non-null    float64\n",
      " 10  slope     303 non-null    int64  \n",
      " 11  ca        303 non-null    int64  \n",
      " 12  thal      303 non-null    int64  \n",
      " 13  target    303 non-null    int64  \n",
      "dtypes: float64(1), int64(13)\n",
      "memory usage: 33.3 KB\n"
     ]
    }
   ],
   "source": [
    "heart_df.info()"
   ]
  },
  {
   "cell_type": "markdown",
   "metadata": {},
   "source": [
    "### `.describe()`"
   ]
  },
  {
   "cell_type": "code",
<<<<<<< HEAD
   "execution_count": 14,
=======
   "execution_count": 23,
>>>>>>> upstream/main
   "metadata": {
    "scrolled": true
   },
   "outputs": [
    {
     "data": {
      "text/html": [
       "<div>\n",
       "<style scoped>\n",
       "    .dataframe tbody tr th:only-of-type {\n",
       "        vertical-align: middle;\n",
       "    }\n",
       "\n",
       "    .dataframe tbody tr th {\n",
       "        vertical-align: top;\n",
       "    }\n",
       "\n",
       "    .dataframe thead th {\n",
       "        text-align: right;\n",
       "    }\n",
       "</style>\n",
       "<table border=\"1\" class=\"dataframe\">\n",
       "  <thead>\n",
       "    <tr style=\"text-align: right;\">\n",
       "      <th></th>\n",
       "      <th>age</th>\n",
       "      <th>sex</th>\n",
       "      <th>cp</th>\n",
       "      <th>trestbps</th>\n",
       "      <th>chol</th>\n",
       "      <th>fbs</th>\n",
       "      <th>restecg</th>\n",
       "      <th>thalach</th>\n",
       "      <th>exang</th>\n",
       "      <th>oldpeak</th>\n",
       "      <th>slope</th>\n",
       "      <th>ca</th>\n",
       "      <th>thal</th>\n",
       "      <th>target</th>\n",
       "    </tr>\n",
       "  </thead>\n",
       "  <tbody>\n",
       "    <tr>\n",
       "      <th>count</th>\n",
       "      <td>303.000000</td>\n",
       "      <td>303.000000</td>\n",
       "      <td>303.000000</td>\n",
       "      <td>303.000000</td>\n",
       "      <td>303.000000</td>\n",
       "      <td>303.000000</td>\n",
       "      <td>303.000000</td>\n",
       "      <td>303.000000</td>\n",
       "      <td>303.000000</td>\n",
       "      <td>303.000000</td>\n",
       "      <td>303.000000</td>\n",
       "      <td>303.000000</td>\n",
       "      <td>303.000000</td>\n",
       "      <td>303.000000</td>\n",
       "    </tr>\n",
       "    <tr>\n",
       "      <th>mean</th>\n",
       "      <td>54.366337</td>\n",
       "      <td>0.683168</td>\n",
       "      <td>0.966997</td>\n",
       "      <td>131.623762</td>\n",
       "      <td>246.264026</td>\n",
       "      <td>0.148515</td>\n",
       "      <td>0.528053</td>\n",
       "      <td>149.646865</td>\n",
       "      <td>0.326733</td>\n",
       "      <td>1.039604</td>\n",
       "      <td>1.399340</td>\n",
       "      <td>0.729373</td>\n",
       "      <td>2.313531</td>\n",
       "      <td>0.544554</td>\n",
       "    </tr>\n",
       "    <tr>\n",
       "      <th>std</th>\n",
       "      <td>9.082101</td>\n",
       "      <td>0.466011</td>\n",
       "      <td>1.032052</td>\n",
       "      <td>17.538143</td>\n",
       "      <td>51.830751</td>\n",
       "      <td>0.356198</td>\n",
       "      <td>0.525860</td>\n",
       "      <td>22.905161</td>\n",
       "      <td>0.469794</td>\n",
       "      <td>1.161075</td>\n",
       "      <td>0.616226</td>\n",
       "      <td>1.022606</td>\n",
       "      <td>0.612277</td>\n",
       "      <td>0.498835</td>\n",
       "    </tr>\n",
       "    <tr>\n",
       "      <th>min</th>\n",
       "      <td>29.000000</td>\n",
       "      <td>0.000000</td>\n",
       "      <td>0.000000</td>\n",
       "      <td>94.000000</td>\n",
       "      <td>126.000000</td>\n",
       "      <td>0.000000</td>\n",
       "      <td>0.000000</td>\n",
       "      <td>71.000000</td>\n",
       "      <td>0.000000</td>\n",
       "      <td>0.000000</td>\n",
       "      <td>0.000000</td>\n",
       "      <td>0.000000</td>\n",
       "      <td>0.000000</td>\n",
       "      <td>0.000000</td>\n",
       "    </tr>\n",
       "    <tr>\n",
       "      <th>25%</th>\n",
       "      <td>47.500000</td>\n",
       "      <td>0.000000</td>\n",
       "      <td>0.000000</td>\n",
       "      <td>120.000000</td>\n",
       "      <td>211.000000</td>\n",
       "      <td>0.000000</td>\n",
       "      <td>0.000000</td>\n",
       "      <td>133.500000</td>\n",
       "      <td>0.000000</td>\n",
       "      <td>0.000000</td>\n",
       "      <td>1.000000</td>\n",
       "      <td>0.000000</td>\n",
       "      <td>2.000000</td>\n",
       "      <td>0.000000</td>\n",
       "    </tr>\n",
       "    <tr>\n",
       "      <th>50%</th>\n",
       "      <td>55.000000</td>\n",
       "      <td>1.000000</td>\n",
       "      <td>1.000000</td>\n",
       "      <td>130.000000</td>\n",
       "      <td>240.000000</td>\n",
       "      <td>0.000000</td>\n",
       "      <td>1.000000</td>\n",
       "      <td>153.000000</td>\n",
       "      <td>0.000000</td>\n",
       "      <td>0.800000</td>\n",
       "      <td>1.000000</td>\n",
       "      <td>0.000000</td>\n",
       "      <td>2.000000</td>\n",
       "      <td>1.000000</td>\n",
       "    </tr>\n",
       "    <tr>\n",
       "      <th>75%</th>\n",
       "      <td>61.000000</td>\n",
       "      <td>1.000000</td>\n",
       "      <td>2.000000</td>\n",
       "      <td>140.000000</td>\n",
       "      <td>274.500000</td>\n",
       "      <td>0.000000</td>\n",
       "      <td>1.000000</td>\n",
       "      <td>166.000000</td>\n",
       "      <td>1.000000</td>\n",
       "      <td>1.600000</td>\n",
       "      <td>2.000000</td>\n",
       "      <td>1.000000</td>\n",
       "      <td>3.000000</td>\n",
       "      <td>1.000000</td>\n",
       "    </tr>\n",
       "    <tr>\n",
       "      <th>max</th>\n",
       "      <td>77.000000</td>\n",
       "      <td>1.000000</td>\n",
       "      <td>3.000000</td>\n",
       "      <td>200.000000</td>\n",
       "      <td>564.000000</td>\n",
       "      <td>1.000000</td>\n",
       "      <td>2.000000</td>\n",
       "      <td>202.000000</td>\n",
       "      <td>1.000000</td>\n",
       "      <td>6.200000</td>\n",
       "      <td>2.000000</td>\n",
       "      <td>4.000000</td>\n",
       "      <td>3.000000</td>\n",
       "      <td>1.000000</td>\n",
       "    </tr>\n",
       "  </tbody>\n",
       "</table>\n",
       "</div>"
      ],
      "text/plain": [
       "              age         sex          cp    trestbps        chol         fbs  \\\n",
       "count  303.000000  303.000000  303.000000  303.000000  303.000000  303.000000   \n",
       "mean    54.366337    0.683168    0.966997  131.623762  246.264026    0.148515   \n",
       "std      9.082101    0.466011    1.032052   17.538143   51.830751    0.356198   \n",
       "min     29.000000    0.000000    0.000000   94.000000  126.000000    0.000000   \n",
       "25%     47.500000    0.000000    0.000000  120.000000  211.000000    0.000000   \n",
       "50%     55.000000    1.000000    1.000000  130.000000  240.000000    0.000000   \n",
       "75%     61.000000    1.000000    2.000000  140.000000  274.500000    0.000000   \n",
       "max     77.000000    1.000000    3.000000  200.000000  564.000000    1.000000   \n",
       "\n",
       "          restecg     thalach       exang     oldpeak       slope          ca  \\\n",
       "count  303.000000  303.000000  303.000000  303.000000  303.000000  303.000000   \n",
       "mean     0.528053  149.646865    0.326733    1.039604    1.399340    0.729373   \n",
       "std      0.525860   22.905161    0.469794    1.161075    0.616226    1.022606   \n",
       "min      0.000000   71.000000    0.000000    0.000000    0.000000    0.000000   \n",
       "25%      0.000000  133.500000    0.000000    0.000000    1.000000    0.000000   \n",
       "50%      1.000000  153.000000    0.000000    0.800000    1.000000    0.000000   \n",
       "75%      1.000000  166.000000    1.000000    1.600000    2.000000    1.000000   \n",
       "max      2.000000  202.000000    1.000000    6.200000    2.000000    4.000000   \n",
       "\n",
       "             thal      target  \n",
       "count  303.000000  303.000000  \n",
       "mean     2.313531    0.544554  \n",
       "std      0.612277    0.498835  \n",
       "min      0.000000    0.000000  \n",
       "25%      2.000000    0.000000  \n",
       "50%      2.000000    1.000000  \n",
       "75%      3.000000    1.000000  \n",
       "max      3.000000    1.000000  "
      ]
     },
<<<<<<< HEAD
     "execution_count": 14,
=======
     "execution_count": 23,
>>>>>>> upstream/main
     "metadata": {},
     "output_type": "execute_result"
    }
   ],
   "source": [
    "heart_df.describe()"
   ]
  },
  {
   "cell_type": "markdown",
   "metadata": {},
   "source": [
    "### `.dtypes`"
   ]
  },
  {
   "cell_type": "code",
<<<<<<< HEAD
   "execution_count": 16,
=======
   "execution_count": 24,
>>>>>>> upstream/main
   "metadata": {},
   "outputs": [
    {
     "data": {
      "text/plain": [
       "age           int64\n",
       "sex           int64\n",
       "cp            int64\n",
       "trestbps      int64\n",
       "chol          int64\n",
       "fbs           int64\n",
       "restecg       int64\n",
       "thalach       int64\n",
       "exang         int64\n",
       "oldpeak     float64\n",
       "slope         int64\n",
       "ca            int64\n",
       "thal          int64\n",
       "target        int64\n",
       "dtype: object"
      ]
     },
<<<<<<< HEAD
     "execution_count": 16,
=======
     "execution_count": 24,
>>>>>>> upstream/main
     "metadata": {},
     "output_type": "execute_result"
    }
   ],
   "source": [
    "heart_df.dtypes"
   ]
  },
  {
   "cell_type": "markdown",
   "metadata": {},
   "source": [
    "### `.shape`"
   ]
  },
  {
   "cell_type": "code",
<<<<<<< HEAD
   "execution_count": 17,
=======
   "execution_count": 25,
>>>>>>> upstream/main
   "metadata": {},
   "outputs": [
    {
     "data": {
      "text/plain": [
       "(303, 14)"
      ]
     },
<<<<<<< HEAD
     "execution_count": 17,
=======
     "execution_count": 25,
>>>>>>> upstream/main
     "metadata": {},
     "output_type": "execute_result"
    }
   ],
   "source": [
    "heart_df.shape"
   ]
  },
  {
   "cell_type": "markdown",
   "metadata": {},
   "source": [
    "### Exploratory Plots"
   ]
  },
  {
   "cell_type": "markdown",
   "metadata": {},
   "source": [
    "Let's make ourselves a histogram of ages:"
   ]
  },
  {
   "cell_type": "code",
<<<<<<< HEAD
   "execution_count": 20,
=======
   "execution_count": 29,
>>>>>>> upstream/main
   "metadata": {
    "scrolled": true
   },
   "outputs": [
    {
     "name": "stderr",
     "output_type": "stream",
     "text": [
<<<<<<< HEAD
      "C:\\Users\\takinlabi\\AppData\\Local\\Temp\\ipykernel_18044\\3786251697.py:2: UserWarning: \n",
      "\n",
      "`distplot` is a deprecated function and will be removed in seaborn v0.14.0.\n",
      "\n",
      "Please adapt your code to use either `displot` (a figure-level function with\n",
      "similar flexibility) or `histplot` (an axes-level function for histograms).\n",
      "\n",
      "For a guide to updating your code to use the new functions, please see\n",
      "https://gist.github.com/mwaskom/de44147ed2974457ad6372750bbe5751\n",
      "\n",
      "  sns.distplot(a=heart_df['age']);\n"
=======
      "/Users/lotuschild132/opt/anaconda3/lib/python3.8/site-packages/seaborn/distributions.py:2557: FutureWarning: `distplot` is a deprecated function and will be removed in a future version. Please adapt your code to use either `displot` (a figure-level function with similar flexibility) or `histplot` (an axes-level function for histograms).\n",
      "  warnings.warn(msg, FutureWarning)\n"
>>>>>>> upstream/main
     ]
    },
    {
     "data": {
<<<<<<< HEAD
      "image/png": "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",
      "text/plain": [
       "<Figure size 640x480 with 1 Axes>"
=======
      "image/png": "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\n",
      "text/plain": [
       "<Figure size 432x288 with 1 Axes>"
>>>>>>> upstream/main
      ]
     },
     "metadata": {},
     "output_type": "display_data"
    }
   ],
   "source": [
    "import seaborn as sns\n",
    "\n",
    "sns.set_style('darkgrid')\n",
    "sns.distplot(a=heart_df['age']);"
   ]
  },
  {
   "cell_type": "markdown",
   "metadata": {},
   "source": [
    "And while we're at it let's do a scatter plot of maximum heart rate vs. age:"
   ]
  },
  {
   "cell_type": "code",
<<<<<<< HEAD
   "execution_count": 21,
=======
   "execution_count": 30,
>>>>>>> upstream/main
   "metadata": {},
   "outputs": [
    {
     "data": {
<<<<<<< HEAD
      "image/png": "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",
      "text/plain": [
       "<Figure size 640x480 with 1 Axes>"
=======
      "image/png": "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\n",
      "text/plain": [
       "<Figure size 432x288 with 1 Axes>"
>>>>>>> upstream/main
      ]
     },
     "metadata": {},
     "output_type": "display_data"
    }
   ],
   "source": [
    "sns.scatterplot(x=heart_df['age'], y=heart_df['thalach']);"
   ]
  },
  {
   "cell_type": "markdown",
   "metadata": {},
   "source": [
    "## Adding to a DataFrame\n",
    "\n",
    "\n",
    "### Adding Rows\n",
    "\n",
    "Here are two rows that our engineer accidentally left out of the .csv file, expressed as a Python dictionary:"
   ]
  },
  {
   "cell_type": "code",
<<<<<<< HEAD
   "execution_count": 22,
=======
   "execution_count": 31,
>>>>>>> upstream/main
   "metadata": {},
   "outputs": [
    {
     "data": {
      "text/plain": [
       "{'age': [40, 30],\n",
       " 'sex': [1, 0],\n",
       " 'cp': [0, 0],\n",
       " 'trestbps': [120, 130],\n",
       " 'chol': [240, 200],\n",
       " 'fbs': [0, 0],\n",
       " 'restecg': [1, 0],\n",
       " 'thalach': [120, 122],\n",
       " 'exang': [0, 1],\n",
       " 'oldpeak': [0.1, 1.0],\n",
       " 'slope': [1, 1],\n",
       " 'ca': [0, 1],\n",
       " 'thal': [2, 3],\n",
       " 'target': [0, 0]}"
      ]
     },
<<<<<<< HEAD
     "execution_count": 22,
=======
     "execution_count": 31,
>>>>>>> upstream/main
     "metadata": {},
     "output_type": "execute_result"
    }
   ],
   "source": [
    "extra_rows = {'age': [40, 30], 'sex': [1, 0], 'cp': [0, 0], 'trestbps': [120, 130],\n",
    "              'chol': [240, 200],\n",
    "             'fbs': [0, 0], 'restecg': [1, 0], 'thalach': [120, 122], 'exang': [0, 1],\n",
    "              'oldpeak': [0.1, 1.0], 'slope': [1, 1], 'ca': [0, 1], 'thal': [2, 3],\n",
    "              'target': [0, 0]}\n",
    "extra_rows"
   ]
  },
  {
   "cell_type": "markdown",
   "metadata": {},
   "source": [
    "How can we add this to the bottom of our dataset?"
   ]
  },
  {
   "cell_type": "code",
<<<<<<< HEAD
   "execution_count": 23,
=======
   "execution_count": 32,
>>>>>>> upstream/main
   "metadata": {},
   "outputs": [
    {
     "data": {
      "text/html": [
       "<div>\n",
       "<style scoped>\n",
       "    .dataframe tbody tr th:only-of-type {\n",
       "        vertical-align: middle;\n",
       "    }\n",
       "\n",
       "    .dataframe tbody tr th {\n",
       "        vertical-align: top;\n",
       "    }\n",
       "\n",
       "    .dataframe thead th {\n",
       "        text-align: right;\n",
       "    }\n",
       "</style>\n",
       "<table border=\"1\" class=\"dataframe\">\n",
       "  <thead>\n",
       "    <tr style=\"text-align: right;\">\n",
       "      <th></th>\n",
       "      <th>age</th>\n",
       "      <th>sex</th>\n",
       "      <th>cp</th>\n",
       "      <th>trestbps</th>\n",
       "      <th>chol</th>\n",
       "      <th>fbs</th>\n",
       "      <th>restecg</th>\n",
       "      <th>thalach</th>\n",
       "      <th>exang</th>\n",
       "      <th>oldpeak</th>\n",
       "      <th>slope</th>\n",
       "      <th>ca</th>\n",
       "      <th>thal</th>\n",
       "      <th>target</th>\n",
       "    </tr>\n",
       "  </thead>\n",
       "  <tbody>\n",
       "    <tr>\n",
       "      <th>0</th>\n",
       "      <td>40</td>\n",
       "      <td>1</td>\n",
       "      <td>0</td>\n",
       "      <td>120</td>\n",
       "      <td>240</td>\n",
       "      <td>0</td>\n",
       "      <td>1</td>\n",
       "      <td>120</td>\n",
       "      <td>0</td>\n",
       "      <td>0.1</td>\n",
       "      <td>1</td>\n",
       "      <td>0</td>\n",
       "      <td>2</td>\n",
       "      <td>0</td>\n",
       "    </tr>\n",
       "    <tr>\n",
       "      <th>1</th>\n",
       "      <td>30</td>\n",
       "      <td>0</td>\n",
       "      <td>0</td>\n",
       "      <td>130</td>\n",
       "      <td>200</td>\n",
       "      <td>0</td>\n",
       "      <td>0</td>\n",
       "      <td>122</td>\n",
       "      <td>1</td>\n",
       "      <td>1.0</td>\n",
       "      <td>1</td>\n",
       "      <td>1</td>\n",
       "      <td>3</td>\n",
       "      <td>0</td>\n",
       "    </tr>\n",
       "  </tbody>\n",
       "</table>\n",
       "</div>"
      ],
      "text/plain": [
       "   age  sex  cp  trestbps  chol  fbs  restecg  thalach  exang  oldpeak  slope  \\\n",
       "0   40    1   0       120   240    0        1      120      0      0.1      1   \n",
       "1   30    0   0       130   200    0        0      122      1      1.0      1   \n",
       "\n",
       "   ca  thal  target  \n",
       "0   0     2       0  \n",
       "1   1     3       0  "
      ]
     },
<<<<<<< HEAD
     "execution_count": 23,
=======
     "execution_count": 32,
>>>>>>> upstream/main
     "metadata": {},
     "output_type": "execute_result"
    }
   ],
   "source": [
    "# Let's first turn this into a DataFrame.\n",
    "# We can use the .from_dict() method.\n",
    "\n",
    "missing = pd.DataFrame(extra_rows)\n",
    "missing"
   ]
  },
  {
   "cell_type": "code",
<<<<<<< HEAD
   "execution_count": 24,
=======
   "execution_count": 33,
>>>>>>> upstream/main
   "metadata": {},
   "outputs": [],
   "source": [
    "# Now we just need to concatenate the two DataFrames together.\n",
    "# Note the `ignore_index` parameter! We'll set that to True.\n",
    "\n",
    "heart_augmented = pd.concat([heart_df, missing],\n",
    "                           ignore_index=True)"
   ]
  },
  {
   "cell_type": "code",
<<<<<<< HEAD
   "execution_count": 25,
=======
   "execution_count": 34,
>>>>>>> upstream/main
   "metadata": {},
   "outputs": [
    {
     "data": {
      "text/html": [
       "<div>\n",
       "<style scoped>\n",
       "    .dataframe tbody tr th:only-of-type {\n",
       "        vertical-align: middle;\n",
       "    }\n",
       "\n",
       "    .dataframe tbody tr th {\n",
       "        vertical-align: top;\n",
       "    }\n",
       "\n",
       "    .dataframe thead th {\n",
       "        text-align: right;\n",
       "    }\n",
       "</style>\n",
       "<table border=\"1\" class=\"dataframe\">\n",
       "  <thead>\n",
       "    <tr style=\"text-align: right;\">\n",
       "      <th></th>\n",
       "      <th>age</th>\n",
       "      <th>sex</th>\n",
       "      <th>cp</th>\n",
       "      <th>trestbps</th>\n",
       "      <th>chol</th>\n",
       "      <th>fbs</th>\n",
       "      <th>restecg</th>\n",
       "      <th>thalach</th>\n",
       "      <th>exang</th>\n",
       "      <th>oldpeak</th>\n",
       "      <th>slope</th>\n",
       "      <th>ca</th>\n",
       "      <th>thal</th>\n",
       "      <th>target</th>\n",
       "    </tr>\n",
       "  </thead>\n",
       "  <tbody>\n",
       "    <tr>\n",
       "      <th>300</th>\n",
       "      <td>68</td>\n",
       "      <td>1</td>\n",
       "      <td>0</td>\n",
       "      <td>144</td>\n",
       "      <td>193</td>\n",
       "      <td>1</td>\n",
       "      <td>1</td>\n",
       "      <td>141</td>\n",
       "      <td>0</td>\n",
       "      <td>3.4</td>\n",
       "      <td>1</td>\n",
       "      <td>2</td>\n",
       "      <td>3</td>\n",
       "      <td>0</td>\n",
       "    </tr>\n",
       "    <tr>\n",
       "      <th>301</th>\n",
       "      <td>57</td>\n",
       "      <td>1</td>\n",
       "      <td>0</td>\n",
       "      <td>130</td>\n",
       "      <td>131</td>\n",
       "      <td>0</td>\n",
       "      <td>1</td>\n",
       "      <td>115</td>\n",
       "      <td>1</td>\n",
       "      <td>1.2</td>\n",
       "      <td>1</td>\n",
       "      <td>1</td>\n",
       "      <td>3</td>\n",
       "      <td>0</td>\n",
       "    </tr>\n",
       "    <tr>\n",
       "      <th>302</th>\n",
       "      <td>57</td>\n",
       "      <td>0</td>\n",
       "      <td>1</td>\n",
       "      <td>130</td>\n",
       "      <td>236</td>\n",
       "      <td>0</td>\n",
       "      <td>0</td>\n",
       "      <td>174</td>\n",
       "      <td>0</td>\n",
       "      <td>0.0</td>\n",
       "      <td>1</td>\n",
       "      <td>1</td>\n",
       "      <td>2</td>\n",
       "      <td>0</td>\n",
       "    </tr>\n",
       "    <tr>\n",
       "      <th>303</th>\n",
       "      <td>40</td>\n",
       "      <td>1</td>\n",
       "      <td>0</td>\n",
       "      <td>120</td>\n",
       "      <td>240</td>\n",
       "      <td>0</td>\n",
       "      <td>1</td>\n",
       "      <td>120</td>\n",
       "      <td>0</td>\n",
       "      <td>0.1</td>\n",
       "      <td>1</td>\n",
       "      <td>0</td>\n",
       "      <td>2</td>\n",
       "      <td>0</td>\n",
       "    </tr>\n",
       "    <tr>\n",
       "      <th>304</th>\n",
       "      <td>30</td>\n",
       "      <td>0</td>\n",
       "      <td>0</td>\n",
       "      <td>130</td>\n",
       "      <td>200</td>\n",
       "      <td>0</td>\n",
       "      <td>0</td>\n",
       "      <td>122</td>\n",
       "      <td>1</td>\n",
       "      <td>1.0</td>\n",
       "      <td>1</td>\n",
       "      <td>1</td>\n",
       "      <td>3</td>\n",
       "      <td>0</td>\n",
       "    </tr>\n",
       "  </tbody>\n",
       "</table>\n",
       "</div>"
      ],
      "text/plain": [
       "     age  sex  cp  trestbps  chol  fbs  restecg  thalach  exang  oldpeak  \\\n",
       "300   68    1   0       144   193    1        1      141      0      3.4   \n",
       "301   57    1   0       130   131    0        1      115      1      1.2   \n",
       "302   57    0   1       130   236    0        0      174      0      0.0   \n",
       "303   40    1   0       120   240    0        1      120      0      0.1   \n",
       "304   30    0   0       130   200    0        0      122      1      1.0   \n",
       "\n",
       "     slope  ca  thal  target  \n",
       "300      1   2     3       0  \n",
       "301      1   1     3       0  \n",
       "302      1   1     2       0  \n",
       "303      1   0     2       0  \n",
       "304      1   1     3       0  "
      ]
     },
<<<<<<< HEAD
     "execution_count": 25,
=======
     "execution_count": 34,
>>>>>>> upstream/main
     "metadata": {},
     "output_type": "execute_result"
    }
   ],
   "source": [
    "# Let's check the end to make sure we were successful!\n",
    "\n",
    "heart_augmented.tail()"
   ]
  },
  {
   "cell_type": "markdown",
   "metadata": {},
   "source": [
    "### Adding Columns\n",
    "\n",
    "Adding a column is very easy in `pandas`. Let's add a new column to our dataset called \"test\", and set all of its values to 0."
   ]
  },
  {
   "cell_type": "code",
<<<<<<< HEAD
   "execution_count": 26,
=======
   "execution_count": 35,
>>>>>>> upstream/main
   "metadata": {},
   "outputs": [],
   "source": [
    "heart_augmented['test'] = 0"
   ]
  },
  {
   "cell_type": "code",
<<<<<<< HEAD
   "execution_count": 27,
=======
   "execution_count": 36,
>>>>>>> upstream/main
   "metadata": {},
   "outputs": [
    {
     "data": {
      "text/html": [
       "<div>\n",
       "<style scoped>\n",
       "    .dataframe tbody tr th:only-of-type {\n",
       "        vertical-align: middle;\n",
       "    }\n",
       "\n",
       "    .dataframe tbody tr th {\n",
       "        vertical-align: top;\n",
       "    }\n",
       "\n",
       "    .dataframe thead th {\n",
       "        text-align: right;\n",
       "    }\n",
       "</style>\n",
       "<table border=\"1\" class=\"dataframe\">\n",
       "  <thead>\n",
       "    <tr style=\"text-align: right;\">\n",
       "      <th></th>\n",
       "      <th>age</th>\n",
       "      <th>sex</th>\n",
       "      <th>cp</th>\n",
       "      <th>trestbps</th>\n",
       "      <th>chol</th>\n",
       "      <th>fbs</th>\n",
       "      <th>restecg</th>\n",
       "      <th>thalach</th>\n",
       "      <th>exang</th>\n",
       "      <th>oldpeak</th>\n",
       "      <th>slope</th>\n",
       "      <th>ca</th>\n",
       "      <th>thal</th>\n",
       "      <th>target</th>\n",
       "      <th>test</th>\n",
       "    </tr>\n",
       "  </thead>\n",
       "  <tbody>\n",
       "    <tr>\n",
       "      <th>0</th>\n",
       "      <td>63</td>\n",
       "      <td>1</td>\n",
       "      <td>3</td>\n",
       "      <td>145</td>\n",
       "      <td>233</td>\n",
       "      <td>1</td>\n",
       "      <td>0</td>\n",
       "      <td>150</td>\n",
       "      <td>0</td>\n",
       "      <td>2.3</td>\n",
       "      <td>0</td>\n",
       "      <td>0</td>\n",
       "      <td>1</td>\n",
       "      <td>1</td>\n",
       "      <td>0</td>\n",
       "    </tr>\n",
       "    <tr>\n",
       "      <th>1</th>\n",
       "      <td>37</td>\n",
       "      <td>1</td>\n",
       "      <td>2</td>\n",
       "      <td>130</td>\n",
       "      <td>250</td>\n",
       "      <td>0</td>\n",
       "      <td>1</td>\n",
       "      <td>187</td>\n",
       "      <td>0</td>\n",
       "      <td>3.5</td>\n",
       "      <td>0</td>\n",
       "      <td>0</td>\n",
       "      <td>2</td>\n",
       "      <td>1</td>\n",
       "      <td>0</td>\n",
       "    </tr>\n",
       "    <tr>\n",
       "      <th>2</th>\n",
       "      <td>41</td>\n",
       "      <td>0</td>\n",
       "      <td>1</td>\n",
       "      <td>130</td>\n",
       "      <td>204</td>\n",
       "      <td>0</td>\n",
       "      <td>0</td>\n",
       "      <td>172</td>\n",
       "      <td>0</td>\n",
       "      <td>1.4</td>\n",
       "      <td>2</td>\n",
       "      <td>0</td>\n",
       "      <td>2</td>\n",
       "      <td>1</td>\n",
       "      <td>0</td>\n",
       "    </tr>\n",
       "    <tr>\n",
       "      <th>3</th>\n",
       "      <td>56</td>\n",
       "      <td>1</td>\n",
       "      <td>1</td>\n",
       "      <td>120</td>\n",
       "      <td>236</td>\n",
       "      <td>0</td>\n",
       "      <td>1</td>\n",
       "      <td>178</td>\n",
       "      <td>0</td>\n",
       "      <td>0.8</td>\n",
       "      <td>2</td>\n",
       "      <td>0</td>\n",
       "      <td>2</td>\n",
       "      <td>1</td>\n",
       "      <td>0</td>\n",
       "    </tr>\n",
       "    <tr>\n",
       "      <th>4</th>\n",
       "      <td>57</td>\n",
       "      <td>0</td>\n",
       "      <td>0</td>\n",
       "      <td>120</td>\n",
       "      <td>354</td>\n",
       "      <td>0</td>\n",
       "      <td>1</td>\n",
       "      <td>163</td>\n",
       "      <td>1</td>\n",
       "      <td>0.6</td>\n",
       "      <td>2</td>\n",
       "      <td>0</td>\n",
       "      <td>2</td>\n",
       "      <td>1</td>\n",
       "      <td>0</td>\n",
       "    </tr>\n",
       "  </tbody>\n",
       "</table>\n",
       "</div>"
      ],
      "text/plain": [
       "   age  sex  cp  trestbps  chol  fbs  restecg  thalach  exang  oldpeak  slope  \\\n",
       "0   63    1   3       145   233    1        0      150      0      2.3      0   \n",
       "1   37    1   2       130   250    0        1      187      0      3.5      0   \n",
       "2   41    0   1       130   204    0        0      172      0      1.4      2   \n",
       "3   56    1   1       120   236    0        1      178      0      0.8      2   \n",
       "4   57    0   0       120   354    0        1      163      1      0.6      2   \n",
       "\n",
       "   ca  thal  target  test  \n",
       "0   0     1       1     0  \n",
       "1   0     2       1     0  \n",
       "2   0     2       1     0  \n",
       "3   0     2       1     0  \n",
       "4   0     2       1     0  "
      ]
     },
<<<<<<< HEAD
     "execution_count": 27,
=======
     "execution_count": 36,
>>>>>>> upstream/main
     "metadata": {},
     "output_type": "execute_result"
    }
   ],
   "source": [
    "heart_augmented.head()"
   ]
  },
  {
   "cell_type": "markdown",
   "metadata": {},
   "source": [
    "I can also add columns whose values are functions of existing columns.\n",
    "\n",
    "Suppose I want to add the cholesterol column (\"chol\") to the resting systolic blood pressure column (\"trestbps\"):"
   ]
  },
  {
   "cell_type": "code",
<<<<<<< HEAD
   "execution_count": 28,
=======
   "execution_count": 37,
>>>>>>> upstream/main
   "metadata": {},
   "outputs": [],
   "source": [
    "heart_augmented['chol+trestbps'] = heart_augmented['chol'] + heart_augmented['trestbps']"
   ]
  },
  {
   "cell_type": "code",
<<<<<<< HEAD
   "execution_count": 29,
=======
   "execution_count": 38,
>>>>>>> upstream/main
   "metadata": {},
   "outputs": [
    {
     "data": {
      "text/html": [
       "<div>\n",
       "<style scoped>\n",
       "    .dataframe tbody tr th:only-of-type {\n",
       "        vertical-align: middle;\n",
       "    }\n",
       "\n",
       "    .dataframe tbody tr th {\n",
       "        vertical-align: top;\n",
       "    }\n",
       "\n",
       "    .dataframe thead th {\n",
       "        text-align: right;\n",
       "    }\n",
       "</style>\n",
       "<table border=\"1\" class=\"dataframe\">\n",
       "  <thead>\n",
       "    <tr style=\"text-align: right;\">\n",
       "      <th></th>\n",
       "      <th>age</th>\n",
       "      <th>sex</th>\n",
       "      <th>cp</th>\n",
       "      <th>trestbps</th>\n",
       "      <th>chol</th>\n",
       "      <th>fbs</th>\n",
       "      <th>restecg</th>\n",
       "      <th>thalach</th>\n",
       "      <th>exang</th>\n",
       "      <th>oldpeak</th>\n",
       "      <th>slope</th>\n",
       "      <th>ca</th>\n",
       "      <th>thal</th>\n",
       "      <th>target</th>\n",
       "      <th>test</th>\n",
       "      <th>chol+trestbps</th>\n",
       "    </tr>\n",
       "  </thead>\n",
       "  <tbody>\n",
       "    <tr>\n",
       "      <th>0</th>\n",
       "      <td>63</td>\n",
       "      <td>1</td>\n",
       "      <td>3</td>\n",
       "      <td>145</td>\n",
       "      <td>233</td>\n",
       "      <td>1</td>\n",
       "      <td>0</td>\n",
       "      <td>150</td>\n",
       "      <td>0</td>\n",
       "      <td>2.3</td>\n",
       "      <td>0</td>\n",
       "      <td>0</td>\n",
       "      <td>1</td>\n",
       "      <td>1</td>\n",
       "      <td>0</td>\n",
       "      <td>378</td>\n",
       "    </tr>\n",
       "    <tr>\n",
       "      <th>1</th>\n",
       "      <td>37</td>\n",
       "      <td>1</td>\n",
       "      <td>2</td>\n",
       "      <td>130</td>\n",
       "      <td>250</td>\n",
       "      <td>0</td>\n",
       "      <td>1</td>\n",
       "      <td>187</td>\n",
       "      <td>0</td>\n",
       "      <td>3.5</td>\n",
       "      <td>0</td>\n",
       "      <td>0</td>\n",
       "      <td>2</td>\n",
       "      <td>1</td>\n",
       "      <td>0</td>\n",
       "      <td>380</td>\n",
       "    </tr>\n",
       "    <tr>\n",
       "      <th>2</th>\n",
       "      <td>41</td>\n",
       "      <td>0</td>\n",
       "      <td>1</td>\n",
       "      <td>130</td>\n",
       "      <td>204</td>\n",
       "      <td>0</td>\n",
       "      <td>0</td>\n",
       "      <td>172</td>\n",
       "      <td>0</td>\n",
       "      <td>1.4</td>\n",
       "      <td>2</td>\n",
       "      <td>0</td>\n",
       "      <td>2</td>\n",
       "      <td>1</td>\n",
       "      <td>0</td>\n",
       "      <td>334</td>\n",
       "    </tr>\n",
       "    <tr>\n",
       "      <th>3</th>\n",
       "      <td>56</td>\n",
       "      <td>1</td>\n",
       "      <td>1</td>\n",
       "      <td>120</td>\n",
       "      <td>236</td>\n",
       "      <td>0</td>\n",
       "      <td>1</td>\n",
       "      <td>178</td>\n",
       "      <td>0</td>\n",
       "      <td>0.8</td>\n",
       "      <td>2</td>\n",
       "      <td>0</td>\n",
       "      <td>2</td>\n",
       "      <td>1</td>\n",
       "      <td>0</td>\n",
       "      <td>356</td>\n",
       "    </tr>\n",
       "    <tr>\n",
       "      <th>4</th>\n",
       "      <td>57</td>\n",
       "      <td>0</td>\n",
       "      <td>0</td>\n",
       "      <td>120</td>\n",
       "      <td>354</td>\n",
       "      <td>0</td>\n",
       "      <td>1</td>\n",
       "      <td>163</td>\n",
       "      <td>1</td>\n",
       "      <td>0.6</td>\n",
       "      <td>2</td>\n",
       "      <td>0</td>\n",
       "      <td>2</td>\n",
       "      <td>1</td>\n",
       "      <td>0</td>\n",
       "      <td>474</td>\n",
       "    </tr>\n",
       "  </tbody>\n",
       "</table>\n",
       "</div>"
      ],
      "text/plain": [
       "   age  sex  cp  trestbps  chol  fbs  restecg  thalach  exang  oldpeak  slope  \\\n",
       "0   63    1   3       145   233    1        0      150      0      2.3      0   \n",
       "1   37    1   2       130   250    0        1      187      0      3.5      0   \n",
       "2   41    0   1       130   204    0        0      172      0      1.4      2   \n",
       "3   56    1   1       120   236    0        1      178      0      0.8      2   \n",
       "4   57    0   0       120   354    0        1      163      1      0.6      2   \n",
       "\n",
       "   ca  thal  target  test  chol+trestbps  \n",
       "0   0     1       1     0            378  \n",
       "1   0     2       1     0            380  \n",
       "2   0     2       1     0            334  \n",
       "3   0     2       1     0            356  \n",
       "4   0     2       1     0            474  "
      ]
     },
<<<<<<< HEAD
     "execution_count": 29,
=======
     "execution_count": 38,
>>>>>>> upstream/main
     "metadata": {},
     "output_type": "execute_result"
    }
   ],
   "source": [
    "heart_augmented.head()"
   ]
  },
  {
   "cell_type": "markdown",
   "metadata": {},
   "source": [
    "## Filtering"
   ]
  },
  {
   "cell_type": "markdown",
   "metadata": {},
   "source": [
    "We can use filtering techniques to see only certain rows of our data. If we wanted to see only the rows for patients 70 years of age or older, we can simply type:"
   ]
  },
  {
   "cell_type": "code",
<<<<<<< HEAD
   "execution_count": 30,
=======
   "execution_count": 39,
>>>>>>> upstream/main
   "metadata": {},
   "outputs": [
    {
     "data": {
      "text/html": [
       "<div>\n",
       "<style scoped>\n",
       "    .dataframe tbody tr th:only-of-type {\n",
       "        vertical-align: middle;\n",
       "    }\n",
       "\n",
       "    .dataframe tbody tr th {\n",
       "        vertical-align: top;\n",
       "    }\n",
       "\n",
       "    .dataframe thead th {\n",
       "        text-align: right;\n",
       "    }\n",
       "</style>\n",
       "<table border=\"1\" class=\"dataframe\">\n",
       "  <thead>\n",
       "    <tr style=\"text-align: right;\">\n",
       "      <th></th>\n",
       "      <th>age</th>\n",
       "      <th>sex</th>\n",
       "      <th>cp</th>\n",
       "      <th>trestbps</th>\n",
       "      <th>chol</th>\n",
       "      <th>fbs</th>\n",
       "      <th>restecg</th>\n",
       "      <th>thalach</th>\n",
       "      <th>exang</th>\n",
       "      <th>oldpeak</th>\n",
       "      <th>slope</th>\n",
       "      <th>ca</th>\n",
       "      <th>thal</th>\n",
       "      <th>target</th>\n",
       "      <th>test</th>\n",
       "      <th>chol+trestbps</th>\n",
       "    </tr>\n",
       "  </thead>\n",
       "  <tbody>\n",
       "    <tr>\n",
       "      <th>25</th>\n",
       "      <td>71</td>\n",
       "      <td>0</td>\n",
       "      <td>1</td>\n",
       "      <td>160</td>\n",
       "      <td>302</td>\n",
       "      <td>0</td>\n",
       "      <td>1</td>\n",
       "      <td>162</td>\n",
       "      <td>0</td>\n",
       "      <td>0.4</td>\n",
       "      <td>2</td>\n",
       "      <td>2</td>\n",
       "      <td>2</td>\n",
       "      <td>1</td>\n",
       "      <td>0</td>\n",
       "      <td>462</td>\n",
       "    </tr>\n",
       "    <tr>\n",
       "      <th>60</th>\n",
       "      <td>71</td>\n",
       "      <td>0</td>\n",
       "      <td>2</td>\n",
       "      <td>110</td>\n",
       "      <td>265</td>\n",
       "      <td>1</td>\n",
       "      <td>0</td>\n",
       "      <td>130</td>\n",
       "      <td>0</td>\n",
       "      <td>0.0</td>\n",
       "      <td>2</td>\n",
       "      <td>1</td>\n",
       "      <td>2</td>\n",
       "      <td>1</td>\n",
       "      <td>0</td>\n",
       "      <td>375</td>\n",
       "    </tr>\n",
       "    <tr>\n",
       "      <th>129</th>\n",
       "      <td>74</td>\n",
       "      <td>0</td>\n",
       "      <td>1</td>\n",
       "      <td>120</td>\n",
       "      <td>269</td>\n",
       "      <td>0</td>\n",
       "      <td>0</td>\n",
       "      <td>121</td>\n",
       "      <td>1</td>\n",
       "      <td>0.2</td>\n",
       "      <td>2</td>\n",
       "      <td>1</td>\n",
       "      <td>2</td>\n",
       "      <td>1</td>\n",
       "      <td>0</td>\n",
       "      <td>389</td>\n",
       "    </tr>\n",
       "    <tr>\n",
       "      <th>144</th>\n",
       "      <td>76</td>\n",
       "      <td>0</td>\n",
       "      <td>2</td>\n",
       "      <td>140</td>\n",
       "      <td>197</td>\n",
       "      <td>0</td>\n",
       "      <td>2</td>\n",
       "      <td>116</td>\n",
       "      <td>0</td>\n",
       "      <td>1.1</td>\n",
       "      <td>1</td>\n",
       "      <td>0</td>\n",
       "      <td>2</td>\n",
       "      <td>1</td>\n",
       "      <td>0</td>\n",
       "      <td>337</td>\n",
       "    </tr>\n",
       "    <tr>\n",
       "      <th>145</th>\n",
       "      <td>70</td>\n",
       "      <td>1</td>\n",
       "      <td>1</td>\n",
       "      <td>156</td>\n",
       "      <td>245</td>\n",
       "      <td>0</td>\n",
       "      <td>0</td>\n",
       "      <td>143</td>\n",
       "      <td>0</td>\n",
       "      <td>0.0</td>\n",
       "      <td>2</td>\n",
       "      <td>0</td>\n",
       "      <td>2</td>\n",
       "      <td>1</td>\n",
       "      <td>0</td>\n",
       "      <td>401</td>\n",
       "    </tr>\n",
       "    <tr>\n",
       "      <th>151</th>\n",
       "      <td>71</td>\n",
       "      <td>0</td>\n",
       "      <td>0</td>\n",
       "      <td>112</td>\n",
       "      <td>149</td>\n",
       "      <td>0</td>\n",
       "      <td>1</td>\n",
       "      <td>125</td>\n",
       "      <td>0</td>\n",
       "      <td>1.6</td>\n",
       "      <td>1</td>\n",
       "      <td>0</td>\n",
       "      <td>2</td>\n",
       "      <td>1</td>\n",
       "      <td>0</td>\n",
       "      <td>261</td>\n",
       "    </tr>\n",
       "    <tr>\n",
       "      <th>225</th>\n",
       "      <td>70</td>\n",
       "      <td>1</td>\n",
       "      <td>0</td>\n",
       "      <td>145</td>\n",
       "      <td>174</td>\n",
       "      <td>0</td>\n",
       "      <td>1</td>\n",
       "      <td>125</td>\n",
       "      <td>1</td>\n",
       "      <td>2.6</td>\n",
       "      <td>0</td>\n",
       "      <td>0</td>\n",
       "      <td>3</td>\n",
       "      <td>0</td>\n",
       "      <td>0</td>\n",
       "      <td>319</td>\n",
       "    </tr>\n",
       "    <tr>\n",
       "      <th>234</th>\n",
       "      <td>70</td>\n",
       "      <td>1</td>\n",
       "      <td>0</td>\n",
       "      <td>130</td>\n",
       "      <td>322</td>\n",
       "      <td>0</td>\n",
       "      <td>0</td>\n",
       "      <td>109</td>\n",
       "      <td>0</td>\n",
       "      <td>2.4</td>\n",
       "      <td>1</td>\n",
       "      <td>3</td>\n",
       "      <td>2</td>\n",
       "      <td>0</td>\n",
       "      <td>0</td>\n",
       "      <td>452</td>\n",
       "    </tr>\n",
       "    <tr>\n",
       "      <th>238</th>\n",
       "      <td>77</td>\n",
       "      <td>1</td>\n",
       "      <td>0</td>\n",
       "      <td>125</td>\n",
       "      <td>304</td>\n",
       "      <td>0</td>\n",
       "      <td>0</td>\n",
       "      <td>162</td>\n",
       "      <td>1</td>\n",
       "      <td>0.0</td>\n",
       "      <td>2</td>\n",
       "      <td>3</td>\n",
       "      <td>2</td>\n",
       "      <td>0</td>\n",
       "      <td>0</td>\n",
       "      <td>429</td>\n",
       "    </tr>\n",
       "    <tr>\n",
       "      <th>240</th>\n",
       "      <td>70</td>\n",
       "      <td>1</td>\n",
       "      <td>2</td>\n",
       "      <td>160</td>\n",
       "      <td>269</td>\n",
       "      <td>0</td>\n",
       "      <td>1</td>\n",
       "      <td>112</td>\n",
       "      <td>1</td>\n",
       "      <td>2.9</td>\n",
       "      <td>1</td>\n",
       "      <td>1</td>\n",
       "      <td>3</td>\n",
       "      <td>0</td>\n",
       "      <td>0</td>\n",
       "      <td>429</td>\n",
       "    </tr>\n",
       "  </tbody>\n",
       "</table>\n",
       "</div>"
      ],
      "text/plain": [
       "     age  sex  cp  trestbps  chol  fbs  restecg  thalach  exang  oldpeak  \\\n",
       "25    71    0   1       160   302    0        1      162      0      0.4   \n",
       "60    71    0   2       110   265    1        0      130      0      0.0   \n",
       "129   74    0   1       120   269    0        0      121      1      0.2   \n",
       "144   76    0   2       140   197    0        2      116      0      1.1   \n",
       "145   70    1   1       156   245    0        0      143      0      0.0   \n",
       "151   71    0   0       112   149    0        1      125      0      1.6   \n",
       "225   70    1   0       145   174    0        1      125      1      2.6   \n",
       "234   70    1   0       130   322    0        0      109      0      2.4   \n",
       "238   77    1   0       125   304    0        0      162      1      0.0   \n",
       "240   70    1   2       160   269    0        1      112      1      2.9   \n",
       "\n",
       "     slope  ca  thal  target  test  chol+trestbps  \n",
       "25       2   2     2       1     0            462  \n",
       "60       2   1     2       1     0            375  \n",
       "129      2   1     2       1     0            389  \n",
       "144      1   0     2       1     0            337  \n",
       "145      2   0     2       1     0            401  \n",
       "151      1   0     2       1     0            261  \n",
       "225      0   0     3       0     0            319  \n",
       "234      1   3     2       0     0            452  \n",
       "238      2   3     2       0     0            429  \n",
       "240      1   1     3       0     0            429  "
      ]
     },
<<<<<<< HEAD
     "execution_count": 30,
=======
     "execution_count": 39,
>>>>>>> upstream/main
     "metadata": {},
     "output_type": "execute_result"
    }
   ],
   "source": [
    "heart_augmented[heart_augmented['age'] >= 70]"
   ]
  },
  {
   "cell_type": "markdown",
   "metadata": {},
   "source": [
    "Use '&' for \"and\" and '|' for \"or\"."
   ]
  },
  {
   "cell_type": "markdown",
   "metadata": {},
   "source": [
    "### Exercise\n",
    "\n",
    "Display the patients who are 70 or over as well as the patients whose trestbps score is greater than 170."
   ]
  },
  {
   "cell_type": "code",
<<<<<<< HEAD
   "execution_count": 32,
=======
   "execution_count": 41,
>>>>>>> upstream/main
   "metadata": {},
   "outputs": [
    {
     "data": {
      "text/html": [
       "<div>\n",
       "<style scoped>\n",
       "    .dataframe tbody tr th:only-of-type {\n",
       "        vertical-align: middle;\n",
       "    }\n",
       "\n",
       "    .dataframe tbody tr th {\n",
       "        vertical-align: top;\n",
       "    }\n",
       "\n",
       "    .dataframe thead th {\n",
       "        text-align: right;\n",
       "    }\n",
       "</style>\n",
       "<table border=\"1\" class=\"dataframe\">\n",
       "  <thead>\n",
       "    <tr style=\"text-align: right;\">\n",
       "      <th></th>\n",
       "      <th>age</th>\n",
       "      <th>sex</th>\n",
       "      <th>cp</th>\n",
       "      <th>trestbps</th>\n",
       "      <th>chol</th>\n",
       "      <th>fbs</th>\n",
       "      <th>restecg</th>\n",
       "      <th>thalach</th>\n",
       "      <th>exang</th>\n",
       "      <th>oldpeak</th>\n",
       "      <th>slope</th>\n",
       "      <th>ca</th>\n",
       "      <th>thal</th>\n",
       "      <th>target</th>\n",
       "      <th>test</th>\n",
       "      <th>chol+trestbps</th>\n",
       "    </tr>\n",
       "  </thead>\n",
       "  <tbody>\n",
       "    <tr>\n",
       "      <th>8</th>\n",
       "      <td>52</td>\n",
       "      <td>1</td>\n",
       "      <td>2</td>\n",
       "      <td>172</td>\n",
       "      <td>199</td>\n",
       "      <td>1</td>\n",
       "      <td>1</td>\n",
       "      <td>162</td>\n",
       "      <td>0</td>\n",
       "      <td>0.5</td>\n",
       "      <td>2</td>\n",
       "      <td>0</td>\n",
       "      <td>3</td>\n",
       "      <td>1</td>\n",
       "      <td>0</td>\n",
       "      <td>371</td>\n",
       "    </tr>\n",
       "    <tr>\n",
       "      <th>25</th>\n",
       "      <td>71</td>\n",
       "      <td>0</td>\n",
       "      <td>1</td>\n",
       "      <td>160</td>\n",
       "      <td>302</td>\n",
       "      <td>0</td>\n",
       "      <td>1</td>\n",
       "      <td>162</td>\n",
       "      <td>0</td>\n",
       "      <td>0.4</td>\n",
       "      <td>2</td>\n",
       "      <td>2</td>\n",
       "      <td>2</td>\n",
       "      <td>1</td>\n",
       "      <td>0</td>\n",
       "      <td>462</td>\n",
       "    </tr>\n",
       "    <tr>\n",
       "      <th>60</th>\n",
       "      <td>71</td>\n",
       "      <td>0</td>\n",
       "      <td>2</td>\n",
       "      <td>110</td>\n",
       "      <td>265</td>\n",
       "      <td>1</td>\n",
       "      <td>0</td>\n",
       "      <td>130</td>\n",
       "      <td>0</td>\n",
       "      <td>0.0</td>\n",
       "      <td>2</td>\n",
       "      <td>1</td>\n",
       "      <td>2</td>\n",
       "      <td>1</td>\n",
       "      <td>0</td>\n",
       "      <td>375</td>\n",
       "    </tr>\n",
       "    <tr>\n",
       "      <th>101</th>\n",
       "      <td>59</td>\n",
       "      <td>1</td>\n",
       "      <td>3</td>\n",
       "      <td>178</td>\n",
       "      <td>270</td>\n",
       "      <td>0</td>\n",
       "      <td>0</td>\n",
       "      <td>145</td>\n",
       "      <td>0</td>\n",
       "      <td>4.2</td>\n",
       "      <td>0</td>\n",
       "      <td>0</td>\n",
       "      <td>3</td>\n",
       "      <td>1</td>\n",
       "      <td>0</td>\n",
       "      <td>448</td>\n",
       "    </tr>\n",
       "    <tr>\n",
       "      <th>110</th>\n",
       "      <td>64</td>\n",
       "      <td>0</td>\n",
       "      <td>0</td>\n",
       "      <td>180</td>\n",
       "      <td>325</td>\n",
       "      <td>0</td>\n",
       "      <td>1</td>\n",
       "      <td>154</td>\n",
       "      <td>1</td>\n",
       "      <td>0.0</td>\n",
       "      <td>2</td>\n",
       "      <td>0</td>\n",
       "      <td>2</td>\n",
       "      <td>1</td>\n",
       "      <td>0</td>\n",
       "      <td>505</td>\n",
       "    </tr>\n",
       "    <tr>\n",
       "      <th>129</th>\n",
       "      <td>74</td>\n",
       "      <td>0</td>\n",
       "      <td>1</td>\n",
       "      <td>120</td>\n",
       "      <td>269</td>\n",
       "      <td>0</td>\n",
       "      <td>0</td>\n",
       "      <td>121</td>\n",
       "      <td>1</td>\n",
       "      <td>0.2</td>\n",
       "      <td>2</td>\n",
       "      <td>1</td>\n",
       "      <td>2</td>\n",
       "      <td>1</td>\n",
       "      <td>0</td>\n",
       "      <td>389</td>\n",
       "    </tr>\n",
       "    <tr>\n",
       "      <th>144</th>\n",
       "      <td>76</td>\n",
       "      <td>0</td>\n",
       "      <td>2</td>\n",
       "      <td>140</td>\n",
       "      <td>197</td>\n",
       "      <td>0</td>\n",
       "      <td>2</td>\n",
       "      <td>116</td>\n",
       "      <td>0</td>\n",
       "      <td>1.1</td>\n",
       "      <td>1</td>\n",
       "      <td>0</td>\n",
       "      <td>2</td>\n",
       "      <td>1</td>\n",
       "      <td>0</td>\n",
       "      <td>337</td>\n",
       "    </tr>\n",
       "    <tr>\n",
       "      <th>145</th>\n",
       "      <td>70</td>\n",
       "      <td>1</td>\n",
       "      <td>1</td>\n",
       "      <td>156</td>\n",
       "      <td>245</td>\n",
       "      <td>0</td>\n",
       "      <td>0</td>\n",
       "      <td>143</td>\n",
       "      <td>0</td>\n",
       "      <td>0.0</td>\n",
       "      <td>2</td>\n",
       "      <td>0</td>\n",
       "      <td>2</td>\n",
       "      <td>1</td>\n",
       "      <td>0</td>\n",
       "      <td>401</td>\n",
       "    </tr>\n",
       "    <tr>\n",
       "      <th>151</th>\n",
       "      <td>71</td>\n",
       "      <td>0</td>\n",
       "      <td>0</td>\n",
       "      <td>112</td>\n",
       "      <td>149</td>\n",
       "      <td>0</td>\n",
       "      <td>1</td>\n",
       "      <td>125</td>\n",
       "      <td>0</td>\n",
       "      <td>1.6</td>\n",
       "      <td>1</td>\n",
       "      <td>0</td>\n",
       "      <td>2</td>\n",
       "      <td>1</td>\n",
       "      <td>0</td>\n",
       "      <td>261</td>\n",
       "    </tr>\n",
       "    <tr>\n",
       "      <th>203</th>\n",
       "      <td>68</td>\n",
       "      <td>1</td>\n",
       "      <td>2</td>\n",
       "      <td>180</td>\n",
       "      <td>274</td>\n",
       "      <td>1</td>\n",
       "      <td>0</td>\n",
       "      <td>150</td>\n",
       "      <td>1</td>\n",
       "      <td>1.6</td>\n",
       "      <td>1</td>\n",
       "      <td>0</td>\n",
       "      <td>3</td>\n",
       "      <td>0</td>\n",
       "      <td>0</td>\n",
       "      <td>454</td>\n",
       "    </tr>\n",
       "    <tr>\n",
       "      <th>223</th>\n",
       "      <td>56</td>\n",
       "      <td>0</td>\n",
       "      <td>0</td>\n",
       "      <td>200</td>\n",
       "      <td>288</td>\n",
       "      <td>1</td>\n",
       "      <td>0</td>\n",
       "      <td>133</td>\n",
       "      <td>1</td>\n",
       "      <td>4.0</td>\n",
       "      <td>0</td>\n",
       "      <td>2</td>\n",
       "      <td>3</td>\n",
       "      <td>0</td>\n",
       "      <td>0</td>\n",
       "      <td>488</td>\n",
       "    </tr>\n",
       "    <tr>\n",
       "      <th>225</th>\n",
       "      <td>70</td>\n",
       "      <td>1</td>\n",
       "      <td>0</td>\n",
       "      <td>145</td>\n",
       "      <td>174</td>\n",
       "      <td>0</td>\n",
       "      <td>1</td>\n",
       "      <td>125</td>\n",
       "      <td>1</td>\n",
       "      <td>2.6</td>\n",
       "      <td>0</td>\n",
       "      <td>0</td>\n",
       "      <td>3</td>\n",
       "      <td>0</td>\n",
       "      <td>0</td>\n",
       "      <td>319</td>\n",
       "    </tr>\n",
       "    <tr>\n",
       "      <th>234</th>\n",
       "      <td>70</td>\n",
       "      <td>1</td>\n",
       "      <td>0</td>\n",
       "      <td>130</td>\n",
       "      <td>322</td>\n",
       "      <td>0</td>\n",
       "      <td>0</td>\n",
       "      <td>109</td>\n",
       "      <td>0</td>\n",
       "      <td>2.4</td>\n",
       "      <td>1</td>\n",
       "      <td>3</td>\n",
       "      <td>2</td>\n",
       "      <td>0</td>\n",
       "      <td>0</td>\n",
       "      <td>452</td>\n",
       "    </tr>\n",
       "    <tr>\n",
       "      <th>238</th>\n",
       "      <td>77</td>\n",
       "      <td>1</td>\n",
       "      <td>0</td>\n",
       "      <td>125</td>\n",
       "      <td>304</td>\n",
       "      <td>0</td>\n",
       "      <td>0</td>\n",
       "      <td>162</td>\n",
       "      <td>1</td>\n",
       "      <td>0.0</td>\n",
       "      <td>2</td>\n",
       "      <td>3</td>\n",
       "      <td>2</td>\n",
       "      <td>0</td>\n",
       "      <td>0</td>\n",
       "      <td>429</td>\n",
       "    </tr>\n",
       "    <tr>\n",
       "      <th>240</th>\n",
       "      <td>70</td>\n",
       "      <td>1</td>\n",
       "      <td>2</td>\n",
       "      <td>160</td>\n",
       "      <td>269</td>\n",
       "      <td>0</td>\n",
       "      <td>1</td>\n",
       "      <td>112</td>\n",
       "      <td>1</td>\n",
       "      <td>2.9</td>\n",
       "      <td>1</td>\n",
       "      <td>1</td>\n",
       "      <td>3</td>\n",
       "      <td>0</td>\n",
       "      <td>0</td>\n",
       "      <td>429</td>\n",
       "    </tr>\n",
       "    <tr>\n",
       "      <th>241</th>\n",
       "      <td>59</td>\n",
       "      <td>0</td>\n",
       "      <td>0</td>\n",
       "      <td>174</td>\n",
       "      <td>249</td>\n",
       "      <td>0</td>\n",
       "      <td>1</td>\n",
       "      <td>143</td>\n",
       "      <td>1</td>\n",
       "      <td>0.0</td>\n",
       "      <td>1</td>\n",
       "      <td>0</td>\n",
       "      <td>2</td>\n",
       "      <td>0</td>\n",
       "      <td>0</td>\n",
       "      <td>423</td>\n",
       "    </tr>\n",
       "    <tr>\n",
       "      <th>248</th>\n",
       "      <td>54</td>\n",
       "      <td>1</td>\n",
       "      <td>1</td>\n",
       "      <td>192</td>\n",
       "      <td>283</td>\n",
       "      <td>0</td>\n",
       "      <td>0</td>\n",
       "      <td>195</td>\n",
       "      <td>0</td>\n",
       "      <td>0.0</td>\n",
       "      <td>2</td>\n",
       "      <td>1</td>\n",
       "      <td>3</td>\n",
       "      <td>0</td>\n",
       "      <td>0</td>\n",
       "      <td>475</td>\n",
       "    </tr>\n",
       "    <tr>\n",
       "      <th>260</th>\n",
       "      <td>66</td>\n",
       "      <td>0</td>\n",
       "      <td>0</td>\n",
       "      <td>178</td>\n",
       "      <td>228</td>\n",
       "      <td>1</td>\n",
       "      <td>1</td>\n",
       "      <td>165</td>\n",
       "      <td>1</td>\n",
       "      <td>1.0</td>\n",
       "      <td>1</td>\n",
       "      <td>2</td>\n",
       "      <td>3</td>\n",
       "      <td>0</td>\n",
       "      <td>0</td>\n",
       "      <td>406</td>\n",
       "    </tr>\n",
       "    <tr>\n",
       "      <th>266</th>\n",
       "      <td>55</td>\n",
       "      <td>0</td>\n",
       "      <td>0</td>\n",
       "      <td>180</td>\n",
       "      <td>327</td>\n",
       "      <td>0</td>\n",
       "      <td>2</td>\n",
       "      <td>117</td>\n",
       "      <td>1</td>\n",
       "      <td>3.4</td>\n",
       "      <td>1</td>\n",
       "      <td>0</td>\n",
       "      <td>2</td>\n",
       "      <td>0</td>\n",
       "      <td>0</td>\n",
       "      <td>507</td>\n",
       "    </tr>\n",
       "  </tbody>\n",
       "</table>\n",
       "</div>"
      ],
      "text/plain": [
       "     age  sex  cp  trestbps  chol  fbs  restecg  thalach  exang  oldpeak  \\\n",
       "8     52    1   2       172   199    1        1      162      0      0.5   \n",
       "25    71    0   1       160   302    0        1      162      0      0.4   \n",
       "60    71    0   2       110   265    1        0      130      0      0.0   \n",
       "101   59    1   3       178   270    0        0      145      0      4.2   \n",
       "110   64    0   0       180   325    0        1      154      1      0.0   \n",
       "129   74    0   1       120   269    0        0      121      1      0.2   \n",
       "144   76    0   2       140   197    0        2      116      0      1.1   \n",
       "145   70    1   1       156   245    0        0      143      0      0.0   \n",
       "151   71    0   0       112   149    0        1      125      0      1.6   \n",
       "203   68    1   2       180   274    1        0      150      1      1.6   \n",
       "223   56    0   0       200   288    1        0      133      1      4.0   \n",
       "225   70    1   0       145   174    0        1      125      1      2.6   \n",
       "234   70    1   0       130   322    0        0      109      0      2.4   \n",
       "238   77    1   0       125   304    0        0      162      1      0.0   \n",
       "240   70    1   2       160   269    0        1      112      1      2.9   \n",
       "241   59    0   0       174   249    0        1      143      1      0.0   \n",
       "248   54    1   1       192   283    0        0      195      0      0.0   \n",
       "260   66    0   0       178   228    1        1      165      1      1.0   \n",
       "266   55    0   0       180   327    0        2      117      1      3.4   \n",
       "\n",
       "     slope  ca  thal  target  test  chol+trestbps  \n",
       "8        2   0     3       1     0            371  \n",
       "25       2   2     2       1     0            462  \n",
       "60       2   1     2       1     0            375  \n",
       "101      0   0     3       1     0            448  \n",
       "110      2   0     2       1     0            505  \n",
       "129      2   1     2       1     0            389  \n",
       "144      1   0     2       1     0            337  \n",
       "145      2   0     2       1     0            401  \n",
       "151      1   0     2       1     0            261  \n",
       "203      1   0     3       0     0            454  \n",
       "223      0   2     3       0     0            488  \n",
       "225      0   0     3       0     0            319  \n",
       "234      1   3     2       0     0            452  \n",
       "238      2   3     2       0     0            429  \n",
       "240      1   1     3       0     0            429  \n",
       "241      1   0     2       0     0            423  \n",
       "248      2   1     3       0     0            475  \n",
       "260      1   2     3       0     0            406  \n",
       "266      1   0     2       0     0            507  "
      ]
     },
<<<<<<< HEAD
     "execution_count": 32,
=======
     "execution_count": 41,
>>>>>>> upstream/main
     "metadata": {},
     "output_type": "execute_result"
    }
   ],
   "source": [
<<<<<<< HEAD
    "heart_augmented[(heart_augmented['age'] >= 70) | (heart_augmented['trestbps'] > 170)]"
=======
    "heart_augmented[(heart_augmented.age >= 70) | (heart_augmented.trestbps > 170)]"
>>>>>>> upstream/main
   ]
  },
  {
   "cell_type": "markdown",
   "metadata": {},
   "source": [
    "<details>\n",
    "    <summary>Answer</summary>\n",
    "    <code>heart_augmented[(heart_augmented['age'] >= 70) | (heart_augmented['trestbps'] > 170)]</code>\n",
    "    </details>"
   ]
  },
  {
   "cell_type": "markdown",
   "metadata": {},
   "source": [
    "### Exploratory Plot\n",
    "\n",
    "Using the subframe we just made, let's make a scatter plot of their cholesterol levels vs. age and color by sex:"
   ]
  },
  {
   "cell_type": "code",
<<<<<<< HEAD
   "execution_count": 33,
=======
   "execution_count": 42,
>>>>>>> upstream/main
   "metadata": {},
   "outputs": [
    {
     "data": {
<<<<<<< HEAD
      "image/png": "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",
      "text/plain": [
       "<Figure size 640x480 with 1 Axes>"
=======
      "image/png": "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\n",
      "text/plain": [
       "<Figure size 432x288 with 1 Axes>"
>>>>>>> upstream/main
      ]
     },
     "metadata": {},
     "output_type": "display_data"
    }
   ],
   "source": [
    "at_risk = heart_augmented[(heart_augmented['age'] >= 70) | (heart_augmented['trestbps'] > 170)]\n",
    "\n",
    "sns.scatterplot(data=at_risk, x='age', y='chol', hue='sex');"
   ]
  },
  {
   "cell_type": "markdown",
   "metadata": {},
   "source": [
    "### `.loc` and `.iloc`"
   ]
  },
  {
   "cell_type": "markdown",
   "metadata": {},
   "source": [
    "We can use `.loc` to get, say, the first ten values of the age and resting blood pressure (\"trestbps\") columns:"
   ]
  },
  {
   "cell_type": "code",
<<<<<<< HEAD
   "execution_count": 34,
=======
   "execution_count": 43,
>>>>>>> upstream/main
   "metadata": {},
   "outputs": [
    {
     "data": {
      "text/plain": [
<<<<<<< HEAD
       "<pandas.core.indexing._LocIndexer at 0x260b230e620>"
      ]
     },
     "execution_count": 34,
=======
       "<pandas.core.indexing._LocIndexer at 0x7ff341aca5e0>"
      ]
     },
     "execution_count": 43,
>>>>>>> upstream/main
     "metadata": {},
     "output_type": "execute_result"
    }
   ],
   "source": [
    "heart_augmented.loc"
   ]
  },
  {
   "cell_type": "code",
<<<<<<< HEAD
   "execution_count": 35,
=======
   "execution_count": 44,
>>>>>>> upstream/main
   "metadata": {},
   "outputs": [
    {
     "data": {
      "text/html": [
       "<div>\n",
       "<style scoped>\n",
       "    .dataframe tbody tr th:only-of-type {\n",
       "        vertical-align: middle;\n",
       "    }\n",
       "\n",
       "    .dataframe tbody tr th {\n",
       "        vertical-align: top;\n",
       "    }\n",
       "\n",
       "    .dataframe thead th {\n",
       "        text-align: right;\n",
       "    }\n",
       "</style>\n",
       "<table border=\"1\" class=\"dataframe\">\n",
       "  <thead>\n",
       "    <tr style=\"text-align: right;\">\n",
       "      <th></th>\n",
       "      <th>age</th>\n",
       "      <th>trestbps</th>\n",
       "    </tr>\n",
       "  </thead>\n",
       "  <tbody>\n",
       "    <tr>\n",
       "      <th>0</th>\n",
       "      <td>63</td>\n",
       "      <td>145</td>\n",
       "    </tr>\n",
       "    <tr>\n",
       "      <th>1</th>\n",
       "      <td>37</td>\n",
       "      <td>130</td>\n",
       "    </tr>\n",
       "    <tr>\n",
       "      <th>2</th>\n",
       "      <td>41</td>\n",
       "      <td>130</td>\n",
       "    </tr>\n",
       "    <tr>\n",
       "      <th>3</th>\n",
       "      <td>56</td>\n",
       "      <td>120</td>\n",
       "    </tr>\n",
       "    <tr>\n",
       "      <th>4</th>\n",
       "      <td>57</td>\n",
       "      <td>120</td>\n",
       "    </tr>\n",
       "    <tr>\n",
       "      <th>5</th>\n",
       "      <td>57</td>\n",
       "      <td>140</td>\n",
       "    </tr>\n",
       "    <tr>\n",
       "      <th>6</th>\n",
       "      <td>56</td>\n",
       "      <td>140</td>\n",
       "    </tr>\n",
       "    <tr>\n",
       "      <th>7</th>\n",
       "      <td>44</td>\n",
       "      <td>120</td>\n",
       "    </tr>\n",
       "    <tr>\n",
       "      <th>8</th>\n",
       "      <td>52</td>\n",
       "      <td>172</td>\n",
       "    </tr>\n",
       "    <tr>\n",
       "      <th>9</th>\n",
       "      <td>57</td>\n",
       "      <td>150</td>\n",
       "    </tr>\n",
       "  </tbody>\n",
       "</table>\n",
       "</div>"
      ],
      "text/plain": [
       "   age  trestbps\n",
       "0   63       145\n",
       "1   37       130\n",
       "2   41       130\n",
       "3   56       120\n",
       "4   57       120\n",
       "5   57       140\n",
       "6   56       140\n",
       "7   44       120\n",
       "8   52       172\n",
       "9   57       150"
      ]
     },
<<<<<<< HEAD
     "execution_count": 35,
=======
     "execution_count": 44,
>>>>>>> upstream/main
     "metadata": {},
     "output_type": "execute_result"
    }
   ],
   "source": [
    "heart_augmented.loc[:9, ['age', 'trestbps']]"
   ]
  },
  {
   "cell_type": "markdown",
   "metadata": {},
   "source": [
    "`.iloc` is used for selecting locations in the DataFrame **by number**:"
   ]
  },
  {
   "cell_type": "code",
<<<<<<< HEAD
   "execution_count": 36,
=======
   "execution_count": 45,
>>>>>>> upstream/main
   "metadata": {},
   "outputs": [
    {
     "data": {
      "text/plain": [
<<<<<<< HEAD
       "<pandas.core.indexing._iLocIndexer at 0x260b23241e0>"
      ]
     },
     "execution_count": 36,
=======
       "<pandas.core.indexing._iLocIndexer at 0x7ff33136ecc0>"
      ]
     },
     "execution_count": 45,
>>>>>>> upstream/main
     "metadata": {},
     "output_type": "execute_result"
    }
   ],
   "source": [
    "heart_augmented.iloc"
   ]
  },
  {
   "cell_type": "code",
<<<<<<< HEAD
   "execution_count": 37,
=======
   "execution_count": 47,
>>>>>>> upstream/main
   "metadata": {},
   "outputs": [
    {
     "data": {
<<<<<<< HEAD
=======
      "text/html": [
       "<div>\n",
       "<style scoped>\n",
       "    .dataframe tbody tr th:only-of-type {\n",
       "        vertical-align: middle;\n",
       "    }\n",
       "\n",
       "    .dataframe tbody tr th {\n",
       "        vertical-align: top;\n",
       "    }\n",
       "\n",
       "    .dataframe thead th {\n",
       "        text-align: right;\n",
       "    }\n",
       "</style>\n",
       "<table border=\"1\" class=\"dataframe\">\n",
       "  <thead>\n",
       "    <tr style=\"text-align: right;\">\n",
       "      <th></th>\n",
       "      <th>age</th>\n",
       "      <th>sex</th>\n",
       "      <th>cp</th>\n",
       "      <th>trestbps</th>\n",
       "      <th>chol</th>\n",
       "      <th>fbs</th>\n",
       "      <th>restecg</th>\n",
       "      <th>thalach</th>\n",
       "      <th>exang</th>\n",
       "      <th>oldpeak</th>\n",
       "      <th>slope</th>\n",
       "      <th>ca</th>\n",
       "      <th>thal</th>\n",
       "      <th>target</th>\n",
       "      <th>test</th>\n",
       "      <th>chol+trestbps</th>\n",
       "    </tr>\n",
       "  </thead>\n",
       "  <tbody>\n",
       "    <tr>\n",
       "      <th>0</th>\n",
       "      <td>63</td>\n",
       "      <td>1</td>\n",
       "      <td>3</td>\n",
       "      <td>145</td>\n",
       "      <td>233</td>\n",
       "      <td>1</td>\n",
       "      <td>0</td>\n",
       "      <td>150</td>\n",
       "      <td>0</td>\n",
       "      <td>2.3</td>\n",
       "      <td>0</td>\n",
       "      <td>0</td>\n",
       "      <td>1</td>\n",
       "      <td>1</td>\n",
       "      <td>0</td>\n",
       "      <td>378</td>\n",
       "    </tr>\n",
       "    <tr>\n",
       "      <th>1</th>\n",
       "      <td>37</td>\n",
       "      <td>1</td>\n",
       "      <td>2</td>\n",
       "      <td>130</td>\n",
       "      <td>250</td>\n",
       "      <td>0</td>\n",
       "      <td>1</td>\n",
       "      <td>187</td>\n",
       "      <td>0</td>\n",
       "      <td>3.5</td>\n",
       "      <td>0</td>\n",
       "      <td>0</td>\n",
       "      <td>2</td>\n",
       "      <td>1</td>\n",
       "      <td>0</td>\n",
       "      <td>380</td>\n",
       "    </tr>\n",
       "    <tr>\n",
       "      <th>2</th>\n",
       "      <td>41</td>\n",
       "      <td>0</td>\n",
       "      <td>1</td>\n",
       "      <td>130</td>\n",
       "      <td>204</td>\n",
       "      <td>0</td>\n",
       "      <td>0</td>\n",
       "      <td>172</td>\n",
       "      <td>0</td>\n",
       "      <td>1.4</td>\n",
       "      <td>2</td>\n",
       "      <td>0</td>\n",
       "      <td>2</td>\n",
       "      <td>1</td>\n",
       "      <td>0</td>\n",
       "      <td>334</td>\n",
       "    </tr>\n",
       "    <tr>\n",
       "      <th>3</th>\n",
       "      <td>56</td>\n",
       "      <td>1</td>\n",
       "      <td>1</td>\n",
       "      <td>120</td>\n",
       "      <td>236</td>\n",
       "      <td>0</td>\n",
       "      <td>1</td>\n",
       "      <td>178</td>\n",
       "      <td>0</td>\n",
       "      <td>0.8</td>\n",
       "      <td>2</td>\n",
       "      <td>0</td>\n",
       "      <td>2</td>\n",
       "      <td>1</td>\n",
       "      <td>0</td>\n",
       "      <td>356</td>\n",
       "    </tr>\n",
       "    <tr>\n",
       "      <th>4</th>\n",
       "      <td>57</td>\n",
       "      <td>0</td>\n",
       "      <td>0</td>\n",
       "      <td>120</td>\n",
       "      <td>354</td>\n",
       "      <td>0</td>\n",
       "      <td>1</td>\n",
       "      <td>163</td>\n",
       "      <td>1</td>\n",
       "      <td>0.6</td>\n",
       "      <td>2</td>\n",
       "      <td>0</td>\n",
       "      <td>2</td>\n",
       "      <td>1</td>\n",
       "      <td>0</td>\n",
       "      <td>474</td>\n",
       "    </tr>\n",
       "    <tr>\n",
       "      <th>...</th>\n",
       "      <td>...</td>\n",
       "      <td>...</td>\n",
       "      <td>...</td>\n",
       "      <td>...</td>\n",
       "      <td>...</td>\n",
       "      <td>...</td>\n",
       "      <td>...</td>\n",
       "      <td>...</td>\n",
       "      <td>...</td>\n",
       "      <td>...</td>\n",
       "      <td>...</td>\n",
       "      <td>...</td>\n",
       "      <td>...</td>\n",
       "      <td>...</td>\n",
       "      <td>...</td>\n",
       "      <td>...</td>\n",
       "    </tr>\n",
       "    <tr>\n",
       "      <th>300</th>\n",
       "      <td>68</td>\n",
       "      <td>1</td>\n",
       "      <td>0</td>\n",
       "      <td>144</td>\n",
       "      <td>193</td>\n",
       "      <td>1</td>\n",
       "      <td>1</td>\n",
       "      <td>141</td>\n",
       "      <td>0</td>\n",
       "      <td>3.4</td>\n",
       "      <td>1</td>\n",
       "      <td>2</td>\n",
       "      <td>3</td>\n",
       "      <td>0</td>\n",
       "      <td>0</td>\n",
       "      <td>337</td>\n",
       "    </tr>\n",
       "    <tr>\n",
       "      <th>301</th>\n",
       "      <td>57</td>\n",
       "      <td>1</td>\n",
       "      <td>0</td>\n",
       "      <td>130</td>\n",
       "      <td>131</td>\n",
       "      <td>0</td>\n",
       "      <td>1</td>\n",
       "      <td>115</td>\n",
       "      <td>1</td>\n",
       "      <td>1.2</td>\n",
       "      <td>1</td>\n",
       "      <td>1</td>\n",
       "      <td>3</td>\n",
       "      <td>0</td>\n",
       "      <td>0</td>\n",
       "      <td>261</td>\n",
       "    </tr>\n",
       "    <tr>\n",
       "      <th>302</th>\n",
       "      <td>57</td>\n",
       "      <td>0</td>\n",
       "      <td>1</td>\n",
       "      <td>130</td>\n",
       "      <td>236</td>\n",
       "      <td>0</td>\n",
       "      <td>0</td>\n",
       "      <td>174</td>\n",
       "      <td>0</td>\n",
       "      <td>0.0</td>\n",
       "      <td>1</td>\n",
       "      <td>1</td>\n",
       "      <td>2</td>\n",
       "      <td>0</td>\n",
       "      <td>0</td>\n",
       "      <td>366</td>\n",
       "    </tr>\n",
       "    <tr>\n",
       "      <th>303</th>\n",
       "      <td>40</td>\n",
       "      <td>1</td>\n",
       "      <td>0</td>\n",
       "      <td>120</td>\n",
       "      <td>240</td>\n",
       "      <td>0</td>\n",
       "      <td>1</td>\n",
       "      <td>120</td>\n",
       "      <td>0</td>\n",
       "      <td>0.1</td>\n",
       "      <td>1</td>\n",
       "      <td>0</td>\n",
       "      <td>2</td>\n",
       "      <td>0</td>\n",
       "      <td>0</td>\n",
       "      <td>360</td>\n",
       "    </tr>\n",
       "    <tr>\n",
       "      <th>304</th>\n",
       "      <td>30</td>\n",
       "      <td>0</td>\n",
       "      <td>0</td>\n",
       "      <td>130</td>\n",
       "      <td>200</td>\n",
       "      <td>0</td>\n",
       "      <td>0</td>\n",
       "      <td>122</td>\n",
       "      <td>1</td>\n",
       "      <td>1.0</td>\n",
       "      <td>1</td>\n",
       "      <td>1</td>\n",
       "      <td>3</td>\n",
       "      <td>0</td>\n",
       "      <td>0</td>\n",
       "      <td>330</td>\n",
       "    </tr>\n",
       "  </tbody>\n",
       "</table>\n",
       "<p>305 rows × 16 columns</p>\n",
       "</div>"
      ],
      "text/plain": [
       "     age  sex  cp  trestbps  chol  fbs  restecg  thalach  exang  oldpeak  \\\n",
       "0     63    1   3       145   233    1        0      150      0      2.3   \n",
       "1     37    1   2       130   250    0        1      187      0      3.5   \n",
       "2     41    0   1       130   204    0        0      172      0      1.4   \n",
       "3     56    1   1       120   236    0        1      178      0      0.8   \n",
       "4     57    0   0       120   354    0        1      163      1      0.6   \n",
       "..   ...  ...  ..       ...   ...  ...      ...      ...    ...      ...   \n",
       "300   68    1   0       144   193    1        1      141      0      3.4   \n",
       "301   57    1   0       130   131    0        1      115      1      1.2   \n",
       "302   57    0   1       130   236    0        0      174      0      0.0   \n",
       "303   40    1   0       120   240    0        1      120      0      0.1   \n",
       "304   30    0   0       130   200    0        0      122      1      1.0   \n",
       "\n",
       "     slope  ca  thal  target  test  chol+trestbps  \n",
       "0        0   0     1       1     0            378  \n",
       "1        0   0     2       1     0            380  \n",
       "2        2   0     2       1     0            334  \n",
       "3        2   0     2       1     0            356  \n",
       "4        2   0     2       1     0            474  \n",
       "..     ...  ..   ...     ...   ...            ...  \n",
       "300      1   2     3       0     0            337  \n",
       "301      1   1     3       0     0            261  \n",
       "302      1   1     2       0     0            366  \n",
       "303      1   0     2       0     0            360  \n",
       "304      1   1     3       0     0            330  \n",
       "\n",
       "[305 rows x 16 columns]"
      ]
     },
     "execution_count": 47,
     "metadata": {},
     "output_type": "execute_result"
    }
   ],
   "source": [
    "heart_augmented"
   ]
  },
  {
   "cell_type": "code",
   "execution_count": 46,
   "metadata": {},
   "outputs": [
    {
     "data": {
>>>>>>> upstream/main
      "text/plain": [
       "56"
      ]
     },
<<<<<<< HEAD
     "execution_count": 37,
=======
     "execution_count": 46,
>>>>>>> upstream/main
     "metadata": {},
     "output_type": "execute_result"
    }
   ],
   "source": [
    "heart_augmented.iloc[3, 0]"
   ]
  },
  {
   "cell_type": "markdown",
   "metadata": {},
   "source": [
    "### Exercise\n",
    "\n",
    "How would we get the same slice as just above by using .iloc() instead of .loc()?"
   ]
  },
  {
   "cell_type": "code",
<<<<<<< HEAD
   "execution_count": 52,
=======
   "execution_count": 49,
>>>>>>> upstream/main
   "metadata": {},
   "outputs": [
    {
     "data": {
      "text/html": [
       "<div>\n",
       "<style scoped>\n",
       "    .dataframe tbody tr th:only-of-type {\n",
       "        vertical-align: middle;\n",
       "    }\n",
       "\n",
       "    .dataframe tbody tr th {\n",
       "        vertical-align: top;\n",
       "    }\n",
       "\n",
       "    .dataframe thead th {\n",
       "        text-align: right;\n",
       "    }\n",
       "</style>\n",
       "<table border=\"1\" class=\"dataframe\">\n",
       "  <thead>\n",
       "    <tr style=\"text-align: right;\">\n",
       "      <th></th>\n",
       "      <th>age</th>\n",
       "      <th>trestbps</th>\n",
       "    </tr>\n",
       "  </thead>\n",
       "  <tbody>\n",
       "    <tr>\n",
       "      <th>0</th>\n",
       "      <td>63</td>\n",
       "      <td>145</td>\n",
       "    </tr>\n",
       "    <tr>\n",
       "      <th>1</th>\n",
       "      <td>37</td>\n",
       "      <td>130</td>\n",
       "    </tr>\n",
       "    <tr>\n",
       "      <th>2</th>\n",
       "      <td>41</td>\n",
       "      <td>130</td>\n",
       "    </tr>\n",
       "    <tr>\n",
       "      <th>3</th>\n",
       "      <td>56</td>\n",
       "      <td>120</td>\n",
       "    </tr>\n",
       "    <tr>\n",
       "      <th>4</th>\n",
       "      <td>57</td>\n",
       "      <td>120</td>\n",
       "    </tr>\n",
       "    <tr>\n",
       "      <th>5</th>\n",
       "      <td>57</td>\n",
       "      <td>140</td>\n",
       "    </tr>\n",
       "    <tr>\n",
       "      <th>6</th>\n",
       "      <td>56</td>\n",
       "      <td>140</td>\n",
       "    </tr>\n",
       "    <tr>\n",
       "      <th>7</th>\n",
       "      <td>44</td>\n",
       "      <td>120</td>\n",
       "    </tr>\n",
       "    <tr>\n",
       "      <th>8</th>\n",
       "      <td>52</td>\n",
       "      <td>172</td>\n",
       "    </tr>\n",
       "  </tbody>\n",
       "</table>\n",
       "</div>"
      ],
      "text/plain": [
       "   age  trestbps\n",
       "0   63       145\n",
       "1   37       130\n",
       "2   41       130\n",
       "3   56       120\n",
       "4   57       120\n",
       "5   57       140\n",
       "6   56       140\n",
       "7   44       120\n",
       "8   52       172"
      ]
     },
<<<<<<< HEAD
     "execution_count": 52,
=======
     "execution_count": 49,
>>>>>>> upstream/main
     "metadata": {},
     "output_type": "execute_result"
    }
   ],
   "source": [
    "heart_augmented.iloc[:9,[0,3]]"
   ]
  },
  {
   "cell_type": "markdown",
   "metadata": {},
   "source": [
    "<details>\n",
    "    <summary>Answer</summary>\n",
    "    <code>heart_augmented.iloc[:10, [0, 3]]</code>\n",
    "    </details>"
   ]
  },
  {
   "cell_type": "markdown",
   "metadata": {},
   "source": [
    "## Statistics\n",
    "\n",
    "### `.mean()`"
   ]
  },
  {
   "cell_type": "code",
<<<<<<< HEAD
   "execution_count": 53,
=======
   "execution_count": 56,
>>>>>>> upstream/main
   "metadata": {},
   "outputs": [
    {
     "data": {
<<<<<<< HEAD
      "text/plain": [
       "age               54.239344\n",
       "sex                0.681967\n",
       "cp                 0.960656\n",
       "trestbps         131.580328\n",
       "chol             246.091803\n",
       "fbs                0.147541\n",
       "restecg            0.527869\n",
       "thalach          149.459016\n",
       "exang              0.327869\n",
       "oldpeak            1.036393\n",
       "slope              1.396721\n",
       "ca                 0.727869\n",
       "thal               2.314754\n",
       "target             0.540984\n",
       "test               0.000000\n",
       "chol+trestbps    377.672131\n",
       "dtype: float64"
      ]
     },
     "execution_count": 53,
=======
      "text/html": [
       "<div>\n",
       "<style scoped>\n",
       "    .dataframe tbody tr th:only-of-type {\n",
       "        vertical-align: middle;\n",
       "    }\n",
       "\n",
       "    .dataframe tbody tr th {\n",
       "        vertical-align: top;\n",
       "    }\n",
       "\n",
       "    .dataframe thead th {\n",
       "        text-align: right;\n",
       "    }\n",
       "</style>\n",
       "<table border=\"1\" class=\"dataframe\">\n",
       "  <thead>\n",
       "    <tr style=\"text-align: right;\">\n",
       "      <th></th>\n",
       "      <th>age</th>\n",
       "      <th>sex</th>\n",
       "      <th>cp</th>\n",
       "      <th>trestbps</th>\n",
       "      <th>chol</th>\n",
       "      <th>fbs</th>\n",
       "      <th>restecg</th>\n",
       "      <th>thalach</th>\n",
       "      <th>exang</th>\n",
       "      <th>oldpeak</th>\n",
       "      <th>slope</th>\n",
       "      <th>ca</th>\n",
       "      <th>thal</th>\n",
       "      <th>target</th>\n",
       "      <th>test</th>\n",
       "      <th>chol+trestbps</th>\n",
       "    </tr>\n",
       "  </thead>\n",
       "  <tbody>\n",
       "    <tr>\n",
       "      <th>0</th>\n",
       "      <td>63</td>\n",
       "      <td>1</td>\n",
       "      <td>3</td>\n",
       "      <td>145</td>\n",
       "      <td>233</td>\n",
       "      <td>1</td>\n",
       "      <td>0</td>\n",
       "      <td>150</td>\n",
       "      <td>0</td>\n",
       "      <td>2.3</td>\n",
       "      <td>0</td>\n",
       "      <td>0</td>\n",
       "      <td>1</td>\n",
       "      <td>1</td>\n",
       "      <td>0</td>\n",
       "      <td>378</td>\n",
       "    </tr>\n",
       "    <tr>\n",
       "      <th>1</th>\n",
       "      <td>37</td>\n",
       "      <td>1</td>\n",
       "      <td>2</td>\n",
       "      <td>130</td>\n",
       "      <td>250</td>\n",
       "      <td>0</td>\n",
       "      <td>1</td>\n",
       "      <td>187</td>\n",
       "      <td>0</td>\n",
       "      <td>3.5</td>\n",
       "      <td>0</td>\n",
       "      <td>0</td>\n",
       "      <td>2</td>\n",
       "      <td>1</td>\n",
       "      <td>0</td>\n",
       "      <td>380</td>\n",
       "    </tr>\n",
       "    <tr>\n",
       "      <th>2</th>\n",
       "      <td>41</td>\n",
       "      <td>0</td>\n",
       "      <td>1</td>\n",
       "      <td>130</td>\n",
       "      <td>204</td>\n",
       "      <td>0</td>\n",
       "      <td>0</td>\n",
       "      <td>172</td>\n",
       "      <td>0</td>\n",
       "      <td>1.4</td>\n",
       "      <td>2</td>\n",
       "      <td>0</td>\n",
       "      <td>2</td>\n",
       "      <td>1</td>\n",
       "      <td>0</td>\n",
       "      <td>334</td>\n",
       "    </tr>\n",
       "    <tr>\n",
       "      <th>3</th>\n",
       "      <td>56</td>\n",
       "      <td>1</td>\n",
       "      <td>1</td>\n",
       "      <td>120</td>\n",
       "      <td>236</td>\n",
       "      <td>0</td>\n",
       "      <td>1</td>\n",
       "      <td>178</td>\n",
       "      <td>0</td>\n",
       "      <td>0.8</td>\n",
       "      <td>2</td>\n",
       "      <td>0</td>\n",
       "      <td>2</td>\n",
       "      <td>1</td>\n",
       "      <td>0</td>\n",
       "      <td>356</td>\n",
       "    </tr>\n",
       "    <tr>\n",
       "      <th>4</th>\n",
       "      <td>57</td>\n",
       "      <td>0</td>\n",
       "      <td>0</td>\n",
       "      <td>120</td>\n",
       "      <td>354</td>\n",
       "      <td>0</td>\n",
       "      <td>1</td>\n",
       "      <td>163</td>\n",
       "      <td>1</td>\n",
       "      <td>0.6</td>\n",
       "      <td>2</td>\n",
       "      <td>0</td>\n",
       "      <td>2</td>\n",
       "      <td>1</td>\n",
       "      <td>0</td>\n",
       "      <td>474</td>\n",
       "    </tr>\n",
       "    <tr>\n",
       "      <th>...</th>\n",
       "      <td>...</td>\n",
       "      <td>...</td>\n",
       "      <td>...</td>\n",
       "      <td>...</td>\n",
       "      <td>...</td>\n",
       "      <td>...</td>\n",
       "      <td>...</td>\n",
       "      <td>...</td>\n",
       "      <td>...</td>\n",
       "      <td>...</td>\n",
       "      <td>...</td>\n",
       "      <td>...</td>\n",
       "      <td>...</td>\n",
       "      <td>...</td>\n",
       "      <td>...</td>\n",
       "      <td>...</td>\n",
       "    </tr>\n",
       "    <tr>\n",
       "      <th>300</th>\n",
       "      <td>68</td>\n",
       "      <td>1</td>\n",
       "      <td>0</td>\n",
       "      <td>144</td>\n",
       "      <td>193</td>\n",
       "      <td>1</td>\n",
       "      <td>1</td>\n",
       "      <td>141</td>\n",
       "      <td>0</td>\n",
       "      <td>3.4</td>\n",
       "      <td>1</td>\n",
       "      <td>2</td>\n",
       "      <td>3</td>\n",
       "      <td>0</td>\n",
       "      <td>0</td>\n",
       "      <td>337</td>\n",
       "    </tr>\n",
       "    <tr>\n",
       "      <th>301</th>\n",
       "      <td>57</td>\n",
       "      <td>1</td>\n",
       "      <td>0</td>\n",
       "      <td>130</td>\n",
       "      <td>131</td>\n",
       "      <td>0</td>\n",
       "      <td>1</td>\n",
       "      <td>115</td>\n",
       "      <td>1</td>\n",
       "      <td>1.2</td>\n",
       "      <td>1</td>\n",
       "      <td>1</td>\n",
       "      <td>3</td>\n",
       "      <td>0</td>\n",
       "      <td>0</td>\n",
       "      <td>261</td>\n",
       "    </tr>\n",
       "    <tr>\n",
       "      <th>302</th>\n",
       "      <td>57</td>\n",
       "      <td>0</td>\n",
       "      <td>1</td>\n",
       "      <td>130</td>\n",
       "      <td>236</td>\n",
       "      <td>0</td>\n",
       "      <td>0</td>\n",
       "      <td>174</td>\n",
       "      <td>0</td>\n",
       "      <td>0.0</td>\n",
       "      <td>1</td>\n",
       "      <td>1</td>\n",
       "      <td>2</td>\n",
       "      <td>0</td>\n",
       "      <td>0</td>\n",
       "      <td>366</td>\n",
       "    </tr>\n",
       "    <tr>\n",
       "      <th>303</th>\n",
       "      <td>40</td>\n",
       "      <td>1</td>\n",
       "      <td>0</td>\n",
       "      <td>120</td>\n",
       "      <td>240</td>\n",
       "      <td>0</td>\n",
       "      <td>1</td>\n",
       "      <td>120</td>\n",
       "      <td>0</td>\n",
       "      <td>0.1</td>\n",
       "      <td>1</td>\n",
       "      <td>0</td>\n",
       "      <td>2</td>\n",
       "      <td>0</td>\n",
       "      <td>0</td>\n",
       "      <td>360</td>\n",
       "    </tr>\n",
       "    <tr>\n",
       "      <th>304</th>\n",
       "      <td>30</td>\n",
       "      <td>0</td>\n",
       "      <td>0</td>\n",
       "      <td>130</td>\n",
       "      <td>200</td>\n",
       "      <td>0</td>\n",
       "      <td>0</td>\n",
       "      <td>122</td>\n",
       "      <td>1</td>\n",
       "      <td>1.0</td>\n",
       "      <td>1</td>\n",
       "      <td>1</td>\n",
       "      <td>3</td>\n",
       "      <td>0</td>\n",
       "      <td>0</td>\n",
       "      <td>330</td>\n",
       "    </tr>\n",
       "  </tbody>\n",
       "</table>\n",
       "<p>305 rows × 16 columns</p>\n",
       "</div>"
      ],
      "text/plain": [
       "     age  sex  cp  trestbps  chol  fbs  restecg  thalach  exang  oldpeak  \\\n",
       "0     63    1   3       145   233    1        0      150      0      2.3   \n",
       "1     37    1   2       130   250    0        1      187      0      3.5   \n",
       "2     41    0   1       130   204    0        0      172      0      1.4   \n",
       "3     56    1   1       120   236    0        1      178      0      0.8   \n",
       "4     57    0   0       120   354    0        1      163      1      0.6   \n",
       "..   ...  ...  ..       ...   ...  ...      ...      ...    ...      ...   \n",
       "300   68    1   0       144   193    1        1      141      0      3.4   \n",
       "301   57    1   0       130   131    0        1      115      1      1.2   \n",
       "302   57    0   1       130   236    0        0      174      0      0.0   \n",
       "303   40    1   0       120   240    0        1      120      0      0.1   \n",
       "304   30    0   0       130   200    0        0      122      1      1.0   \n",
       "\n",
       "     slope  ca  thal  target  test  chol+trestbps  \n",
       "0        0   0     1       1     0            378  \n",
       "1        0   0     2       1     0            380  \n",
       "2        2   0     2       1     0            334  \n",
       "3        2   0     2       1     0            356  \n",
       "4        2   0     2       1     0            474  \n",
       "..     ...  ..   ...     ...   ...            ...  \n",
       "300      1   2     3       0     0            337  \n",
       "301      1   1     3       0     0            261  \n",
       "302      1   1     2       0     0            366  \n",
       "303      1   0     2       0     0            360  \n",
       "304      1   1     3       0     0            330  \n",
       "\n",
       "[305 rows x 16 columns]"
      ]
     },
     "execution_count": 56,
     "metadata": {},
     "output_type": "execute_result"
    }
   ],
   "source": [
    "heart_augmented"
   ]
  },
  {
   "cell_type": "code",
   "execution_count": 55,
   "metadata": {},
   "outputs": [
    {
     "data": {
      "text/plain": [
       "array([5.42393443e+01, 6.81967213e-01, 9.60655738e-01, 1.31580328e+02,\n",
       "       2.46091803e+02, 1.47540984e-01, 5.27868852e-01, 1.49459016e+02,\n",
       "       3.27868852e-01, 1.03639344e+00, 1.39672131e+00, 7.27868852e-01,\n",
       "       2.31475410e+00, 5.40983607e-01, 0.00000000e+00, 3.77672131e+02])"
      ]
     },
     "execution_count": 55,
>>>>>>> upstream/main
     "metadata": {},
     "output_type": "execute_result"
    }
   ],
   "source": [
    "heart_augmented.mean()"
   ]
  },
  {
   "cell_type": "markdown",
   "metadata": {},
   "source": [
    "Be careful! Some of these will are not straightforwardly interpretable. What does an average \"sex\" of 0.682 mean?"
   ]
  },
  {
   "cell_type": "markdown",
   "metadata": {},
   "source": [
    "### `.min()`"
   ]
  },
  {
   "cell_type": "code",
<<<<<<< HEAD
   "execution_count": 54,
=======
   "execution_count": 57,
>>>>>>> upstream/main
   "metadata": {},
   "outputs": [
    {
     "data": {
      "text/plain": [
       "age               29.0\n",
       "sex                0.0\n",
       "cp                 0.0\n",
       "trestbps          94.0\n",
       "chol             126.0\n",
       "fbs                0.0\n",
       "restecg            0.0\n",
       "thalach           71.0\n",
       "exang              0.0\n",
       "oldpeak            0.0\n",
       "slope              0.0\n",
       "ca                 0.0\n",
       "thal               0.0\n",
       "target             0.0\n",
       "test               0.0\n",
       "chol+trestbps    249.0\n",
       "dtype: float64"
      ]
     },
<<<<<<< HEAD
     "execution_count": 54,
=======
     "execution_count": 57,
>>>>>>> upstream/main
     "metadata": {},
     "output_type": "execute_result"
    }
   ],
   "source": [
    "heart_augmented.min()"
   ]
  },
  {
   "cell_type": "markdown",
   "metadata": {},
   "source": [
    "### `.max()`"
   ]
  },
  {
   "cell_type": "code",
<<<<<<< HEAD
   "execution_count": 55,
=======
   "execution_count": 58,
>>>>>>> upstream/main
   "metadata": {},
   "outputs": [
    {
     "data": {
      "text/plain": [
       "age               77.0\n",
       "sex                1.0\n",
       "cp                 3.0\n",
       "trestbps         200.0\n",
       "chol             564.0\n",
       "fbs                1.0\n",
       "restecg            2.0\n",
       "thalach          202.0\n",
       "exang              1.0\n",
       "oldpeak            6.2\n",
       "slope              2.0\n",
       "ca                 4.0\n",
       "thal               3.0\n",
       "target             1.0\n",
       "test               0.0\n",
       "chol+trestbps    679.0\n",
       "dtype: float64"
      ]
     },
<<<<<<< HEAD
     "execution_count": 55,
=======
     "execution_count": 58,
>>>>>>> upstream/main
     "metadata": {},
     "output_type": "execute_result"
    }
   ],
   "source": [
    "heart_augmented.max()"
   ]
  },
  {
   "cell_type": "markdown",
   "metadata": {},
   "source": [
    "## Series Methods\n",
    "\n",
    "### `.value_counts()`\n",
    "\n",
    "How many different values does have slope have? What about sex? And target?"
   ]
  },
  {
   "cell_type": "code",
<<<<<<< HEAD
   "execution_count": 58,
=======
   "execution_count": 61,
>>>>>>> upstream/main
   "metadata": {},
   "outputs": [
    {
     "data": {
      "text/plain": [
<<<<<<< HEAD
       "slope\n",
       "2    142\n",
       "1    142\n",
       "0     21\n",
       "Name: count, dtype: int64"
      ]
     },
     "execution_count": 58,
=======
       "1    142\n",
       "2    142\n",
       "0     21\n",
       "Name: slope, dtype: int64"
      ]
     },
     "execution_count": 61,
>>>>>>> upstream/main
     "metadata": {},
     "output_type": "execute_result"
    }
   ],
   "source": [
    "heart_augmented['slope'].value_counts()"
   ]
  },
  {
   "cell_type": "markdown",
   "metadata": {},
   "source": [
    "### `.sort_values()`"
   ]
  },
  {
   "cell_type": "code",
<<<<<<< HEAD
   "execution_count": 59,
=======
   "execution_count": 62,
>>>>>>> upstream/main
   "metadata": {},
   "outputs": [
    {
     "data": {
      "text/plain": [
       "72     29\n",
       "304    30\n",
       "58     34\n",
       "125    34\n",
       "65     35\n",
       "       ..\n",
       "25     71\n",
       "60     71\n",
       "129    74\n",
       "144    76\n",
       "238    77\n",
       "Name: age, Length: 305, dtype: int64"
      ]
     },
<<<<<<< HEAD
     "execution_count": 59,
=======
     "execution_count": 62,
>>>>>>> upstream/main
     "metadata": {},
     "output_type": "execute_result"
    }
   ],
   "source": [
    "heart_augmented['age'].sort_values()"
   ]
  },
  {
   "cell_type": "markdown",
   "metadata": {},
   "source": [
    "## `pandas`-Native Plotting\n",
    "\n",
    "The `.plot()` and `.hist()` methods available for DataFrames use a wrapper around `matplotlib`:"
   ]
  },
  {
   "cell_type": "code",
   "execution_count": 63,
   "metadata": {},
   "outputs": [
    {
     "data": {
<<<<<<< HEAD
      "image/png": "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",
      "text/plain": [
       "<Figure size 640x480 with 1 Axes>"
=======
      "image/png": "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\n",
      "text/plain": [
       "<Figure size 432x288 with 1 Axes>"
>>>>>>> upstream/main
      ]
     },
     "metadata": {},
     "output_type": "display_data"
    }
   ],
   "source": [
    "heart_augmented.plot(x='age', y='trestbps', kind='scatter');"
   ]
  },
  {
   "cell_type": "code",
<<<<<<< HEAD
   "execution_count": 61,
=======
   "execution_count": 64,
>>>>>>> upstream/main
   "metadata": {},
   "outputs": [
    {
     "data": {
<<<<<<< HEAD
      "image/png": "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",
      "text/plain": [
       "<Figure size 640x480 with 1 Axes>"
=======
      "image/png": "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\n",
      "text/plain": [
       "<Figure size 432x288 with 1 Axes>"
>>>>>>> upstream/main
      ]
     },
     "metadata": {},
     "output_type": "display_data"
    }
   ],
   "source": [
    "heart_augmented.hist(column='chol');"
   ]
  },
  {
   "cell_type": "markdown",
   "metadata": {},
   "source": [
    "## Exercises"
   ]
  },
  {
   "cell_type": "markdown",
   "metadata": {},
   "source": [
    "1. Make a bar plot of \"age\" vs. \"slope\" for the `heart_augmented` DataFrame."
   ]
  },
  {
   "cell_type": "code",
   "execution_count": 71,
   "metadata": {},
   "outputs": [
    {
     "data": {
      "text/plain": [
<<<<<<< HEAD
       "<Axes: xlabel='age'>"
=======
       "<AxesSubplot:xlabel='age'>"
>>>>>>> upstream/main
      ]
     },
     "execution_count": 71,
     "metadata": {},
     "output_type": "execute_result"
    },
    {
     "data": {
<<<<<<< HEAD
      "image/png": "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",
      "text/plain": [
       "<Figure size 640x480 with 1 Axes>"
=======
      "image/png": "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\n",
      "text/plain": [
       "<Figure size 432x288 with 1 Axes>"
>>>>>>> upstream/main
      ]
     },
     "metadata": {},
     "output_type": "display_data"
    }
   ],
   "source": [
<<<<<<< HEAD
    "heart_augmented.plot(x='age', y='slope', kind='bar')"
=======
    "heart_augmented.plot(x='age',y='slope', kind='bar')"
>>>>>>> upstream/main
   ]
  },
  {
   "cell_type": "code",
<<<<<<< HEAD
   "execution_count": 75,
=======
   "execution_count": null,
   "metadata": {},
   "outputs": [],
   "source": []
  },
  {
   "cell_type": "code",
   "execution_count": 72,
>>>>>>> upstream/main
   "metadata": {},
   "outputs": [
    {
     "data": {
      "text/plain": [
<<<<<<< HEAD
       "<Axes: xlabel='age', ylabel='slope'>"
      ]
     },
     "execution_count": 75,
=======
       "<AxesSubplot:xlabel='slope', ylabel='age'>"
      ]
     },
     "execution_count": 72,
>>>>>>> upstream/main
     "metadata": {},
     "output_type": "execute_result"
    },
    {
     "data": {
<<<<<<< HEAD
      "image/png": "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",
      "text/plain": [
       "<Figure size 640x480 with 1 Axes>"
=======
      "image/png": "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\n",
      "text/plain": [
       "<Figure size 432x288 with 1 Axes>"
>>>>>>> upstream/main
      ]
     },
     "metadata": {},
     "output_type": "display_data"
    }
   ],
   "source": [
<<<<<<< HEAD
    "sns.barplot(data=heart_augmented, x='age', y='slope')"
=======
    "sns.barplot(data=heart_augmented, x='slope', y='age')"
>>>>>>> upstream/main
   ]
  },
  {
   "cell_type": "markdown",
   "metadata": {},
   "source": [
    "<details>\n",
    "    <summary>Answer</summary>\n",
    "    <code>sns.barplot(data=heart_augmented, x='slope', y='age');</code>\n",
    "    </details>"
   ]
  },
  {
   "cell_type": "markdown",
   "metadata": {},
   "source": [
    "2. Make a histogram of ages for **just the men** in `heart_augmented` (heart_augmented['sex']=1)."
   ]
  },
  {
   "cell_type": "code",
<<<<<<< HEAD
   "execution_count": 80,
=======
   "execution_count": 74,
   "metadata": {},
   "outputs": [
    {
     "data": {
      "text/html": [
       "<div>\n",
       "<style scoped>\n",
       "    .dataframe tbody tr th:only-of-type {\n",
       "        vertical-align: middle;\n",
       "    }\n",
       "\n",
       "    .dataframe tbody tr th {\n",
       "        vertical-align: top;\n",
       "    }\n",
       "\n",
       "    .dataframe thead th {\n",
       "        text-align: right;\n",
       "    }\n",
       "</style>\n",
       "<table border=\"1\" class=\"dataframe\">\n",
       "  <thead>\n",
       "    <tr style=\"text-align: right;\">\n",
       "      <th></th>\n",
       "      <th>age</th>\n",
       "      <th>sex</th>\n",
       "      <th>cp</th>\n",
       "      <th>trestbps</th>\n",
       "      <th>chol</th>\n",
       "      <th>fbs</th>\n",
       "      <th>restecg</th>\n",
       "      <th>thalach</th>\n",
       "      <th>exang</th>\n",
       "      <th>oldpeak</th>\n",
       "      <th>slope</th>\n",
       "      <th>ca</th>\n",
       "      <th>thal</th>\n",
       "      <th>target</th>\n",
       "      <th>test</th>\n",
       "      <th>chol+trestbps</th>\n",
       "    </tr>\n",
       "  </thead>\n",
       "  <tbody>\n",
       "    <tr>\n",
       "      <th>0</th>\n",
       "      <td>63</td>\n",
       "      <td>1</td>\n",
       "      <td>3</td>\n",
       "      <td>145</td>\n",
       "      <td>233</td>\n",
       "      <td>1</td>\n",
       "      <td>0</td>\n",
       "      <td>150</td>\n",
       "      <td>0</td>\n",
       "      <td>2.3</td>\n",
       "      <td>0</td>\n",
       "      <td>0</td>\n",
       "      <td>1</td>\n",
       "      <td>1</td>\n",
       "      <td>0</td>\n",
       "      <td>378</td>\n",
       "    </tr>\n",
       "    <tr>\n",
       "      <th>1</th>\n",
       "      <td>37</td>\n",
       "      <td>1</td>\n",
       "      <td>2</td>\n",
       "      <td>130</td>\n",
       "      <td>250</td>\n",
       "      <td>0</td>\n",
       "      <td>1</td>\n",
       "      <td>187</td>\n",
       "      <td>0</td>\n",
       "      <td>3.5</td>\n",
       "      <td>0</td>\n",
       "      <td>0</td>\n",
       "      <td>2</td>\n",
       "      <td>1</td>\n",
       "      <td>0</td>\n",
       "      <td>380</td>\n",
       "    </tr>\n",
       "    <tr>\n",
       "      <th>2</th>\n",
       "      <td>41</td>\n",
       "      <td>0</td>\n",
       "      <td>1</td>\n",
       "      <td>130</td>\n",
       "      <td>204</td>\n",
       "      <td>0</td>\n",
       "      <td>0</td>\n",
       "      <td>172</td>\n",
       "      <td>0</td>\n",
       "      <td>1.4</td>\n",
       "      <td>2</td>\n",
       "      <td>0</td>\n",
       "      <td>2</td>\n",
       "      <td>1</td>\n",
       "      <td>0</td>\n",
       "      <td>334</td>\n",
       "    </tr>\n",
       "    <tr>\n",
       "      <th>3</th>\n",
       "      <td>56</td>\n",
       "      <td>1</td>\n",
       "      <td>1</td>\n",
       "      <td>120</td>\n",
       "      <td>236</td>\n",
       "      <td>0</td>\n",
       "      <td>1</td>\n",
       "      <td>178</td>\n",
       "      <td>0</td>\n",
       "      <td>0.8</td>\n",
       "      <td>2</td>\n",
       "      <td>0</td>\n",
       "      <td>2</td>\n",
       "      <td>1</td>\n",
       "      <td>0</td>\n",
       "      <td>356</td>\n",
       "    </tr>\n",
       "    <tr>\n",
       "      <th>4</th>\n",
       "      <td>57</td>\n",
       "      <td>0</td>\n",
       "      <td>0</td>\n",
       "      <td>120</td>\n",
       "      <td>354</td>\n",
       "      <td>0</td>\n",
       "      <td>1</td>\n",
       "      <td>163</td>\n",
       "      <td>1</td>\n",
       "      <td>0.6</td>\n",
       "      <td>2</td>\n",
       "      <td>0</td>\n",
       "      <td>2</td>\n",
       "      <td>1</td>\n",
       "      <td>0</td>\n",
       "      <td>474</td>\n",
       "    </tr>\n",
       "  </tbody>\n",
       "</table>\n",
       "</div>"
      ],
      "text/plain": [
       "   age  sex  cp  trestbps  chol  fbs  restecg  thalach  exang  oldpeak  slope  \\\n",
       "0   63    1   3       145   233    1        0      150      0      2.3      0   \n",
       "1   37    1   2       130   250    0        1      187      0      3.5      0   \n",
       "2   41    0   1       130   204    0        0      172      0      1.4      2   \n",
       "3   56    1   1       120   236    0        1      178      0      0.8      2   \n",
       "4   57    0   0       120   354    0        1      163      1      0.6      2   \n",
       "\n",
       "   ca  thal  target  test  chol+trestbps  \n",
       "0   0     1       1     0            378  \n",
       "1   0     2       1     0            380  \n",
       "2   0     2       1     0            334  \n",
       "3   0     2       1     0            356  \n",
       "4   0     2       1     0            474  "
      ]
     },
     "execution_count": 74,
     "metadata": {},
     "output_type": "execute_result"
    }
   ],
   "source": [
    "heart_augmented.head()"
   ]
  },
  {
   "cell_type": "code",
   "execution_count": 83,
>>>>>>> upstream/main
   "metadata": {},
   "outputs": [
    {
     "data": {
      "text/plain": [
<<<<<<< HEAD
       "<Axes: xlabel='sex', ylabel='Count'>"
      ]
     },
     "execution_count": 80,
=======
       "0      1\n",
       "1      1\n",
       "3      1\n",
       "5      1\n",
       "7      1\n",
       "      ..\n",
       "297    1\n",
       "299    1\n",
       "300    1\n",
       "301    1\n",
       "303    1\n",
       "Name: sex, Length: 208, dtype: int64"
      ]
     },
     "execution_count": 83,
     "metadata": {},
     "output_type": "execute_result"
    }
   ],
   "source": [
    "heart_augmented.loc[heart_augmented['sex']==1,'sex']"
   ]
  },
  {
   "cell_type": "code",
   "execution_count": 82,
   "metadata": {},
   "outputs": [
    {
     "data": {
      "text/plain": [
       "0      1\n",
       "1      1\n",
       "3      1\n",
       "5      1\n",
       "7      1\n",
       "      ..\n",
       "297    1\n",
       "299    1\n",
       "300    1\n",
       "301    1\n",
       "303    1\n",
       "Name: sex, Length: 208, dtype: int64"
      ]
     },
     "execution_count": 82,
     "metadata": {},
     "output_type": "execute_result"
    }
   ],
   "source": [
    "heart_augmented[heart_augmented['sex'] == 1]['sex']"
   ]
  },
  {
   "cell_type": "code",
   "execution_count": 84,
   "metadata": {},
   "outputs": [
    {
     "data": {
      "text/plain": [
       "<AxesSubplot:xlabel='sex', ylabel='Count'>"
      ]
     },
     "execution_count": 84,
>>>>>>> upstream/main
     "metadata": {},
     "output_type": "execute_result"
    },
    {
     "data": {
<<<<<<< HEAD
      "image/png": "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",
      "text/plain": [
       "<Figure size 640x480 with 1 Axes>"
=======
      "image/png": "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\n",
      "text/plain": [
       "<Figure size 432x288 with 1 Axes>"
>>>>>>> upstream/main
      ]
     },
     "metadata": {},
     "output_type": "display_data"
    }
   ],
   "source": [
<<<<<<< HEAD
    "sns.histplot(heart_augmented[heart_augmented['sex'] == 1]['sex'])"
=======
    "sns.histplot(heart_augmented[heart_augmented['sex'] == 1]['sex'] )"
>>>>>>> upstream/main
   ]
  },
  {
   "cell_type": "markdown",
   "metadata": {},
   "source": [
    "<details>\n",
    "    <summary>Answer</summary>\n",
    "<code>men = heart_augmented[heart_augmented['sex'] == 1]\n",
    "sns.distplot(a=men['age']);</code>\n",
    "    </details>"
   ]
  },
  {
   "cell_type": "markdown",
   "metadata": {},
   "source": [
    "3. Make separate scatter plots of cholesterol vs. resting systolic blood pressure for the target=0 and the target=1 groups. Put both plots on the same figure and give each an appropriate title."
   ]
  },
  {
   "cell_type": "code",
<<<<<<< HEAD
   "execution_count": 85,
=======
   "execution_count": 97,
>>>>>>> upstream/main
   "metadata": {},
   "outputs": [
    {
     "data": {
      "text/plain": [
<<<<<<< HEAD
       "<Axes: xlabel='chol', ylabel='trestbps'>"
      ]
     },
     "execution_count": 85,
=======
       "<AxesSubplot:xlabel='chol', ylabel='trestbps'>"
      ]
     },
     "execution_count": 97,
>>>>>>> upstream/main
     "metadata": {},
     "output_type": "execute_result"
    },
    {
     "data": {
<<<<<<< HEAD
      "image/png": "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",
      "text/plain": [
       "<Figure size 640x480 with 1 Axes>"
=======
      "image/png": "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\n",
      "text/plain": [
       "<Figure size 432x288 with 1 Axes>"
>>>>>>> upstream/main
      ]
     },
     "metadata": {},
     "output_type": "display_data"
    }
   ],
   "source": [
<<<<<<< HEAD
    "targetZero = heart_augmented[heart_augmented['target'] == 0]\n",
    "targetOne = heart_augmented[heart_augmented['target'] == 1]\n",
    "\n",
    "sns.scatterplot(data=targetZero, x='chol', y='trestbps')\n",
    "sns.scatterplot(data=targetOne, x='chol', y='trestbps')"
=======
    "target_zero = heart_augmented[heart_augmented['target'] == 0]\n",
    "target_one = heart_augmented[heart_augmented['target'] == 1]\n",
    "\n",
    "#scatterplot 1 : chol vs trestbps\n",
    "\n",
    "sns.scatterplot(data = target_zero, x='chol', y = 'trestbps')\n",
    "sns.scatterplot(data = target_one, x='chol', y = 'trestbps')"
   ]
  },
  {
   "cell_type": "code",
   "execution_count": 93,
   "metadata": {},
   "outputs": [
    {
     "data": {
      "text/plain": [
       "<AxesSubplot:xlabel='chol', ylabel='trestbps'>"
      ]
     },
     "execution_count": 93,
     "metadata": {},
     "output_type": "execute_result"
    },
    {
     "data": {
      "image/png": "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\n",
      "text/plain": [
       "<Figure size 432x288 with 1 Axes>"
      ]
     },
     "metadata": {},
     "output_type": "display_data"
    }
   ],
   "source": [
    "sns.scatterplot(data = target_one x='chol', y = 'trestbps')"
   ]
  },
  {
   "cell_type": "code",
   "execution_count": null,
   "metadata": {},
   "outputs": [],
   "source": []
  },
  {
   "cell_type": "code",
   "execution_count": 102,
   "metadata": {},
   "outputs": [
    {
     "data": {
      "text/plain": [
       "<matplotlib.collections.PathCollection at 0x7ff342c73e20>"
      ]
     },
     "execution_count": 102,
     "metadata": {},
     "output_type": "execute_result"
    },
    {
     "data": {
      "image/png": "iVBORw0KGgoAAAANSUhEUgAAAXUAAAEFCAYAAAAc33cJAAAAOXRFWHRTb2Z0d2FyZQBNYXRwbG90bGliIHZlcnNpb24zLjMuNCwgaHR0cHM6Ly9tYXRwbG90bGliLm9yZy8QVMy6AAAACXBIWXMAAAsTAAALEwEAmpwYAAA3JklEQVR4nO2de3RU1b3Hv/PITEKeeoWASgSEYLQGWQqUpkCh1IA2CupFiY3t4rZF0Lp4KK8QQR4tSGCpcKkl9epdkRZSUitchCpRDEVBFt4bCitAAUUTIEYeeUEmyWTfP+IZZk7Oc+bMnNfvs5Zrycw5Z+9zzp5f9v7u38PBGGMgCIIgLIFT7w4QBEEQ2kFGnSAIwkKQUScIgrAQZNQJgiAsBBl1giAIC0FGnSAIwkKQUY+AadOm4dKlSzFp6y9/+Qs2b94ck7YIgoPGuPkgox4B+/fvj1lbhw8fRmtra8zaIwiAxrgZcevdAbOycOFCAMDPf/5zbNq0CcePH8cf/vAHtLW14dKlS5g0aRJmzZqFgwcPYuXKlejRowdaWlpQXl6Ot956C9u2bUNiYiLuu+8+VFRU4MMPP0RbWxuKi4tx6NAh+P1+3HnnnVi8eDE+/fRTfPjhh9i/fz/i4+Px5JNPBvrxwQcfYMOGDYF/f/XVVxg/fjzWrFmDzz//HMXFxbh27RqcTieeffZZjB07Fn/961+xbds2XLt2DUlJSSgtLcV//ud/YufOnXC5XOjfvz+KiorQs2fPmD9XwjgYZYwDwJ49e7BhwwZ0dnYiMTERCxcuRHZ2NtavX4/a2lrU19ejtrYW6enpWLNmDXr16oW6ujosW7YM58+fR3t7Ox588EE8/fTTejzK2MKIsMnMzGQXL15knZ2d7Gc/+xn74osvGGOMXbhwgWVlZbGLFy+yAwcOsDvuuIPV1NQwxhirrKxkubm5rKGhgXV2drKFCxeysWPHMsYYW79+PVu1ahXr7OxkjDG2du1atmTJEsYYY/Pnz2d//OMfJftTUVHBxo8fz+rr69mVK1fY/fffz77++utAn0aPHs1qa2tZeXk5GzZsGGtqamKMMbZt2zb2+OOPs5aWFsYYY6+99hqbNm2aps+KMCdGGOOnTp1iP/jBD9hXX33FGGPsk08+YTk5OaypqYm99tpr7Mc//nFgLE+fPp29+uqrjDHGCgoKWEVFBWOMsdbWVlZQUMB27twZnQdlIGimrgEOhwOvv/469u7di//5n//B6dOnwRjDtWvXAAB9+vTBLbfcAgD4+OOPMWHCBKSkpAAAnnzySRw4cAAAsHfvXjQ1NeGTTz4BALS3t+Pf/u3fFPXh//7v/7B06VK8+eabuOmmm/Dxxx+jvr4ezzzzTEg/T5w4AQAYPHgwkpKSAACVlZV45JFH0KNHDwDAU089hddffx1tbW3weDyRPh7CAug5xg8cOIDvf//76Nu3LwBg5MiRuPHGG3H06FEAwPDhwwNj+c4770RDQwOuXr2KQ4cOoaGhAa+++ioA4OrVqzh+/DgeeOABLR+N4SCjrgFXr17F5MmTMX78eNx333149NFHsWfPHrDv0upwxhIA3G534HMAcLlcgf/v7OzEokWLMGbMGABAS0sLfD6fbPtffPEFfvOb36C4uBi33347AMDv9+P222/HX/7yl8BxdXV1uPHGG7Fjx46QPnV2dsLhcIT8u6OjQ+1jICyMnmOcPz4BgDEWGKPx8fGBzx0OBxhj6OzsBGMMW7ZsQUJCAgDg0qVL8Hq94dy+qaCN0ghwuVzo6OjA2bNn0dzcjFmzZmHcuHE4ePAg2tra0NnZ2e2cMWPG4P3330dTUxMAYNu2bYHvfvjDH2Lz5s2Bc4uKirBu3bqQtvjU19fjV7/6FebNm4cRI0YEPr/nnntw9uxZHDp0CABQXV2N3Nxc1NXVdbvGqFGjUF5ejqtXrwIASktLMWzYMJqlE4YY4yNHjsQ//vEPfP311wCATz/9FOfPn8eQIUNE+52UlIR77rkHb775JgCgsbERU6dORUVFRfgPwyTQTD0CJkyYgIKCArz66qv40Y9+hIkTJ8Lj8SAzMxMDBw7E2bNnuxnGkSNHYsqUKXj88ccRHx+PQYMGBWYSM2fOxOrVqzF58mT4/X5kZWVhwYIFAIDRo0dj1apVAIDp06cHrrd+/XpcvHgR//3f/40//vGPAIBevXqhpKQEr732Gl5++WX4fD4wxvDyyy/j1ltvxWeffRbSp8ceewznz5/Hv//7v6OzsxO33XYbiouLo/bcCPNghDE+cOBALFmyBM8++yz8fj/i4+Px+uuvIzk5WbLvxcXFWL58OfLy8tDW1oaf/vSneOihh7R8PIbEwRil3o0l//znP/G///u/eOqppwAAb775JqqqqvDKK6/o2zGC0Aga4/pCRj3GNDc3Y9GiRThz5gwcDgf69OmD5cuXIz09Xe+uEYQm0BjXFzLqBEEQFoI2SgmCICwEGXWCIAgLoav3S2dnJ/x+Y6s/LpfD8H1Ugh3vIy7OJX9QlNBrbOv9nvVs3073LjW2dTXqfj/DlStX9eyCLGlpPQzfRyXY8T569pR2eYsmeo1tvd+znu3b6d6lxjbJLwRBEBaCjDpBEISFIKNOEARhIcioEwRBWAgy6gRBEBaCEnpZhF3Vddi470vUNfmQnuzFzFH9MDGLwrIJ/aGxGVskZ+rt7e144YUXkJ+fj8ceewwVFRU4e/Yspk6divz8fCxZsiSQerOsrAyPPPIIpkyZgo8++igmnSe62FVdh9++/y9caPKBAbjQ5MNv3/8XdlV3T7NLhFJVVYWCggIAXemJp0yZgqlTp2LhwoU0tjWAxmbskZypb9++HWlpaVizZg0uX76MyZMn44477sCsWbMwYsQIvPjii6ioqMA999yD0tJSlJeXw+fzIT8/Hzk5OZSPO0Zs3PclWjtC81q3dnRi474vaUYkQUlJCbZv3x5IC7thwwY888wzGDNmDObOnYu9e/fi7rvvprEdATQ2Y4+kUZ8wYQJyc3MD/3a5XDh27BiGDx8OoCv/8f79++F0OjF06FB4PB54PB5kZGTg+PHjyM7Olmzc5XIgLa2H5DF643I5Dd/HuibhyjF1Tb5A381wH0rQ8j4yMjKwfv16zJs3DwCQlZWFK1eugDGGlpYWuN1uHDlyxFRjW+/3zG9fydiMVtuxRu/2OSSNemJiIoCuVJrPPfccZs2ahdWrVwdKSyUmJqKpqQnNzc0hCesTExPR3Nws2zhFlGpDerIXFwR+POnJ3kDfzXAfStAyojQ3Nxc1NTWBf/fr1w/Lli3D73//eyQnJ2PEiBHYvXu3qca23u+Z376SsRmttmONaSJKz58/j6eeegoPP/ww8vLy4HReP6WlpQUpKSlISkpCS0tLyOdyVUkI7Zg5qh/i3aGvMt7txMxR/fTpkElZuXIlNm/ejN27d2PSpElYtWqV7cf2ruo65G06iOFrK5G36aBqLZzGZuyRNOrffvstpk2bhhdeeAGPPfYYgK5q3QcPHgTQVYX+vvvuQ3Z2Ng4fPgyfz4empiacPn0amZmZ0e89AQCYmJWORfcPQu9kLxwAeid7sej+QaRZqiQ1NTVQlb5Xr15obGy09djWYpOTxmbskZRfXn/9dTQ2NmLjxo3YuHEjAKCwsBArVqzAunXrMGDAAOTm5sLlcqGgoAD5+flgjGH27Nm2qNptJCZmpdMPJUJWrFiB2bNnw+12Iy4uDsuXL0fPnj1tO7a12uSksRlbdK181N7uN7zOq7dOpxV2vA89szTqNba1fM/D11ZCyDg4AHw2d3TU21eL3mPcNJo6QRD2JD1ZeEUi9jlhDMioEwQhCG1ymhNKE0AQhCCcDk4h/uaCjDpBEKLQJqf5IPmFIAjCQpBRJwiCsBBk1AmCICwEaeomh3JVEwQRDBl1E8OFcXNRf1wYNwAy7ARhU0h+MTFSYdwEQdgTmqmbGKlc1YS9IBmO4KCZuomhMG4CoJJxRChk1E0MhXETAMlwRCgkv5gYCuMmAJLhiFDIqJscCuMmpErGBUO6uz0g+YUgTI4SGY50d/tARp0gTI6SknGku9sHkl8IwgJwMpxY9R3S3e0DzdQJwgaQ+6t9IKNOEDaA3F/tA8kvBGEDyP3VPpBRJwibQO6v9oDkF4IgCAtBRp0gCMJCkFEnCIKwEGTUCYIgLAQZdYIgCAtBRp0gCMJCkFEnCIKwEGTUCYIgLAQZdYIgCAuhKKK0qqoKxcXFKC0tRXV1NZYsWQKXy4V+/fph5cqVcDqdKCsrw5YtW+B2uzFjxgyMHTs22n23HbEsckAFFQjCnMga9ZKSEmzfvh0JCQkAgA0bNuCZZ57BmDFjMHfuXOzduxd33303SktLUV5eDp/Ph/z8fOTk5MDj8UT9BuwCV+SAy4nNFTkAoLmxjWVbBEFoi6z8kpGRgfXr1wf+nZWVhStXroAxhpaWFrjdbhw5cgRDhw6Fx+NBcnIyMjIycPz48ah23G7EssgBFVQgCPMiO1PPzc1FTU1N4N/9+vXDsmXL8Pvf/x7JyckYMWIEdu/ejeTk5MAxiYmJaG5ulm3c5XIgLa1HmF2PDS6X0xB9lCpyoKR/au4j0raiiVHeB0EYFdVZGleuXInNmzdj0KBB2Lx5M1atWoUf/vCHaGlpCRzT0tISYuTF8PuZYJUWIyFWSUaMaGnRUsWFlfRPzX1E2lY0UXMfPXvKj0GCsBqqvV9SU1ORlJQEAOjVqxcaGxuRnZ2Nw4cPw+fzoampCadPn0ZmZqbmnTU60SzuG8siB1RQgSDMi+qZ+ooVKzB79my43W7ExcVh+fLl6NmzJwoKCpCfnw/GGGbPng2v135lsqS06Ehn67EsckAFFcyHkhUid8yFJh+cDqCTdRWp1uLdarlCJc+ryHAwxphejbe3+3VfzsuhZrk/fG0lhB6mA8Bnc0dr2i+1qJWRjIrW8kuwu+7FixexePFiNDY2wu/34+WXX0ZGRkZY7rqxHNt8byWga2W16P5BAWModIzYsdFoPxbX0nuMx7J9qbFNwUcaQsV9zUVJSQkWL14Mn69r/2DNmjXIy8vD5s2bMWvWLJw5cwb19fUoLS3Fli1b8MYbb2DdunVoa2vTueehKPFWEjpG7NhotK/HtewKlbPTkJmj+gnOMkiLNiacu+68efMAAJ9//jkGDx6MX/ziF7jllltQWFiITz/9NOCu6/F4Au662dnZkteOpWeXEm8lsWOEjo1G+7G4lt6eUXq3z0FGXUNIizYXfHfd2tpapKSk4K233sKGDRtQUlKCfv36heWuG0vPLiXeSmLHCB0bjfZjcS2SX7og+UVjJmalY8evR+CzuaOx49cjyKCbiLS0NIwbNw4AMG7cOBw9ehRJSUlhuevGEiXeSkLHiB0bjfb1uJZdoZm6jtAuv7G499578fHHH2PSpEk4dOgQBg4ciOzsbLzyyivw+Xxoa2szpLuukhVi8DFae79ouUKl1W7kkPeLDNFaUmnpMaAEvZemWqG190tNTQ3mzJmDsrIy1NbWYvHixbh27RqSkpKwdu1apKamoqysDFu3bgVjDNOnT0dubq7sdfUa23q/Zz3bt9O9S41tMuoyROtF5W06KKgd9k72YsevR2jent4DXivMElFKRt1ebce6famxTfKLTkjt8hNErCAJ0HrQRqlOkE87oTfRTGtB6AcZdZ2gXX5CbyjQx5qQ/KITtMtP6I0SCZDkGfNBRl1HJmal0w+E0A2pQB+AKmCZFTLqGqLnrIay5BFqkUtrEc2so0T0IKOuEXrOarRsm2Zn9kFOAiQPLXNCRl0j9JzVaNk2zc7shZQEKCfPEMaEvF80Qs9ZjZZt0+yM4CAPLXNCRl0j9PQ717Jt8p8nOCZmpWPR/YPQO9kLB7qinaOVxoLQDjLqGqHnrIay5BHRgss6+tIDgwEAS947gbxNB0MClHZV1yFv00EMX1uJMcV7KXhJZ0hT1wg9/c4pSx4RTaQ2zwGEfHeuoZU21nWGEnrJoHeSIK2w431QQi9tkEo+ByCmiemk0HuMU0IvgiBMQTib57Sxrh9k1C0EBQ0Zm3DeT7jvlH9ezoAbsP/M5ZACGSleF9o7Ga61X3dhTfG68PyPB4a0Ieba6HAAyV43Glo7un1HG+v6QRulFoEy7hmbcN5PuO9U6LzyqgsBw9z5neDa6POHGHTus2W7ToS0IVYKr5MBLb4OxDkdIZ/Txrq+2MaoB+/Q83fvrQBl3DM24byfcN+p0Hlq6GAIaYNzbeTZ7sCxCXHOgNvjzanx5PaoM7aQX+wQ+k5BQ8ZGS11a7p1q8c7515iYlY4l750QPLbJ50fFszkA9N+sJGwyU7fDLJaChoxNOO8n3HeqxTsXugaNMXNgC6Nuh1ksBQ0Zm3DeT7jvVEwDV4rbAcE2aIyZA1vIL3ZITERBQ8YmnPcT7jsVOk/I+yXe5UCrv3uYysPZvQXboDFmDmwRfMTX1IGuGYaSDR2raIR2vA8KPpJGKqgo3MAhPceZ3mOcgo9iCM0wCKI7dpAl7YgtjDpApeMIgo9aWZKC28yB5Yy6GQae2j5yxwfrob2DzpP7niCEkCtnF4wd3IKtgqIt8qqqKhQUFAAALl68iBkzZuDJJ5/EE088ga+++goAUFZWhkceeQRTpkzBRx99FL0eS2CGqEq1fQw+HrgeDcidt2rPScnvjXTvhLFQky/dDm7BVkF2pl5SUoLt27cjISEBALBmzRrk5eXhgQcewIEDB3DmzBkkJCSgtLQU5eXl8Pl8yM/PR05ODjweT9RvIBgzlGJT20ep6MDWjk68c+RCwJALfW+keyf0R2iVqGRTlPR38yBr1DMyMrB+/XrMmzcPAPD5559j8ODB+MUvfoFbbrkFhYWF+PTTTzF06FB4PB54PB5kZGTg+PHjyM7Olry2y+VAWloPbe4E0gMv3HZcLqeufZT70YgZdP51tb4PvbDKfehBJBKKHdyCrYKsUc/NzUVNTU3g37W1tUhJScFbb72FDRs2oKSkBP369UNy8nUXm8TERDQ3N8s27vczTV2ApAZeuO1o7aakto9ix3NwGrpUe1euXNXd3UsrzOLSaEQiWcmq0d8JfVEddpaWloZx48YBAMaNG4ejR48iKSkJLS0tgWNaWlpCjHysMEPEm9o+SkUHxrudmJzdW/J7I907oS+RSChUr9Q8qPZ+uffee/Hxxx9j0qRJOHToEAYOHIjs7Gy88sor8Pl8aGtrw+nTp5GZmRmN/kpiBn90tX0MPl7Mu2XILank/ULIEqmEQm7B5kC1UZ8/fz4WL16MLVu2ICkpCWvXrkVqaioKCgqQn58Pxhhmz54Nr1cfrc0MA09tH+WON8M9E/pDEoo9sEWagEiwoxZtZMyiqRs1TUC04zgoTQClCSAIQiGRGGT+uS89MJhWdxaFjDpBmIBI3BEpGtRe2CKfOkGYnUgiOika1F7QTD1KmCEHDWEeInFHpGhQe0FGPQrQcpfQGjF3RAZg2NrKkM/iXQ5441xobO1AerIX8XFOXGvvnmoi+NxHh/TGgvFdbshqJiT8Y8dl9cKH1d+EuNdGy82W3/YLuYMx+rY00e/tMrEi+SUK0HLXPAQnq+PYsWMHHn/88cC/jZCsTk2JulY/Q0NrRyBhnJBB51NedQGr9pxUlXBO6Ng/ffZ1t+Ry0UgyJ9R24btHA9c2Q3K/aEFGPQrQctcclJSUYPHixfD5rr+X6upqbNu2DZynb319PUpLS7Flyxa88cYbWLduHdra2mLeV35Ep9OhfRvvHLmgakIilWxODK0mN4L9bL9+bTtPrEh+UYnYki74c4cDEPL+jzT5kV2Xk9GCn6zu8uXLKC4uxqJFi1BUVAQAOHLkiCGS1QHA1JH9MXVkfwBAZtFuTa8NdM2o1SScC3eSEkmCPbm2uWtHI7mfHEZJNkdGXQViWnlVbQN2Hvsm8LmQQY80co90eu0JTlbn9/tRWFiIRYsWhURDNzc3GyJZHR+5RG/h4HQAvZKUJ5wLtw+RJNiTa5u7djSS+8lhlOAjkl9UILake+fIBcFlqNMBzZIf2Xk5GQuOHTuGs2fPYunSpZgzZw5OnTqFlStXGiZZ3ao9JzFiXSWGra3E8LWVuNisvZTndTvRN014NXmhyYe8TQdDNGk1Oj+HVmkJBBPjxV2/thmS+0ULmqmrQGxJJ5b6ljHgs7mjo9o26fTakJ2djZ07dwIAampqMGfOHBQWFqK+vl73ZHWr9pxEedWFwL8ZgHaJ5B6c90tDa4eqdq61d+LQ142i3/NXh0LJ6WLl/SLUdrD3ixmS+0ULMuoqEFvSSeU0H762MmRArdpzMlCtyOkAJmfLu5Ltqq4T1elT4u33CmO5t9CzZ0/dk9W9c+SC7DG9k73Y8esRIRJA3qaDmks0/Pzr/GRyaWk9MHtUf03bFEOo7WD5w66J7iihlwzBA4WvawNdS7oH7+qF7f+sQ7tEtYp4txN390kSnAk9OqQ3htySKnrtYL2ej9sBvDhRPo+H3smOtKLy7BUU/u1ot+ckJG9ZJaEX3w9dCAe6VoXB73n42kpE48fNtSUEJfQiTd1UiBUKWDA+Ewlx0o+ytUN8aSvlSiam13N0MNhKV1/7wUnb7S0ocV90OLqM+JjivQHdO1ql5qiEnbGx39o9QsSWdE0+f9jXlHIlk6tBCthLVz/f0Cr4uZWfweTs3iGauhDcODnX0BrQvWeO6oflu09KriDVYpfNRjNDM3UZtledQ96mgxi+trLb7n8wkcxenA7x85XM0uw0c+qTGi/4uZWfwYLxmXh0SO/AWHCgazNULAgpWPcumpCJ1KB9lxSvC8P6poSclxDnDKw8Hx3SO2Qlyv83lbAzPjRTl2BXdR1++8G/0Nou7xsuVFUmGClNfXJ2+Jq63WZOc3+SKaipW/0ZLBifGdhQD2a4iN5+ocmHXdV1givLXdV1+PqKL2Sjuaq2Ae8cuYDyqgtwOoBHgnLBKGVXdR1e338W5xtabeVtYjTIqEuwcd+XAYPOIVZ9ne9Clex1weFwBJIqKfF+CT4/+ByuBmldkw8p8W4wxtDk89vyh/PQkJvRctVnS1c1IaQCgIQmIEJBbEveOxGyodrJEJB7lBp2Co4zDuT9IoGY94DU7r9R0dszQCuonF0oQh5ZwXCujhxq3BydDmDpxMGK/oCKXZfffjTRe4wbxfuFZuoSyFVfp1wshN5MzEpHVW2D6EYqfwNZzYZyJ4Pi2TcFxxkH2iiVYOaofoiPEw41tnNqT8JY7D9zWfQ7/gay2g1lpe6jYte18ga2UbHFTD3cGfXErHQk9vBizd9PBM7NGXADNu77UnAGL6a3R4tw7otWF9ZDajbM30AW2tB3AKqClITaE7quHTawjYjljXqkGzgPDbk5kE9CTr8EYrfcDOe+aDPLmojJhClel+yGPt/7JXgDf/+Zy5Lyo9B1yftFfyy/UapmAyd4FivkZSI2Q5e7bjRQuzGVltYDo17+SPfNrEihjdLuiE02UuPdmDvu9rANq1hajEX3DwIg7Kml5v1ovWqkjdIuLD9TV7qBwx/AwRnuuBmtXJWXWC43w9mYos0sa8IZwuKKU2gMimxuaO2IaCUmNqsHxDdQuSIectCqMXpYfqNU6QaOXGmu1o5OyejOWEfbhbMxRZtZ1mViVjp6eLrP0SLNizMxKx07fj0Cn80djR2/HoGJWema5Pan+gDRw/JGXWmyfCWz1U4GwWste2BwYMDHinCKANi5cIAdiNVKTIt2aNUYPSwvvyhNlq+kNFfvIG1db++RcIoACC3TvSor1xD6IqRDc5ucYptjDNfT93pcDrT5rx/pcTngBNDql99a47xknCK5/ZO9Lowp3ovzDa2ykc9yMSBE+Fh+o1Qpcp4tYjm7zQK3iSO1+WWGe7PzRqnQu3MCkN7piQ1uB+BwOEQzQvLHWDTGIW2UdkHTtO/g50pPjXcjxeuyXHY60jLNi9C709OgB9fgTfS6JVP88seYWG0CK/zG9Mby8osahDLa6f3XX2tIyzQvRntHwTV4xbJFBsPvv13LzUUbRUa9qqoKxcXFKC0tDXy2Y8cOvP3229i6dSsAoKysDFu2bIHb7caMGTMwduzY6PQ4Avh6ZM6AG/DB8fqAvizk17u96hzW/P1ESCHd3kGuXVKatlB7+89cFqxBKnadSKJGLzT5QqIFU7wupMS7BQsSJ3tdqp4dBZbEHiX7PrEkWP9W0jfSy2ODrFEvKSnB9u3bkZCQEPisuroa27ZtAyfH19fXo7S0FOXl5fD5fMjPz0dOTg48Hk/0eq4SIb9YfhKkhtYOLN99EgACxjY4nzq3urzQ5MPy3SfBGENH0GfBfrZy7XHHV9U2hORLD74OoDyhkth9Bi+IG33+rsIK6L5sv9beGci/reTZkU9x7JHL2R9L+F5TclWWyMsqdshq6hkZGVi/fn3g35cvX0ZxcTEWLVoU+OzIkSMYOnQoPB4PkpOTkZGRgePHj0enx2Ei54fO0d7JAtqfUD714OM6eOM3WDdU0p5YDVLuOuHo33LtMgjn+Qi+byXXJB0+9gjp0CkyKyw+Lt4v3uNyIN6loLxWEGL6d4eIQU+Nd5NeHkNkZ+q5ubmoqakBAPj9fhQWFmLRokXweq8vpZqbm5GcfH03NjExEc3NzbKNu1wOpKX1CKffqlHrQ5uW1iMsDVPtuWJ7S3KRoWLPTUm7YttZYteV0uFj9f44XC5nzNs0EnwdWkk+omB6JsqnhAgnN/rGfV+KjquEuO45aIjooWqj9NixYzh79iyWLl0Kn8+HU6dOYeXKlfj+97+PlpaWwHEtLS0hRl4Mv59FZRNSSP9Vo0emJ3tx5crVsDRMtedyOr3QdQCI+vJy7onh3KdUm0LvQ8qnONabyGZxaYwVwfEKSsabkj/6WqagUNomoR2qXBqzs7Oxc+dOlJaWYt26dRg4cCAKCwuRnZ2Nw4cPw+fzoampCadPn0Zmprr6hlohluc8Z8AN3aIphYhzOgLan1A+9eDj3LxVa7BuKBS9ySfe7cTk7N6iUZ5SEaBi99k3TXozyv1dBj41kaUUiWpsuFD+3go2IpVsVmqZgkJpm4R2aOKn3rNnTxQUFCA/Px8///nPMXv27BB5JpaI6b/7z1zupkc+OqR3iCaZGu9G0YTMwOxnYlY6Vj78vcCPhcv90jvZi6IJmXhx4mBRP1sh/VOoMvuC8Zmi/rpSvrxi93m4pntha44UrwsvThws2aYQ5FNsDmaO6gepeYTSP8Th/BHPGXCD4OdOdM/pTkQXy0WUal1X1Kh+6mL3KYYZ66oKYRb5Ra9o6cqzV/DSjmMBN13OpZVzw1X6h1itC6uYDp8a78aeZ34Qzq2oRu/fqlEiSi0XfGSXnBJi9ymml/dJjRe8TrBPO98Pn2bi5oMr6sJ/rxeafAFvJalYCu69B2/Icscsee+EqIEX080bBWIiiOhiuTQBdtF/xe5TTC+f+5PuexzBujwQ6odP9VbNi9L3qqTOrtJavJTW2ThYzqibUf/dVV2HvE0HMXxtJfI2HVRkTMXuU0wvf2jIzd2uIeXTTn7o5qW44pSi9yq2L/PieycC41BpjIJdJlNmwHLyC2CunBKRRGuK3afS+5dzNSNXNPOxvepcSPUjIbj3KvV+5ap9CeVxAahGqRGwpFHXEi73Szg5T5RsNknNhKL9g5DzaTfy0ply0Qiz9oOTssdw71Xu/XPVvqTiKIKZmJWOqSP7G9KxwE5YTn7Rkl3VdSh896isnih2rhItUs+siVK+9EZeOit9tnbkfEOr5PdqYynEqn0ZdWwQZNQlEcr9olRrVqpF6rnBFKzLA6F++Ebeh6BcNOKIeTkB0rEUcueYaY/K7pD8IkEks2il5wpl3ovlTMhM+w8clBO+CyEJau5PMlH4t6Pd/ujFuxyoE3Br5N6/WCWiYBdHwhzY1qgr0WTV+LzzryeWt5w7N/j4lHg3PC6HaD1HIyH23GKpcdslFkEKsQ32lZO+hwfv6tUtrTRXg1RsIz6cmreEMbFcRKkSlNZH5OdTlzyOdz2hmo3cuQAUta8lWkS7iT23B+/qFZITnvs8GveTltYDf/70C0XPz8oRpWIRnDenxqOzkykqoi6XrTEc9IzqpIjSLmypqSvVZINzv0jpiULX62BAQpxTVd4Wo2vCYv2WygkfDcwYi6A1YlLT+YbWiORBwvzYUn5Ro8lyYdfhXK/J50fFszkRtW8kxPoXTk74SLGqzislY63acxLvHLkg+rwBIK1HHK75OgJyixgMwDBeXdEEtwMP3JWO/Wcuh6SNkEofIdQn/nFC9wR0l3qEPrPiO442hjPqsdBmlWiyfM2bMSaqeUtdT03Oc+6H5gBwX98UfH3FJ/sc1DwvuWP53/dN8+JwTWPghx3vduAav9wT5HPCG5ng+rvV1dVYvnw5XC4XPB4PVq9ejZtuuilm9XelAtGqahu66eRCXL7aHnb71zpYSBvcO+WnGQC6/qiu2nNSsE9yJRmFSkHKlYcklGMoTV2p1h0pcu3IVZPh90mt1iz0uRxKtXyx51V59ko3rwg198zBr2+qh6auVZbG4Pq7ZWVl+NnPfobCwkJkZWVhy5Yt+OKLL/DLX/4S06ZNC6m/W15eLlt/NxxNXari0DfNPskZeizh9PgR6yol+8S5SkZSLFuN9k+aeheGmqnHKrpSbqdfrs4nv09i15PL7a60Wo1Qm2L9FHteaz84KXms0hquXBpX/nMbckuq6ZbOXP3defPmAQDWrVuHXr16Aegq3ej1ekPq73o8nkD93ezsbMlrh1OqUUqWM4g9B3C9jKHcHxkt5Dc1JRP1LnWod/schjLqsdSapTTZcDaahK635L0Toudyx/N1TTVtqnleYpGGSvKABMMAwZmTGTXu4Pq7AAIG/fPPP8fbb7+NzZs3Y9++fWHV3w2nVKOUjGekmTpXxlBMdgs+Dohspq6mZCLN1LswlPeLUdJ3Kmkv2esSzazIZV0UG+/B1+eiOMPpl5rnJRZpGJwHRAlq+mtG3nvvPSxZsgSbNm3CjTfeiKSkpLDq74aDVKbDydm9FV0jFu/nalsHdlXXSfZJqiSjUClIufKQhHIMZdSNkr5TSU6MZp9fMPcIP5c1H/79KP2xCj0HNc9r7k8yJY9Vcs9q+mtG3n33Xbz99tsoLS1F3759ASCm9XelXDUXjM/EsL4pkuenxrvxxLC+sj/q1Hg34l3C1n9Y35RuaSP4Rzb6/Pjt+//CkFtS8eiQ3t3+kMiVZBQqBSlXHpJQjqE2SgHjZN/bVV2HpbtOqFryym0MiVUUGv3aP3CtXVzPdjqApRMHR+T9wgXtROL9Mjm7NxaM16egOIfW5exqamowZ84c/PnPf8bIkSPRp08fpKR0Gc9hw4bhueeeQ1lZGbZu3QrGGKZPn47c3FzZ60Yj+EhsI5Wjd7IXTqcD5wSkNv6Go9SmLF9eU3MsBR/pL78YzqgbiXDqgAJQXSNVrh0t6ovqPeC1ws41SpWME0DZ+FNTy1fNsWTU9TfqhpJfjIZaLT/Z6wprX0CuHbHvw6mYRJgXJeNEbu9E7lpCnxtlr4tQhqG8X4zGzFH9sGz3CSh1J7/W3omf3HGDoM+2kM4dXBxYDKlzlVRMEiosnSoTTEUYE6GMnhzcOEns4RWMRxDaj1GaHVTvTKKEOsioSzAxKx2JPbx4accx2RJhANDeyUJ80KV0bqXBPg/e1UvQ4CrxUee3we0PBGePpMg98xAcDxH8Rzp4ryYtrQdarvpkx5+arIyUwdFckKYuQPCGYZ/UeDydcxsmZqXLblQByvVvJdcKpneyFzkDbsD+M5clg1GC21fTRrSy9mmNnTV1JWiVjTMcA76ruk7XGqVW0dSVPH/TRJQaAf7s9lxDa2AmqyRAR6nOqDag6kKTT1Huj+D21bRh9GRiRGwItxB6JAXUieto8Rxpo5SHlKwhZ7DV6IzR2GRyOxDSvpo2aNOLAMIvFWjWdNJGQ4vnSEadh1TovVSAjtpgCaXBPmpwOEKjQJS2QZteBEe4qTrMmk7aaGjxHEl+4SGVf0PLDSOxTa9IaO9kWLrrROD6Ym2Q9wshRrilAqnEoDZo8RzJqPOQc9/SMnGV0LWUesWI0ckQosFx/+m9iUSYg3DdF8ntURu0eI5k1HnwZ+PB3i+xbp/vthbs/eKQmNlHI10xYQ/CXY1y3+vp/WIFtFADyKVRBqPOcOVm9HzXSqPeh1qs6tKoptKW1DXCNapKS87JXY/SBOifJsDSM3X+QA2e6XKDtKq2IVBjkUtaFVzwIZyZ+q7qOhRXnAoELCV8l1OUKwWXEOdEnNOBRp+/WwAJANk+c5KKVIkz0jLNA/8PdDjBYZG4wgmdu2zXCTgcDrR/txwkF0XzoGimHq06jtGcqSvRph0QTn7kcgDBdXvVlGbbVV2HZbtOQKCUpyxxTkdInUYhuL4AwPLdJwM/Ov51iiZkhvRX71mMVlhxpq4kSEwuOExNJsVw2ld6PZqpm2CmHlzHEQBWrlyJoqKiQB3HkpIS/PKXv0RpaWlIHcecnBzZOo7RREl5NjHbyS/Erkaj3rjvy7AMOgBBA80n2GdV7PiEOCfNpkxEOJW2lH6vxbXDPZbQB1mjbrQ6jkrRevAprZUYi0Ev10aTz9+tr0apnxgpVrmPYMTc2IJJiXcjb9NBUX072esSzE/EAIx+dR8W3n995caXJcXOFesrYWxkjbrR6jgCynIjKPmhqEGsVmIkP5BI+gKIF+MQ6qveS1OtMIv8ogap7ItAl5zW4usIaO18fXtXdZ1kkZVrHQxLg+rl8vXzOKdDVIrkkzPgBmU3RehGWCGNetZxDC4Xxy8lF4ySaEqxco78Sl9y6W+D+3KtvVP0unII1WnkE1z7MU6gICU/VQBhfPgl31Lj3UjxugJl3RLinN0kvWAZbuO+L2Wlu87vjhOSJZXIfhz7z1xWfCyhD6q9X959911s3boVpaWlSEtLA9BVx/GVV16Bz+dDW1tbVOs4Kkk5Cwj7e2rt/SL2A0mIc4bMnOKcgNvp0NT7hWPth6cDM7gUrwvP/3gg6ekmRCqobfjaSsHPORlOqeQndZxSs06auvFRZdT9fj9WrlyJPn364De/+Q2A63UcCwoKkJ+fD8YYZs+eDa83Otqbmg0hJdGfXFFfoc8B6eW+WF/4S2GX04mFKvLCqDmODLj1kQsdVyo1Ssl2StNUkKZufBQZ9VtvvRVlZWUAgM8++0zwmClTpmDKlCna9UwEI+WYUPpjoghPQgilecvlQsflNHmgS2flVqb82IZ4txMP3tWrW8UuPkqkve1V57Dm7yeomIaOmC5Lo5BWrleOCTWZFmnZSgSjdG8I6K658zOC8r9PiAsdkwluB5Y+MBgAsPPYN92u/+BdvbBgfGbINVK8rm57S/wsoEL3VPjuUUX3REQP00WUGqm0llBfrrZ1CHq/0LKVCEbp3hCHnNSmJHFb3qaDgjNxbvMzuI28TQe7jeP2Tia54ty470u0tiu/JyI6mM6oA8bSkvl9EYpkpWx1BB898o+raTOc/lFOdWNgSqNuZIy0klBKuDUpifCJ5d4Q937F9kGF2gynf0ba77IzZNSjgJFWEnJQbUl9iFX+cbkcSGJthtO/maP64bcf/CtEgqFVauwho25z1Gq7hDbEakUnlQOpt0Sb4fRvYlY6Ent4yftFZ8io2xzSQfVDqxUdJ69caPIFMoxyBlvsPTrQNbPeuO9LLHnvhKABDqd/Dw25GaNvS4vgbohIIaOuEiX686o9J7tFqQoFOOnRNz6kg5obvrzCZRjlZLSUeHdIfnaOlHg3yW4WxXR+6nqixLd41Z6TKK+6EIjO62RAedUFrNpzUve+CWEkv39CPVLySmtHJxpaO7rlCIp3O8EYE5XdCHNDRl0FUvozxztHhCsRiX2uFUr6JoRcYAthbJTIZIwxpMa7Q95vk0gmUZLdzA/JLypQoj+L5c9QkQgvLCLRxs3krUOEoiRVRQcDEuJc2PPMDwKfcRq80PUIc2NZox68ecTPhKikZmNwlsaR/dKw/8xlRX6+UomRRqyrDOjs996agq+v+ET1bzF9XOzzaGvj5MtuTJTkfQG6/3GPlUslEXssadT5m0edvM0jQHwziH/uuYZW0eLOQPcfwr23puDQ142Cxwbr7MHHCBU9ENrEqqptCEm6FHxeNH+k5MtuXIJdD6Vm7Pw/7mYMkiOUYUmjLrd5JJu/QmbWwyE08//6SniaZHC/xPRxzqNG6DyuGHA0fqTky25sguWzyrNXUPi3o4r+uMvJbpGuzmh1pw+WNOrhFulVci6HAxCsqh7JRpNc0QMxWYc7PlraOPmym4eHhtyMlqu+iI1ppKszWt3phyWNutzmUTj5K5ReI5LaqGqLHsj1RSvIl93Y8PeAns65TXDCoYZIV2e0utMPS7o0SuU5V5K/Qi5HutQ1hM5XUrOUX/RAaZ72WGxukS+7ceHHJ5xraNUkh3mkqzNa3emHJWfq/M0jNd4v/A2kYO8XJctZsQ0ooYozHE4HuhU9CO6/GEq9eSKFNtWMi5IZsZy2LfR9pKszWt3ph4MxFmUPanHa2/2iCf2NglTRAbUMX1sp6BbpAPDZ3NGanSOElvehJ2ruo2fPZNljqqqqUFxcjNLSUpw9exYLFiyAw+HAoEGDsGTJEjidTpSVlWHLli1wu92YMWMGxo4dK3vdWI1tufEhlt+fm0SIfS9U3i74PDG49yPXbjTQe4zHsn2psW1J+cWoSOnwWp5DKKOkpASLFy+Gz9c1o/zd736HWbNm4U9/+hMYY6ioqEB9fT1KS0uxZcsWvPHGG1i3bh3a2tp07vl15MaHXKSx2Pf7z1yOKNKYIpX1w5Lyi1EJO0c1BYlEhYyMDKxfvx7z5s0DABw7dgzDhw8HAIwePRr79++H0+nE0KFD4fF44PF4kJGRgePHjyM7O1vy2i6XA2lpPaJ+Dy/kDkbhu0dDc5jHOfFC7mCkpfWQ1Lblvp86sj+mjuyvqj8ulzNw3+GcHwnBbeuB3u1zkFGPIeHmqFZ7DqGM3Nxc1NTUBP7NGAsUV05MTERTUxOam5uRnHx9qZuYmIjm5mbZa/v9LCZL8dG3pWHRTwZ1834ZfVsarly5KqltK/leLXpKICS/dEFGPcaE40tOuVlig9N5XY1saWlBSkoKkpKS0NLSEvJ5sJE3AsHjg29Y5FZ6tBK0HqSpE8R33HnnnTh48CAAoLKyEvfddx+ys7Nx+PBh+Hw+NDU14fTp08jMjH5ufK2Q07ZJ+7YeNFMniO+YP38+ioqKsG7dOgwYMAC5ublwuVwoKChAfn4+GGOYPXs2vF5zbVLLrfRoJWgtyKVRBr11Oq2w430ocWmMFnqNbb3fM2nq+mvqJL8QBEFYCDLqBEEQFoKMOkEQhIUgo04QBGEhyKgTBEFYCEUujdFKemR1jFD5xQh9IKKPkvdMY8EeyBr1kpISbN++HQkJCQCuJz0aMWIEXnzxRVRUVOCee+5BaWkpysvL4fP5kJ+fj5ycHHg8nqjfgFExQuUXI/SBiD5K3jONBfsgK79wSY84+EmPPvnkExw5ciSQ9Cg5OTmQ9MjOyGXHs0sfiOij5D3TWLAPsjP1aCY9ilUmu0gIN/OaXHa8WGCEPmiNUTLhGQklVYaoEpF9UJ0mQMukR7HKZBcJ4UaJaZ39LhyM0AetMUtEaSxRUmWIKhHZB9XeL1ZMehQNjFDX0wh9IKKPkvdMY8E+qJ6pWzXpkdYYIQ+6EfpARB8l75nGgn2ghF4y6J0kSCvseB+U0Cv2UEIvSuhFEARBaAgZdYIgCAtBRp0gCMJCkFEnCIKwEGTUCYIgLISu3i8EQRCEttBMnSAIwkKQUScIgrAQZNQJgiAsBBl1giAIC0FGnSAIwkKQUScIgrAQZNQJgiAshOrUu1ajvb0dixYtQm1tLdra2jBjxgwMHDjQdMW1/X4/Fi9ejC+++AIulwu/+93vwBgz3X1wXLx4EY888gj+67/+C26327T3oTV6j1cjjDM9x8akSZMCBYBuvfVWPP3008Ybm8zmbNu2ja1YsYIxxtilS5fYmDFj2PTp09mBAwcYY4wVFRWx999/n33zzTfspz/9KfP5fKyxsTHw/0bhgw8+YAsWLGCMMXbgwAH29NNPm/I+GGOsra2NzZw5k91///3s1KlTpr2PaKD3eNV7nOk5NlpbW9nDDz8c8pkRx6btZ+oTJkxAbm5u4N8ul6tbce39+/fD6XQGimt7PJ5Ace3s7Gy9uh7C+PHj8aMf/QgAcO7cOdx0003Yu3ev6e4DAFavXo0nnngCmzZtAtC92LlZ7iMa6D1e9R5neo6N48eP49q1a5g2bRo6OjowZ84cQ45N22vqiYmJSEpKQnNzM5577jnMmjVL0+LascTtdmP+/PlYvnw5cnNzTXkff/3rX3HjjTdi1KhRgc/MeB/RwgjjVa9xpvfYiI+Px3/8x3/gjTfewEsvvYTnn3/ekGPT9kYdAM6fP4+nnnoKDz/8MPLy8jQtrh1rVq9ejb///e8oKiqCz3e90LBZ7qO8vByffPIJCgoKUF1djfnz5+PSpUuB781yH9HECONVj3Gm99jo378/HnroITgcDvTv3x9paWm4ePFizNpXiu2N+rfffotp06bhhRdewGOPPQbAnMW1//a3v+EPf/gDACAhIQEOhwPf+973THcfmzdvxttvv43S0lJkZWVh9erVGD16tOnuI1roPV71HGd6j41t27Zh1apVAIC6ujo0NzcjJyfHcGPT9lkaV6xYgV27dmHAgAGBzwoLC7FixQq0t7djwIABWLFiBVwuF8rKyrB161YwxjB9+vQQbVNvrl69ioULF+Lbb79FR0cHfvWrX+H2229HUVGRqe4jmIKCAixduhROp9PU96Eleo9Xo4wzPcZGW1sbFi5ciHPnzsHhcOD555/HDTfcYLixaXujThAEYSVsL78QBEFYCTLqBEEQFoKMOkEQhIUgo04QBGEhyKgTBEFYCDLqBEEQFoKMOkEQhIX4f0gAsC2vsIcbAAAAAElFTkSuQmCC\n",
      "text/plain": [
       "<Figure size 432x288 with 2 Axes>"
      ]
     },
     "metadata": {},
     "output_type": "display_data"
    }
   ],
   "source": [
    "import matplotlib.pyplot as plt\n",
    "\n",
    "fig, (ax1,ax2) = plt.subplots(1,2)\n",
    "\n",
    "\n",
    "ax1.set_title('target zero')\n",
    "ax2.set_title('target one')\n",
    "ax1.scatter(x=target_zero.chol,y=target_zero.trestbps)\n",
    "ax2.scatter(x=target_one.chol,y=target_one.trestbps)\n",
    "            \n"
>>>>>>> upstream/main
   ]
  },
  {
   "cell_type": "markdown",
   "metadata": {},
   "source": [
    "<details>\n",
    "    <summary>Answer</summary>\n",
    "<code>target0 = heart_augmented[heart_augmented['target'] == 0]\n",
    "target1 = heart_augmented[heart_augmented['target'] == 1]\n",
    "fig, ax = plt.subplots(1, 2, figsize=(10, 5))\n",
    "sns.scatterplot(data=target0, x='trestbps', y='chol', ax=ax[0])\n",
    "sns.scatterplot(data=target1, x='trestbps', y='chol', ax=ax[1])\n",
    "ax[0].set_title('Cholesterol Vs. Resting Blood Pressure in Women')\n",
    "    ax[1].set_title('Cholesterol Vs. Resting Blood Pressure in Men');</code>\n",
    "    </details>"
   ]
  },
  {
   "cell_type": "markdown",
   "metadata": {},
   "source": [
    "## Let's find a .csv file online and experiment with it.\n",
    "\n",
    "I'm going to head to [dataportals.org](https://dataportals.org) to find a .csv file."
   ]
  },
  {
   "cell_type": "code",
   "execution_count": null,
   "metadata": {},
   "outputs": [],
   "source": []
  }
 ],
 "metadata": {
  "kernelspec": {
   "display_name": "Python 3",
   "language": "python",
   "name": "python3"
  },
  "language_info": {
   "codemirror_mode": {
    "name": "ipython",
    "version": 3
   },
   "file_extension": ".py",
   "mimetype": "text/x-python",
   "name": "python",
   "nbconvert_exporter": "python",
   "pygments_lexer": "ipython3",
<<<<<<< HEAD
   "version": "3.11.4"
=======
   "version": "3.8.8"
>>>>>>> upstream/main
  }
 },
 "nbformat": 4,
 "nbformat_minor": 4
}
