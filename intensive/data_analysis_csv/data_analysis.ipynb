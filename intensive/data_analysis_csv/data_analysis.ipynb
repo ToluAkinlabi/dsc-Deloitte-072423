{
 "cells": [
  {
   "cell_type": "markdown",
   "metadata": {
    "toc": true
   },
   "source": [
    "<h1>Table of Contents<span class=\"tocSkip\"></span></h1>\n",
    "<div class=\"toc\"><ul class=\"toc-item\"><li><span><a href=\"#Data-Analysis-with-CSVs\" data-toc-modified-id=\"Data-Analysis-with-CSVs-1\"><span class=\"toc-item-num\">1&nbsp;&nbsp;</span>Data Analysis with CSVs</a></span></li><li><span><a href=\"#Objectives\" data-toc-modified-id=\"Objectives-2\"><span class=\"toc-item-num\">2&nbsp;&nbsp;</span>Objectives</a></span></li><li><span><a href=\"#Loading-a-CSV\" data-toc-modified-id=\"Loading-a-CSV-3\"><span class=\"toc-item-num\">3&nbsp;&nbsp;</span>Loading a CSV</a></span><ul class=\"toc-item\"><li><span><a href=\"#Get-the-File-Path\" data-toc-modified-id=\"Get-the-File-Path-3.1\"><span class=\"toc-item-num\">3.1&nbsp;&nbsp;</span>Get the File Path</a></span></li><li><span><a href=\"#Inspecting-CSV-files\" data-toc-modified-id=\"Inspecting-CSV-files-3.2\"><span class=\"toc-item-num\">3.2&nbsp;&nbsp;</span>Inspecting CSV files</a></span><ul class=\"toc-item\"><li><span><a href=\"#Printing-Lines-in-Python\" data-toc-modified-id=\"Printing-Lines-in-Python-3.2.1\"><span class=\"toc-item-num\">3.2.1&nbsp;&nbsp;</span>Printing Lines in Python</a></span></li><li><span><a href=\"#Printing-Lines-in-bash\" data-toc-modified-id=\"Printing-Lines-in-bash-3.2.2\"><span class=\"toc-item-num\">3.2.2&nbsp;&nbsp;</span>Printing Lines in bash</a></span></li><li><span><a href=\"#Discussion\" data-toc-modified-id=\"Discussion-3.2.3\"><span class=\"toc-item-num\">3.2.3&nbsp;&nbsp;</span>Discussion</a></span></li></ul></li><li><span><a href=\"#Using-the-csv-library\" data-toc-modified-id=\"Using-the-csv-library-3.3\"><span class=\"toc-item-num\">3.3&nbsp;&nbsp;</span>Using the <code>csv</code> library</a></span></li></ul></li><li><span><a href=\"#Data-Preparation\" data-toc-modified-id=\"Data-Preparation-4\"><span class=\"toc-item-num\">4&nbsp;&nbsp;</span>Data Preparation</a></span><ul class=\"toc-item\"><li><span><a href=\"#Clean-the-Sale-Prices\" data-toc-modified-id=\"Clean-the-Sale-Prices-4.1\"><span class=\"toc-item-num\">4.1&nbsp;&nbsp;</span>Clean the Sale Prices</a></span></li><li><span><a href=\"#Clean-the-Dates\" data-toc-modified-id=\"Clean-the-Dates-4.2\"><span class=\"toc-item-num\">4.2&nbsp;&nbsp;</span>Clean the Dates</a></span><ul class=\"toc-item\"><li><span><a href=\"#Using-Python-built-in-methods\" data-toc-modified-id=\"Using-Python-built-in-methods-4.2.1\"><span class=\"toc-item-num\">4.2.1&nbsp;&nbsp;</span>Using Python built-in methods</a></span></li></ul></li></ul></li><li><span><a href=\"#Data-Analysis\" data-toc-modified-id=\"Data-Analysis-5\"><span class=\"toc-item-num\">5&nbsp;&nbsp;</span>Data Analysis</a></span><ul class=\"toc-item\"><li><span><a href=\"#Question-1:-What-is-the-range-of-years-for-which-we-have-sales-data?\" data-toc-modified-id=\"Question-1:-What-is-the-range-of-years-for-which-we-have-sales-data?-5.1\"><span class=\"toc-item-num\">5.1&nbsp;&nbsp;</span>Question 1: What is the range of years for which we have sales data?</a></span></li><li><span><a href=\"#Question-2:-How-many-properties-sold-in-2020?\" data-toc-modified-id=\"Question-2:-How-many-properties-sold-in-2020?-5.2\"><span class=\"toc-item-num\">5.2&nbsp;&nbsp;</span>Question 2: How many properties sold in 2020?</a></span></li><li><span><a href=\"#Question-3:-What-was-the-mean-sale-price-in-2020?\" data-toc-modified-id=\"Question-3:-What-was-the-mean-sale-price-in-2020?-5.3\"><span class=\"toc-item-num\">5.3&nbsp;&nbsp;</span>Question 3: What was the mean sale price in 2020?</a></span></li><li><span><a href=\"#Question-4:-How-many-properties-sold-in-each-year?\" data-toc-modified-id=\"Question-4:-How-many-properties-sold-in-each-year?-5.4\"><span class=\"toc-item-num\">5.4&nbsp;&nbsp;</span>Question 4: How many properties sold in each year?</a></span></li></ul></li><li><span><a href=\"#Chart-the-Data\" data-toc-modified-id=\"Chart-the-Data-6\"><span class=\"toc-item-num\">6&nbsp;&nbsp;</span>Chart the Data</a></span></li><li><span><a href=\"#Level-Up:-Counter\" data-toc-modified-id=\"Level-Up:-Counter-7\"><span class=\"toc-item-num\">7&nbsp;&nbsp;</span>Level Up: <code>Counter</code></a></span></li><li><span><a href=\"#Level-Up:-Using-datetime\" data-toc-modified-id=\"Level-Up:-Using-datetime-8\"><span class=\"toc-item-num\">8&nbsp;&nbsp;</span>Level Up: Using <code>datetime</code></a></span></li></ul></div>"
   ]
  },
  {
   "cell_type": "markdown",
   "metadata": {},
   "source": [
    "# Data Analysis with CSVs\n",
    "\n",
    "In this lesson, we'll complete a full data analysis with a raw data file. Comma Separated Values files, known as CSVs, are one of the most common file formats for storing tabular data. In this lesson, we'll show you how to load one into memory and work with it using Python."
   ]
  },
  {
   "cell_type": "markdown",
   "metadata": {},
   "source": [
    "# Objectives\n",
    "\n",
    "Perform a complete data analysis by...\n",
    "\n",
    "- Creating a Python data structure from a .csv file\n",
    "- Exploring and cleaning the data \n",
    "- Conducting descriptive analysis\n",
    "- Visualizing the results"
   ]
  },
  {
   "cell_type": "markdown",
   "metadata": {},
   "source": [
    "# Loading a CSV\n",
    "\n",
    "The before you can work with a CSV file, you need to load it into memory."
   ]
  },
  {
   "cell_type": "markdown",
   "metadata": {},
   "source": [
    "## Get the File Path\n",
    "\n",
    "Make sure you have the path to your data file. For this example, it is in the root folder of this repository."
   ]
  },
  {
   "cell_type": "code",
   "execution_count": 2,
   "metadata": {
    "scrolled": true
   },
   "outputs": [
    {
     "name": "stderr",
     "output_type": "stream",
     "text": [
      "'ls' is not recognized as an internal or external command,\n",
      "operable program or batch file.\n"
     ]
    }
   ],
   "source": [
    "# This will only work on Mac, Linux, or a separate bash terminal in Windows\n",
    "\n",
    "!ls"
   ]
  },
  {
   "cell_type": "markdown",
   "metadata": {},
   "source": [
    "We use `.` to indicate the root folder of the repository when working within this notebook."
   ]
  },
  {
   "cell_type": "code",
   "execution_count": 3,
   "metadata": {},
   "outputs": [],
   "source": [
    "# here we simply assign the path to the data file as a string to a variable for ease of use later when we open/load the data.\n",
    "csv_file_path = \"./Kings_County_Real_Estate_Sales.csv\""
   ]
  },
  {
   "cell_type": "markdown",
   "metadata": {},
   "source": [
    "## Inspecting CSV files\n",
    "\n",
    "In a CSV file, each line represents one row of tabular data, and consecutive values in that row are separated by a comma. Often, the first row contains the column names separated by commas, also known as field names. Let's confirm that this is the case and learn about our dataset by printing the first two lines of the file."
   ]
  },
  {
   "cell_type": "markdown",
   "metadata": {},
   "source": [
    "### Printing Lines in Python\n",
    "\n",
    "We use the `with open()` syntax to easily open and read the file in the notebook. Using this syntax will automatically close the file once the statement is done running."
   ]
  },
  {
   "cell_type": "code",
<<<<<<< HEAD
   "execution_count": 5,
=======
   "execution_count": 4,
>>>>>>> upstream/main
   "metadata": {},
   "outputs": [
    {
     "name": "stdout",
     "output_type": "stream",
     "text": [
      "ExciseTaxNbr,Major,Minor,DocumentDate,SalePrice,RecordingNbr,Volume,Page,PlatNbr,PlatType,PlatLot,PlatBlock,SellerName,BuyerName,PropertyType,PrincipalUse,SaleInstrument,AFForestLand,AFCurrentUseLand,AFNonProfitUse,AFHistoricProperty,SaleReason,PropertyClass,SaleWarning\n",
      "\n"
     ]
    }
   ],
   "source": [
    "# This code prints the first line of the CSV file\n",
    "\n",
    "with open(csv_file_path) as csvfile:     # this process here is known as a 'context manager'. A software engineering tool used to make a temporary connection to a data file, \n",
    "    print(csvfile.readline())            # extract the data and then immediately close that connection -> this saves the computer RAM memory."
   ]
  },
  {
   "cell_type": "markdown",
   "metadata": {},
   "source": [
    "Next, we can print the second line to look at an example of one observation from our dataset. This represents one real estate sale in Kings County."
   ]
  },
  {
   "cell_type": "code",
   "execution_count": 5,
   "metadata": {},
   "outputs": [
    {
     "name": "stdout",
     "output_type": "stream",
     "text": [
      "2687551,138860,110,08/21/2014,245000,20140828001436,   ,   ,      , ,              ,       ,WENKLE NOEL SMITH -TRUSTEE                        ,ALEXANDER APRIL                                   ,3,6,3,N,N,N,N,1,8, \n",
      "\n"
     ]
    }
   ],
   "source": [
    "# This code prints the second line of the CSV file\n",
    "\n",
    "with open(csv_file_path) as csvfile:\n",
    "    csvfile.readline()\n",
    "    print(csvfile.readline())"
   ]
  },
  {
   "cell_type": "markdown",
   "metadata": {},
   "source": [
    "### Printing Lines in bash\n",
    "\n",
    "Alternatively, you could use a bash command to print the first two lines."
   ]
  },
  {
   "cell_type": "code",
   "execution_count": 6,
   "metadata": {
    "scrolled": true
   },
   "outputs": [
    {
     "name": "stderr",
     "output_type": "stream",
     "text": [
      "'head' is not recognized as an internal or external command,\n",
      "operable program or batch file.\n"
     ]
    }
   ],
   "source": [
    "# This will only work on Mac, Linux, or a separate bash terminal in Windows\n",
    "\n",
    "!head -n 2 ./Kings_County_Real_Estate_Sales.csv"
   ]
  },
  {
   "cell_type": "markdown",
   "metadata": {},
   "source": [
    "### Discussion\n",
    "\n",
    "Based on these two lines, what can we infer about the contents of the data file? What questions arise for you about the data?"
   ]
  },
  {
   "cell_type": "markdown",
   "metadata": {},
   "source": [
    "## Using the `csv` library\n",
    "\n",
    "The [`csv` library](https://docs.python.org/3/library/csv.html) lets us easily process data in CSV files. We will use it to read each row in the `.csv` file and store its information in a Python object we can use for further analysis. "
   ]
  },
  {
   "cell_type": "code",
   "execution_count": 7,
   "metadata": {},
   "outputs": [],
   "source": [
    "import csv"
   ]
  },
  {
   "cell_type": "markdown",
   "metadata": {},
   "source": [
    "The [`csv.DictReader`](https://docs.python.org/3/library/csv.html#csv.DictReader) object is a file reader, reading each row and then converting it to a special kind of dictionary called an [OrderedDict](https://docs.python.org/3/library/collections.html#collections.OrderedDict). By default, it turns each row into a dictionary, using the field names from the first row as the keys."
   ]
  },
  {
   "cell_type": "code",
   "execution_count": 8,
   "metadata": {},
   "outputs": [
    {
     "name": "stdout",
     "output_type": "stream",
     "text": [
      "{'ExciseTaxNbr': '2687551', 'Major': '138860', 'Minor': '110', 'DocumentDate': '08/21/2014', 'SalePrice': '245000', 'RecordingNbr': '20140828001436', 'Volume': '   ', 'Page': '   ', 'PlatNbr': '      ', 'PlatType': ' ', 'PlatLot': '              ', 'PlatBlock': '       ', 'SellerName': 'WENKLE NOEL SMITH -TRUSTEE                        ', 'BuyerName': 'ALEXANDER APRIL                                   ', 'PropertyType': '3', 'PrincipalUse': '6', 'SaleInstrument': '3', 'AFForestLand': 'N', 'AFCurrentUseLand': 'N', 'AFNonProfitUse': 'N', 'AFHistoricProperty': 'N', 'SaleReason': '1', 'PropertyClass': '8', 'SaleWarning': ' '}\n"
     ]
    }
   ],
   "source": [
    "# Print OrderedDict from first row of CSV file \n",
    "\n",
    "with open(csv_file_path) as csvfile:\n",
    "    reader = csv.DictReader(csvfile)\n",
    "    print(next(reader))"
   ]
  },
  {
   "cell_type": "markdown",
   "metadata": {},
   "source": [
    "Let's get all of the data out of our file and into dictionaries, and store those dictionaries in a new list called `sales`."
   ]
  },
  {
   "cell_type": "code",
<<<<<<< HEAD
   "execution_count": 9,
=======
   "execution_count": 11,
>>>>>>> upstream/main
   "metadata": {},
   "outputs": [],
   "source": [
    "sales = []\n",
    "\n",
    "with open(csv_file_path) as csvfile:\n",
    "    reader = csv.DictReader(csvfile)\n",
    "    for row in reader:\n",
    "        sales.append(row)"
   ]
  },
  {
   "cell_type": "code",
<<<<<<< HEAD
   "execution_count": 10,
=======
   "execution_count": 12,
>>>>>>> upstream/main
   "metadata": {},
   "outputs": [
    {
     "data": {
      "text/plain": [
       "[{'ExciseTaxNbr': '2687551',\n",
       "  'Major': '138860',\n",
       "  'Minor': '110',\n",
       "  'DocumentDate': '08/21/2014',\n",
       "  'SalePrice': '245000',\n",
       "  'RecordingNbr': '20140828001436',\n",
       "  'Volume': '   ',\n",
       "  'Page': '   ',\n",
       "  'PlatNbr': '      ',\n",
       "  'PlatType': ' ',\n",
       "  'PlatLot': '              ',\n",
       "  'PlatBlock': '       ',\n",
       "  'SellerName': 'WENKLE NOEL SMITH -TRUSTEE                        ',\n",
       "  'BuyerName': 'ALEXANDER APRIL                                   ',\n",
       "  'PropertyType': '3',\n",
       "  'PrincipalUse': '6',\n",
       "  'SaleInstrument': '3',\n",
       "  'AFForestLand': 'N',\n",
       "  'AFCurrentUseLand': 'N',\n",
       "  'AFNonProfitUse': 'N',\n",
       "  'AFHistoricProperty': 'N',\n",
       "  'SaleReason': '1',\n",
       "  'PropertyClass': '8',\n",
       "  'SaleWarning': ' '},\n",
       " {'ExciseTaxNbr': '3080093',\n",
       "  'Major': '82204',\n",
       "  'Minor': '9037',\n",
       "  'DocumentDate': '10/27/2020',\n",
       "  'SalePrice': '0',\n",
       "  'RecordingNbr': '20201102000765',\n",
       "  'Volume': '   ',\n",
       "  'Page': '   ',\n",
       "  'PlatNbr': '      ',\n",
       "  'PlatType': ' ',\n",
       "  'PlatLot': '              ',\n",
       "  'PlatBlock': '       ',\n",
       "  'SellerName': 'BALA RAJNI                                        ',\n",
       "  'BuyerName': 'SINGH JOGA+BALA RAJNI                             ',\n",
       "  'PropertyType': '11',\n",
       "  'PrincipalUse': '6',\n",
       "  'SaleInstrument': '15',\n",
       "  'AFForestLand': 'N',\n",
       "  'AFCurrentUseLand': 'N',\n",
       "  'AFNonProfitUse': 'N',\n",
       "  'AFHistoricProperty': 'N',\n",
       "  'SaleReason': '18',\n",
       "  'PropertyClass': '8',\n",
       "  'SaleWarning': '18 51'},\n",
       " {'ExciseTaxNbr': '1235111',\n",
       "  'Major': '664885',\n",
       "  'Minor': '40',\n",
       "  'DocumentDate': '07/09/1991',\n",
       "  'SalePrice': '0',\n",
       "  'RecordingNbr': '199203161090  ',\n",
       "  'Volume': '071',\n",
       "  'Page': '001',\n",
       "  'PlatNbr': '664885',\n",
       "  'PlatType': 'C',\n",
       "  'PlatLot': 'B102          ',\n",
       "  'PlatBlock': '       ',\n",
       "  'SellerName': 'HERRMAN JEFFREY A+PAULINE A                       ',\n",
       "  'BuyerName': 'HERRMAN PAULINE A TTEE                            ',\n",
       "  'PropertyType': '3',\n",
       "  'PrincipalUse': '0',\n",
       "  'SaleInstrument': '26',\n",
       "  'AFForestLand': 'N',\n",
       "  'AFCurrentUseLand': 'N',\n",
       "  'AFNonProfitUse': 'N',\n",
       "  'AFHistoricProperty': 'N',\n",
       "  'SaleReason': '18',\n",
       "  'PropertyClass': '3',\n",
       "  'SaleWarning': '11'}]"
      ]
     },
<<<<<<< HEAD
     "execution_count": 10,
=======
     "execution_count": 12,
>>>>>>> upstream/main
     "metadata": {},
     "output_type": "execute_result"
    }
   ],
   "source": [
    "sales[0:3]"
   ]
  },
  {
   "cell_type": "markdown",
   "metadata": {},
   "source": [
    "# Data Preparation\n",
    "\n",
    "Now that we've gotten all of our data into a Python object, we can prepare it for analysis. Let's look at a sample observation and consider how we might want to process it to make it easier to analyze."
   ]
  },
  {
   "cell_type": "code",
   "execution_count": 13,
   "metadata": {},
   "outputs": [
    {
     "data": {
      "text/plain": [
       "{'ExciseTaxNbr': '2687551',\n",
       " 'Major': '138860',\n",
       " 'Minor': '110',\n",
       " 'DocumentDate': '08/21/2014',\n",
       " 'SalePrice': '245000',\n",
       " 'RecordingNbr': '20140828001436',\n",
       " 'Volume': '   ',\n",
       " 'Page': '   ',\n",
       " 'PlatNbr': '      ',\n",
       " 'PlatType': ' ',\n",
       " 'PlatLot': '              ',\n",
       " 'PlatBlock': '       ',\n",
       " 'SellerName': 'WENKLE NOEL SMITH -TRUSTEE                        ',\n",
       " 'BuyerName': 'ALEXANDER APRIL                                   ',\n",
       " 'PropertyType': '3',\n",
       " 'PrincipalUse': '6',\n",
       " 'SaleInstrument': '3',\n",
       " 'AFForestLand': 'N',\n",
       " 'AFCurrentUseLand': 'N',\n",
       " 'AFNonProfitUse': 'N',\n",
       " 'AFHistoricProperty': 'N',\n",
       " 'SaleReason': '1',\n",
       " 'PropertyClass': '8',\n",
       " 'SaleWarning': ' '}"
      ]
     },
     "execution_count": 13,
     "metadata": {},
     "output_type": "execute_result"
    }
   ],
   "source": [
    "sales[0]"
   ]
  },
  {
   "cell_type": "markdown",
   "metadata": {},
   "source": [
    "**Discussion:** How might you clean these data to tmake them easier to analyze?"
   ]
  },
  {
   "cell_type": "markdown",
   "metadata": {},
   "source": [
    "## Clean the Sale Prices\n",
    "\n",
    "First, let's convert the sale prices from strings to numbers, so we can do arithmetic with them. For example, we could calculate the average price."
   ]
  },
  {
   "cell_type": "code",
<<<<<<< HEAD
   "execution_count": 11,
=======
   "execution_count": 14,
>>>>>>> upstream/main
   "metadata": {},
   "outputs": [],
   "source": [
    "for sale in sales:\n",
    "    # Save the document date to a variable\n",
    "    string_price = sale[\"SalePrice\"]\n",
    "    \n",
    "    # Cast the sale price to int and add it to each dictionary element of sales\n",
    "    sale[\"sale_price\"] = int(string_price)"
   ]
  },
  {
   "cell_type": "code",
   "execution_count": 15,
   "metadata": {},
   "outputs": [
    {
     "data": {
      "text/plain": [
       "{'ExciseTaxNbr': '2687551',\n",
       " 'Major': '138860',\n",
       " 'Minor': '110',\n",
       " 'DocumentDate': '08/21/2014',\n",
       " 'SalePrice': '245000',\n",
       " 'RecordingNbr': '20140828001436',\n",
       " 'Volume': '   ',\n",
       " 'Page': '   ',\n",
       " 'PlatNbr': '      ',\n",
       " 'PlatType': ' ',\n",
       " 'PlatLot': '              ',\n",
       " 'PlatBlock': '       ',\n",
       " 'SellerName': 'WENKLE NOEL SMITH -TRUSTEE                        ',\n",
       " 'BuyerName': 'ALEXANDER APRIL                                   ',\n",
       " 'PropertyType': '3',\n",
       " 'PrincipalUse': '6',\n",
       " 'SaleInstrument': '3',\n",
       " 'AFForestLand': 'N',\n",
       " 'AFCurrentUseLand': 'N',\n",
       " 'AFNonProfitUse': 'N',\n",
       " 'AFHistoricProperty': 'N',\n",
       " 'SaleReason': '1',\n",
       " 'PropertyClass': '8',\n",
       " 'SaleWarning': ' ',\n",
       " 'sale_price': 245000}"
      ]
     },
     "execution_count": 15,
     "metadata": {},
     "output_type": "execute_result"
    }
   ],
   "source": [
    "sales[0]"
   ]
  },
  {
   "cell_type": "markdown",
   "metadata": {},
   "source": [
    "## Clean the Dates\n",
    "\n",
    "Next we'll clean the dates so that we can easily get the month and year of each sale. "
   ]
  },
  {
   "cell_type": "markdown",
   "metadata": {},
   "source": [
    "### Using Python built-in methods\n",
    "\n",
    "**Activity**: Process the `sales` list to add numeric values for month and year to each entry.\n",
    "\n",
    "<details>\n",
    "    <summary><b><u>Click Here for Answer Code</u></b></summary>\n",
    "    \n",
    "    for sale in sales:\n",
    "        # Save the document date to a variable\n",
    "        string_date = sale[\"DocumentDate\"]\n",
    "        \n",
    "        # Extract the sale year and month from the string, and cast to int\n",
    "        sale_year = int(string_date[6:10])\n",
    "        sale_month = int(string_date[0:2])    \n",
    "    \n",
    "        # Add the sale year and month to each dictionary element of sales\n",
    "        sale[\"sale_year\"] = sale_year\n",
    "        sale[\"sale_month\"] = sale_month\n",
    "</details>"
   ]
  },
  {
   "cell_type": "code",
<<<<<<< HEAD
   "execution_count": 14,
   "metadata": {},
   "outputs": [],
   "source": [
    "\n",
    " for sale in sales:\n",
=======
   "execution_count": 18,
   "metadata": {},
   "outputs": [
    {
     "data": {
      "text/plain": [
       "[{'ExciseTaxNbr': '2687551',\n",
       "  'Major': '138860',\n",
       "  'Minor': '110',\n",
       "  'DocumentDate': '08/21/2014',\n",
       "  'SalePrice': '245000',\n",
       "  'RecordingNbr': '20140828001436',\n",
       "  'Volume': '   ',\n",
       "  'Page': '   ',\n",
       "  'PlatNbr': '      ',\n",
       "  'PlatType': ' ',\n",
       "  'PlatLot': '              ',\n",
       "  'PlatBlock': '       ',\n",
       "  'SellerName': 'WENKLE NOEL SMITH -TRUSTEE                        ',\n",
       "  'BuyerName': 'ALEXANDER APRIL                                   ',\n",
       "  'PropertyType': '3',\n",
       "  'PrincipalUse': '6',\n",
       "  'SaleInstrument': '3',\n",
       "  'AFForestLand': 'N',\n",
       "  'AFCurrentUseLand': 'N',\n",
       "  'AFNonProfitUse': 'N',\n",
       "  'AFHistoricProperty': 'N',\n",
       "  'SaleReason': '1',\n",
       "  'PropertyClass': '8',\n",
       "  'SaleWarning': ' ',\n",
       "  'sale_price': 245000},\n",
       " {'ExciseTaxNbr': '3080093',\n",
       "  'Major': '82204',\n",
       "  'Minor': '9037',\n",
       "  'DocumentDate': '10/27/2020',\n",
       "  'SalePrice': '0',\n",
       "  'RecordingNbr': '20201102000765',\n",
       "  'Volume': '   ',\n",
       "  'Page': '   ',\n",
       "  'PlatNbr': '      ',\n",
       "  'PlatType': ' ',\n",
       "  'PlatLot': '              ',\n",
       "  'PlatBlock': '       ',\n",
       "  'SellerName': 'BALA RAJNI                                        ',\n",
       "  'BuyerName': 'SINGH JOGA+BALA RAJNI                             ',\n",
       "  'PropertyType': '11',\n",
       "  'PrincipalUse': '6',\n",
       "  'SaleInstrument': '15',\n",
       "  'AFForestLand': 'N',\n",
       "  'AFCurrentUseLand': 'N',\n",
       "  'AFNonProfitUse': 'N',\n",
       "  'AFHistoricProperty': 'N',\n",
       "  'SaleReason': '18',\n",
       "  'PropertyClass': '8',\n",
       "  'SaleWarning': '18 51',\n",
       "  'sale_price': 0}]"
      ]
     },
     "execution_count": 18,
     "metadata": {},
     "output_type": "execute_result"
    }
   ],
   "source": [
    "sales[:2]"
   ]
  },
  {
   "cell_type": "code",
   "execution_count": 25,
   "metadata": {},
   "outputs": [
    {
     "data": {
      "text/plain": [
       "'08/21/2014'"
      ]
     },
     "execution_count": 25,
     "metadata": {},
     "output_type": "execute_result"
    }
   ],
   "source": [
    "sales[0][\"DocumentDate\"][-4:]\n",
    "sales[0][\"DocumentDate\"][0:2]\n",
    "sales[0][\"DocumentDate\"]"
   ]
  },
  {
   "cell_type": "code",
   "execution_count": 26,
   "metadata": {},
   "outputs": [],
   "source": [
    "## Your work here\n",
    "for sale in sales:\n",
>>>>>>> upstream/main
    "        # Save the document date to a variable\n",
    "        string_date = sale[\"DocumentDate\"]\n",
    "        \n",
    "        # Extract the sale year and month from the string, and cast to int\n",
<<<<<<< HEAD
    "        sale_year = int(string_date[6:10])\n",
    "        sale_month = int(string_date[0:2])    \n",
    "    \n",
    "        # Add the sale year and month to each dictionary element of sales\n",
=======
    "        sale_year = int(string_date[6:10]) #2014 for first row value\n",
    "        sale_month = int(string_date[0:2]) #08 for the first row value   \n",
    "    \n",
    "        # Add the sale year and month to each dictionary element of sales\n",
    "        # you can easily create a new column in your data assigning some new value to a dict['key'] variable.\n",
>>>>>>> upstream/main
    "        sale[\"sale_year\"] = sale_year\n",
    "        sale[\"sale_month\"] = sale_month"
   ]
  },
  {
   "cell_type": "code",
   "execution_count": 15,
   "metadata": {},
   "outputs": [
    {
     "data": {
      "text/plain": [
       "{'ExciseTaxNbr': '2687551',\n",
       " 'Major': '138860',\n",
       " 'Minor': '110',\n",
       " 'DocumentDate': '08/21/2014',\n",
       " 'SalePrice': '245000',\n",
       " 'RecordingNbr': '20140828001436',\n",
       " 'Volume': '   ',\n",
       " 'Page': '   ',\n",
       " 'PlatNbr': '      ',\n",
       " 'PlatType': ' ',\n",
       " 'PlatLot': '              ',\n",
       " 'PlatBlock': '       ',\n",
       " 'SellerName': 'WENKLE NOEL SMITH -TRUSTEE                        ',\n",
       " 'BuyerName': 'ALEXANDER APRIL                                   ',\n",
       " 'PropertyType': '3',\n",
       " 'PrincipalUse': '6',\n",
       " 'SaleInstrument': '3',\n",
       " 'AFForestLand': 'N',\n",
       " 'AFCurrentUseLand': 'N',\n",
       " 'AFNonProfitUse': 'N',\n",
       " 'AFHistoricProperty': 'N',\n",
       " 'SaleReason': '1',\n",
       " 'PropertyClass': '8',\n",
       " 'SaleWarning': ' ',\n",
       " 'sale_price': 245000,\n",
       " 'sale_year': 2014,\n",
       " 'sale_month': 8}"
      ]
     },
     "execution_count": 15,
     "metadata": {},
     "output_type": "execute_result"
    }
   ],
   "source": [
    "sales[0]"
   ]
  },
  {
   "cell_type": "markdown",
   "metadata": {},
   "source": [
    "# Data Analysis\n",
    "\n",
    "Now that you have a cleaned list with the property sales data, we can finally start to perform some data analysis."
   ]
  },
  {
   "cell_type": "markdown",
   "metadata": {},
   "source": [
    "## Question 1: What is the range of years for which we have sales data?\n",
    "\n",
    "<details>\n",
    "            <summary><b><u>Click Here for Answer Code</u></b></summary>\n",
    "    \n",
    "    sale_years = [sale['sale_year'] for sale in sales]\n",
    "    print(min(sale_years))\n",
    "    print(max(sale_years))\n",
    "</details>"
   ]
  },
  {
   "cell_type": "code",
<<<<<<< HEAD
   "execution_count": 21,
   "metadata": {},
   "outputs": [
    {
     "name": "stdout",
     "output_type": "stream",
     "text": [
      "1958\n",
      "2021\n"
     ]
=======
   "execution_count": 28,
   "metadata": {},
   "outputs": [
    {
     "data": {
      "text/plain": [
       "(1958, 2021)"
      ]
     },
     "execution_count": 28,
     "metadata": {},
     "output_type": "execute_result"
>>>>>>> upstream/main
    }
   ],
   "source": [
    "## Your work here\n",
<<<<<<< HEAD
    "sale_years = [sale['sale_year'] for sale in sales]\n",
    "print(min(sale_years))\n",
    "print(max(sale_years))"
=======
    "\n",
    "years = []\n",
    "for sale in sales:\n",
    "    years.append(sale[\"sale_year\"])\n",
    "    \n",
    "(min(years), max(years))"
>>>>>>> upstream/main
   ]
  },
  {
   "cell_type": "markdown",
   "metadata": {},
   "source": [
    "## Question 2: How many properties sold in 2020?\n",
    "\n",
    "` \n",
    "    sale_years = [sale['sale_year'] for sale in sales]\n",
    "    sale_years_2020 = [year for year in sale_years if year == 2020]\n",
    "    len(sale_years_2020)\n",
    "`"
   ]
  },
  {
   "cell_type": "code",
<<<<<<< HEAD
   "execution_count": 25,
   "metadata": {},
   "outputs": [
    {
     "data": {
      "text/plain": [
       "419"
      ]
     },
     "execution_count": 25,
     "metadata": {},
     "output_type": "execute_result"
=======
   "execution_count": 30,
   "metadata": {},
   "outputs": [
    {
     "name": "stdout",
     "output_type": "stream",
     "text": [
      "the number of property sales in 2020 is 419\n"
     ]
>>>>>>> upstream/main
    }
   ],
   "source": [
    "## Your work here\n",
<<<<<<< HEAD
    "sale_years = [sale['sale_year'] for sale in sales]\n",
    "sale_years_2020 = [year for year in sale_years  if year == 2020]\n",
    "len(sale_years_2020)"
=======
    "\n",
    "# find number of unique property records\n",
    "\n",
    "num = 0\n",
    "\n",
    "for sale in sales:\n",
    "    if sale[\"sale_year\"] == 2020:\n",
    "        num +=1\n",
    "print(f\"the number of property sales in 2020 is {num}\")"
>>>>>>> upstream/main
   ]
  },
  {
   "cell_type": "markdown",
   "metadata": {},
   "source": [
    "## Question 3: What was the mean sale price in 2020?\n",
    "\n",
    "<details>\n",
    "            <summary><b><u>Click Here for Answer Code</u></b></summary>\n",
    "    \n",
    "    sale_prices_2020 = [sale['sale_price'] for sale in sales if sale['sale_year'] == 2020]\n",
    "    sum(sale_prices_2020)/len(sale_prices_2020)\n",
    "</details>"
   ]
  },
  {
   "cell_type": "code",
<<<<<<< HEAD
   "execution_count": 26,
=======
   "execution_count": 33,
>>>>>>> upstream/main
   "metadata": {},
   "outputs": [
    {
     "data": {
      "text/plain": [
       "3575874.61575179"
      ]
     },
<<<<<<< HEAD
     "execution_count": 26,
=======
     "execution_count": 33,
>>>>>>> upstream/main
     "metadata": {},
     "output_type": "execute_result"
    }
   ],
   "source": [
    "## Your work here\n",
<<<<<<< HEAD
    "sale_prices_2020 = [sale['sale_price'] for sale in sales if sale['sale_year'] == 2020]\n",
    "sum(sale_prices_2020)/len(sale_prices_2020)"
=======
    "\n",
    "sale_num = 0\n",
    "total_sale_amount= 0\n",
    "\n",
    "for sale in sales:\n",
    "    if sale[\"sale_year\"] == 2020:\n",
    "        sale_num += 1\n",
    "        total_sale_amount += int(sale[\"sale_price\"])\n",
    "\n",
    "average = total_sale_amount/sale_num\n",
    "average\n",
    "        \n",
    "        "
>>>>>>> upstream/main
   ]
  },
  {
   "cell_type": "markdown",
   "metadata": {},
   "source": [
    "## Question 4: How many properties sold in each year?\n",
    "\n",
    "<details>\n",
    "            <summary><b><u>Click Here for Answer Code</u></b></summary>\n",
    "   \n",
    "    sale_year_count = []\n",
    "    sale_years = [sale['sale_year'] for sale in sales]\n",
    "    unique_sale_years = set(sale_years)\n",
    "    for unique_year in unique_sale_years:\n",
    "        num_sales = len([year for year in sale_years if year == unique_year])\n",
    "        sale_year_count.append((unique_year, num_sales))\n",
    "        print(unique_year, num_sales)\n",
    "    \n",
    "</details>"
   ]
  },
  {
   "cell_type": "code",
<<<<<<< HEAD
   "execution_count": 28,
=======
   "execution_count": 34,
>>>>>>> upstream/main
   "metadata": {},
   "outputs": [
    {
     "name": "stdout",
     "output_type": "stream",
     "text": [
      "1958 1\n",
      "1966 1\n",
      "1974 1\n",
      "1976 1\n",
      "1979 1\n",
      "1981 2\n",
      "1982 32\n",
      "1983 36\n",
      "1984 48\n",
      "1985 44\n",
      "1986 74\n",
      "1987 77\n",
      "1988 66\n",
      "1989 75\n",
      "1990 68\n",
      "1991 81\n",
      "1992 338\n",
      "1993 353\n",
      "1994 267\n",
      "1995 246\n",
      "1996 347\n",
      "1997 306\n",
      "1998 349\n",
      "1999 406\n",
      "2000 279\n",
      "2001 342\n",
      "2002 325\n",
      "2003 380\n",
      "2004 447\n",
      "2005 442\n",
      "2006 389\n",
      "2007 319\n",
      "2008 231\n",
      "2009 264\n",
      "2010 230\n",
      "2011 218\n",
      "2012 364\n",
      "2013 295\n",
      "2014 299\n",
      "2015 376\n",
      "2016 290\n",
      "2017 288\n",
      "2018 281\n",
      "2019 241\n",
      "2020 419\n",
      "2021 61\n"
     ]
    }
   ],
   "source": [
    "## Your work here\n",
<<<<<<< HEAD
    "sale_year_count = []\n",
    "sale_years = [sale['sale_year'] for sale in sales]\n",
    "unique_sale_years = set(sale_years)\n",
    "for unique_year in unique_sale_years:\n",
    "    num_sales = len([year for year in sale_years if year == unique_year])\n",
    "    sale_year_count.append((unique_year, num_sales))\n",
    "    print(unique_year, num_sales)"
=======
    "\n",
    "split_sales = {}\n",
    "for sale in sales:\n",
    "    if sale[\"sale_year\"] not in split_sales.keys():\n",
    "        split_sales[sale[\"sale_year\"]] = 1\n",
    "    else:\n",
    "        split_sales[sale[\"sale_year\"]] += 1"
   ]
  },
  {
   "cell_type": "code",
   "execution_count": 36,
   "metadata": {},
   "outputs": [
    {
     "name": "stdout",
     "output_type": "stream",
     "text": [
      "1958 1\n",
      "1966 1\n",
      "1974 1\n",
      "1976 1\n",
      "1979 1\n",
      "1981 2\n",
      "1982 32\n",
      "1983 36\n",
      "1984 48\n",
      "1985 44\n",
      "1986 74\n",
      "1987 77\n",
      "1988 66\n",
      "1989 75\n",
      "1990 68\n",
      "1991 81\n",
      "1992 338\n",
      "1993 353\n",
      "1994 267\n",
      "1995 246\n",
      "1996 347\n",
      "1997 306\n",
      "1998 349\n",
      "1999 406\n",
      "2000 279\n",
      "2001 342\n",
      "2002 325\n",
      "2003 380\n",
      "2004 447\n",
      "2005 442\n",
      "2006 389\n",
      "2007 319\n",
      "2008 231\n",
      "2009 264\n",
      "2010 230\n",
      "2011 218\n",
      "2012 364\n",
      "2013 295\n",
      "2014 299\n",
      "2015 376\n",
      "2016 290\n",
      "2017 288\n",
      "2018 281\n",
      "2019 241\n",
      "2020 419\n",
      "2021 61\n"
     ]
    }
   ],
   "source": [
    "    sale_year_count = []\n",
    "    sale_years = [sale['sale_year'] for sale in sales]\n",
    "    unique_sale_years = set(sale_years)\n",
    "    for unique_year in unique_sale_years:\n",
    "        num_sales = len([year for year in sale_years if year == unique_year])\n",
    "        sale_year_count.append((unique_year, num_sales))\n",
    "        print(unique_year, num_sales)"
   ]
  },
  {
   "cell_type": "code",
   "execution_count": 35,
   "metadata": {},
   "outputs": [
    {
     "data": {
      "text/plain": [
       "{2014: 299,\n",
       " 2020: 419,\n",
       " 1991: 81,\n",
       " 2013: 295,\n",
       " 2019: 241,\n",
       " 1989: 75,\n",
       " 2003: 380,\n",
       " 2001: 342,\n",
       " 1983: 36,\n",
       " 1999: 406,\n",
       " 2006: 389,\n",
       " 1982: 32,\n",
       " 1987: 77,\n",
       " 2017: 288,\n",
       " 2012: 364,\n",
       " 1990: 68,\n",
       " 2009: 264,\n",
       " 2004: 447,\n",
       " 1998: 349,\n",
       " 2008: 231,\n",
       " 2000: 279,\n",
       " 2015: 376,\n",
       " 2007: 319,\n",
       " 2011: 218,\n",
       " 1997: 306,\n",
       " 2005: 442,\n",
       " 1992: 338,\n",
       " 2016: 290,\n",
       " 2021: 61,\n",
       " 1996: 347,\n",
       " 1995: 246,\n",
       " 2010: 230,\n",
       " 1994: 267,\n",
       " 1993: 353,\n",
       " 2002: 325,\n",
       " 2018: 281,\n",
       " 1984: 48,\n",
       " 1986: 74,\n",
       " 1988: 66,\n",
       " 1974: 1,\n",
       " 1985: 44,\n",
       " 1976: 1,\n",
       " 1966: 1,\n",
       " 1981: 2,\n",
       " 1958: 1,\n",
       " 1979: 1}"
      ]
     },
     "execution_count": 35,
     "metadata": {},
     "output_type": "execute_result"
    }
   ],
   "source": [
    "split_sales"
>>>>>>> upstream/main
   ]
  },
  {
   "cell_type": "markdown",
   "metadata": {},
   "source": [
    "# Chart the Data"
   ]
  },
  {
   "cell_type": "markdown",
   "metadata": {},
   "source": [
    "This `list` of `tuples` is helpful, but it takes a lot of effort to read it and make sense of the trends - let's visualize the results to make this easier."
   ]
  },
  {
   "cell_type": "code",
<<<<<<< HEAD
   "execution_count": 27,
=======
   "execution_count": 37,
>>>>>>> upstream/main
   "metadata": {},
   "outputs": [],
   "source": [
    "from matplotlib import pyplot as plt"
   ]
  },
  {
   "cell_type": "code",
<<<<<<< HEAD
   "execution_count": 29,
=======
   "execution_count": 38,
>>>>>>> upstream/main
   "metadata": {},
   "outputs": [
    {
     "data": {
<<<<<<< HEAD
      "image/png": "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",
      "text/plain": [
       "<Figure size 1000x500 with 1 Axes>"
      ]
     },
     "metadata": {},
     "output_type": "display_data"
    },
    {
     "ename": "",
     "evalue": "",
     "output_type": "error",
     "traceback": [
      "\u001b[1;31mThe Kernel crashed while executing code in the the current cell or a previous cell. Please review the code in the cell(s) to identify a possible cause of the failure. Click <a href='https://aka.ms/vscodeJupyterKernelCrash'>here</a> for more info. View Jupyter <a href='command:jupyter.viewOutput'>log</a> for further details."
     ]
=======
      "image/png": "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\n",
      "text/plain": [
       "<Figure size 720x360 with 1 Axes>"
      ]
     },
     "metadata": {
      "needs_background": "light"
     },
     "output_type": "display_data"
>>>>>>> upstream/main
    }
   ],
   "source": [
    "# create a figure and one plot\n",
    "fig, ax = plt.subplots(nrows=1, ncols=1, figsize=(10, 5))\n",
    "\n",
    "# place data in a bar chart \n",
    "# where the x-axis is each year and \n",
    "# the y-axis is the number of sales per year\n",
    "ax.bar(x=[sale[0] for sale in sale_year_count],\n",
    "       height=[sale[1] for sale in sale_year_count])\n",
    "\n",
    "# set axis labels\n",
    "ax.set_xlabel(\"Year\")\n",
    "ax.set_ylabel(\"Number of property sales\")\n",
    "\n",
    "# give the bar chart a title\n",
    "ax.set_title(\"Property sales in King County, WA (1900 to 2021)\")\n",
    "\n",
    "# display bar chart clearly\n",
    "fig.tight_layout()"
   ]
  },
  {
   "cell_type": "markdown",
   "metadata": {},
   "source": [
    "**Discussion:** What can we learn from this graph?"
   ]
  },
  {
   "cell_type": "markdown",
   "metadata": {},
   "source": [
    "# Level Up: `Counter`\n",
    "\n",
    "The `collections` package has a lot of useful tools for working with Python objects containing multiple elements. You can use the `Counter` class to easily count the number of values in a list.\n",
    "\n",
    "For example, let's say that for all dictionaries in `sales`, we want to count how many property sales occured in each year. "
   ]
  },
  {
   "cell_type": "code",
   "execution_count": 39,
   "metadata": {},
   "outputs": [
    {
     "data": {
      "text/plain": [
       "Counter({2014: 299,\n",
       "         2020: 419,\n",
       "         1991: 81,\n",
       "         2013: 295,\n",
       "         2019: 241,\n",
       "         1989: 75,\n",
       "         2003: 380,\n",
       "         2001: 342,\n",
       "         1983: 36,\n",
       "         1999: 406,\n",
       "         2006: 389,\n",
       "         1982: 32,\n",
       "         1987: 77,\n",
       "         2017: 288,\n",
       "         2012: 364,\n",
       "         1990: 68,\n",
       "         2009: 264,\n",
       "         2004: 447,\n",
       "         1998: 349,\n",
       "         2008: 231,\n",
       "         2000: 279,\n",
       "         2015: 376,\n",
       "         2007: 319,\n",
       "         2011: 218,\n",
       "         1997: 306,\n",
       "         2005: 442,\n",
       "         1992: 338,\n",
       "         2016: 290,\n",
       "         2021: 61,\n",
       "         1996: 347,\n",
       "         1995: 246,\n",
       "         2010: 230,\n",
       "         1994: 267,\n",
       "         1993: 353,\n",
       "         2002: 325,\n",
       "         2018: 281,\n",
       "         1984: 48,\n",
       "         1986: 74,\n",
       "         1988: 66,\n",
       "         1974: 1,\n",
       "         1985: 44,\n",
       "         1976: 1,\n",
       "         1966: 1,\n",
       "         1981: 2,\n",
       "         1958: 1,\n",
       "         1979: 1})"
      ]
     },
     "execution_count": 39,
     "metadata": {},
     "output_type": "execute_result"
    }
   ],
   "source": [
    "from collections import Counter\n",
    "\n",
    "sale_year_count = Counter([sale['sale_year'] for sale in sales]) # <object/value> for <dummy_var> in <iterable>\n",
    "sale_year_count"
   ]
  },
  {
   "cell_type": "markdown",
   "metadata": {},
   "source": [
    "Let's sort these by year. Since the value in `sale_year` is an integer, we can use Python's built-in [`sorted`](https://docs.python.org/3/library/functions.html#sorted) function to transform the `Counter` object into a `list` of `tuples` - `(year, count)` which are sorted in ascending order by year."
   ]
  },
  {
   "cell_type": "code",
   "execution_count": 40,
   "metadata": {},
   "outputs": [
    {
     "data": {
      "text/plain": [
       "[(1958, 1),\n",
       " (1966, 1),\n",
       " (1974, 1),\n",
       " (1976, 1),\n",
       " (1979, 1),\n",
       " (1981, 2),\n",
       " (1982, 32),\n",
       " (1983, 36),\n",
       " (1984, 48),\n",
       " (1985, 44),\n",
       " (1986, 74),\n",
       " (1987, 77),\n",
       " (1988, 66),\n",
       " (1989, 75),\n",
       " (1990, 68),\n",
       " (1991, 81),\n",
       " (1992, 338),\n",
       " (1993, 353),\n",
       " (1994, 267),\n",
       " (1995, 246),\n",
       " (1996, 347),\n",
       " (1997, 306),\n",
       " (1998, 349),\n",
       " (1999, 406),\n",
       " (2000, 279),\n",
       " (2001, 342),\n",
       " (2002, 325),\n",
       " (2003, 380),\n",
       " (2004, 447),\n",
       " (2005, 442),\n",
       " (2006, 389),\n",
       " (2007, 319),\n",
       " (2008, 231),\n",
       " (2009, 264),\n",
       " (2010, 230),\n",
       " (2011, 218),\n",
       " (2012, 364),\n",
       " (2013, 295),\n",
       " (2014, 299),\n",
       " (2015, 376),\n",
       " (2016, 290),\n",
       " (2017, 288),\n",
       " (2018, 281),\n",
       " (2019, 241),\n",
       " (2020, 419),\n",
       " (2021, 61)]"
      ]
     },
     "execution_count": 40,
     "metadata": {},
     "output_type": "execute_result"
    }
   ],
   "source": [
    "sale_year_count = sorted(sale_year_count.items())\n",
    "sale_year_count"
   ]
  },
  {
   "cell_type": "markdown",
   "metadata": {},
   "source": [
    "# Level Up: Using `datetime`"
   ]
  },
  {
   "cell_type": "markdown",
   "metadata": {},
   "source": [
    "Python has a [`datetime`](https://docs.python.org/3.7/library/datetime.html) package that is the standard tool for handling dates and times. `datetime` objects make it easy to do fun things like subtract dates to calculate how far apart they are."
   ]
  },
  {
   "cell_type": "code",
   "execution_count": 41,
   "metadata": {},
   "outputs": [],
   "source": [
    "from datetime import datetime"
   ]
  },
  {
   "cell_type": "code",
   "execution_count": 42,
   "metadata": {},
   "outputs": [
    {
     "data": {
      "text/plain": [
       "'03/12/2004'"
      ]
     },
     "execution_count": 42,
     "metadata": {},
     "output_type": "execute_result"
    }
   ],
   "source": [
    "sale[\"DocumentDate\"]"
   ]
  },
  {
   "cell_type": "code",
   "execution_count": 43,
   "metadata": {},
   "outputs": [],
   "source": [
    "for sale in sales:\n",
    "    # Transform DocumentDate from string to datetime\n",
    "    sale[\"clean_date\"] = datetime.strptime(sale[\"DocumentDate\"], \n",
    "                                           \"%m/%d/%Y\")\n",
    "    \n",
    "    # Add the sale year and month to each dictionary element of sales\n",
    "    sale[\"sale_year\"] = sale[\"clean_date\"].year\n",
    "    sale[\"sale_month\"] = sale[\"clean_date\"].month"
   ]
  },
  {
   "cell_type": "markdown",
   "metadata": {},
   "source": [
    "Let's inspect our work"
   ]
  },
  {
   "cell_type": "code",
   "execution_count": 44,
   "metadata": {},
   "outputs": [
    {
     "data": {
      "text/plain": [
       "{'ExciseTaxNbr': '2687551',\n",
       " 'Major': '138860',\n",
       " 'Minor': '110',\n",
       " 'DocumentDate': '08/21/2014',\n",
       " 'SalePrice': '245000',\n",
       " 'RecordingNbr': '20140828001436',\n",
       " 'Volume': '   ',\n",
       " 'Page': '   ',\n",
       " 'PlatNbr': '      ',\n",
       " 'PlatType': ' ',\n",
       " 'PlatLot': '              ',\n",
       " 'PlatBlock': '       ',\n",
       " 'SellerName': 'WENKLE NOEL SMITH -TRUSTEE                        ',\n",
       " 'BuyerName': 'ALEXANDER APRIL                                   ',\n",
       " 'PropertyType': '3',\n",
       " 'PrincipalUse': '6',\n",
       " 'SaleInstrument': '3',\n",
       " 'AFForestLand': 'N',\n",
       " 'AFCurrentUseLand': 'N',\n",
       " 'AFNonProfitUse': 'N',\n",
       " 'AFHistoricProperty': 'N',\n",
       " 'SaleReason': '1',\n",
       " 'PropertyClass': '8',\n",
       " 'SaleWarning': ' ',\n",
       " 'sale_price': 245000,\n",
       " 'sale_year': 2014,\n",
       " 'sale_month': 8,\n",
       " 'clean_date': datetime.datetime(2014, 8, 21, 0, 0)}"
      ]
     },
     "execution_count": 44,
     "metadata": {},
     "output_type": "execute_result"
    }
   ],
   "source": [
    "sales[0]"
   ]
  },
  {
   "cell_type": "code",
   "execution_count": null,
   "metadata": {},
   "outputs": [],
   "source": []
  }
 ],
 "metadata": {
  "kernelspec": {
   "display_name": "Python 3",
   "language": "python",
   "name": "python3"
  },
  "language_info": {
   "codemirror_mode": {
    "name": "ipython",
    "version": 3
   },
   "file_extension": ".py",
   "mimetype": "text/x-python",
   "name": "python",
   "nbconvert_exporter": "python",
   "pygments_lexer": "ipython3",
   "version": "3.11.4"
  },
  "toc": {
   "base_numbering": 1,
   "nav_menu": {},
   "number_sections": true,
   "sideBar": true,
   "skip_h1_title": false,
   "title_cell": "Table of Contents",
   "title_sidebar": "Contents",
   "toc_cell": true,
   "toc_position": {},
   "toc_section_display": true,
   "toc_window_display": false
  }
 },
 "nbformat": 4,
 "nbformat_minor": 4
}
